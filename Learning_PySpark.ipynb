{
  "cells": [
    {
      "cell_type": "markdown",
      "metadata": {
        "id": "view-in-github",
        "colab_type": "text"
      },
      "source": [
        "<a href=\"https://colab.research.google.com/github/ashucreative/PySpark_Notes/blob/main/Learning_PySpark.ipynb\" target=\"_parent\"><img src=\"https://colab.research.google.com/assets/colab-badge.svg\" alt=\"Open In Colab\"/></a>"
      ]
    },
    {
      "cell_type": "code",
      "execution_count": 1,
      "metadata": {
        "id": "rxO16Izn_Axv"
      },
      "outputs": [],
      "source": [
        "###  LINK TO YOUR FILE HERE\n",
        "link =  \"https://drive.google.com/file/d/1aAaX3cAlV-a5QAVluqTS2oA2A3ezyXKL/view?usp=sharing\""
      ]
    },
    {
      "cell_type": "markdown",
      "metadata": {
        "id": "pSNQsXBYhd6I"
      },
      "source": [
        "#### Installation and Set up"
      ]
    },
    {
      "cell_type": "code",
      "execution_count": 2,
      "metadata": {
        "id": "sFFtMJ1IBxIQ"
      },
      "outputs": [],
      "source": [
        "## Install PySpark and Create a Spark Session\n",
        "## pip install pyspark\n",
        "!pip install -q pyspark\n",
        "\n",
        "## Creating Spark Session\n",
        "from pyspark.sql import SparkSession\n",
        "spark= SparkSession.builder.appName(\"test-app\").getOrCreate()"
      ]
    },
    {
      "cell_type": "markdown",
      "metadata": {
        "id": "0RsEox-uJIMo"
      },
      "source": [
        "### Chapter 1 : Get Familiar with Spark\n",
        "#### Set up Spark , Read the file into Spark Dataframe, and run basic commands like show(), printSchema() and etc."
      ]
    },
    {
      "cell_type": "code",
      "execution_count": 3,
      "metadata": {
        "colab": {
          "base_uri": "https://localhost:8080/"
        },
        "id": "_Xll5dvB-pF6",
        "outputId": "0e6c7cbd-4f47-43c0-838f-44af540493f5"
      },
      "outputs": [
        {
          "output_type": "stream",
          "name": "stdout",
          "text": [
            "Successfully Created Spark Dataframe named as data\n"
          ]
        }
      ],
      "source": [
        "import requests\n",
        "import pandas as pd\n",
        "import re\n",
        "import io\n",
        "\n",
        "## extract file id from the link\n",
        "\n",
        "file_id = re.search(r\"(?<=/d/)[^/]+\", link).group(0)\n",
        "\n",
        "## create download url for requests\n",
        "url = f'https://drive.google.com/uc?export=download&id={file_id}'\n",
        "\n",
        "# Send a GET request to the URL\n",
        "response = requests.get(url)\n",
        "\n",
        "# Check if the request was successful\n",
        "if response.status_code == 200:\n",
        "\n",
        "    ## In Spark we cannnot use in memory file object with StrinIO so need to create a temp file first\n",
        "    # Write the content to a temporary file\n",
        "    temp_file_path = \"temp_file.csv\"\n",
        "    with open(temp_file_path, 'w', encoding='utf-8') as temp_file:\n",
        "        temp_file.write(response.text)\n",
        "\n",
        "    # Load the data into spark DF using temp file path\n",
        "    data = spark.read.csv(temp_file_path , header = True, inferSchema = True)\n",
        "    print(\"Successfully Created Spark Dataframe named as data\")\n",
        "else:\n",
        "    print(f\"Failed to download file. Status code: {response.status_code}\")\n"
      ]
    },
    {
      "cell_type": "code",
      "execution_count": 4,
      "metadata": {
        "colab": {
          "base_uri": "https://localhost:8080/"
        },
        "id": "fBJoTVvh_5Bs",
        "outputId": "bd466336-26fb-4f4a-ed1b-0589d08192b2"
      },
      "outputs": [
        {
          "output_type": "stream",
          "name": "stdout",
          "text": [
            "+----------+-------------+------------+-------------------+-------------------+-------------------+-------------------+---------------------------+---------------------------+---------------+---------------+--------------------+------------+-------------+----------------+---------+----------------+--------------------------+--------------------------+----------------------------+----------------------------+-----------------------------+----------------------------+----------------------------+-----------------------------+\n",
            "|      date|    home_team|   away_team|home_team_continent|away_team_continent|home_team_fifa_rank|away_team_fifa_rank|home_team_total_fifa_points|away_team_total_fifa_points|home_team_score|away_team_score|          tournament|        city|      country|neutral_location|shoot_out|home_team_result|home_team_goalkeeper_score|away_team_goalkeeper_score|home_team_mean_defense_score|home_team_mean_offense_score|home_team_mean_midfield_score|away_team_mean_defense_score|away_team_mean_offense_score|away_team_mean_midfield_score|\n",
            "+----------+-------------+------------+-------------------+-------------------+-------------------+-------------------+---------------------------+---------------------------+---------------+---------------+--------------------+------------+-------------+----------------+---------+----------------+--------------------------+--------------------------+----------------------------+----------------------------+-----------------------------+----------------------------+----------------------------+-----------------------------+\n",
            "|1993-08-08|      Bolivia|     Uruguay|      South America|      South America|                 59|                 22|                          0|                          0|              3|              1|FIFA World Cup qu...|      La Paz|      Bolivia|           false|       No|             Win|                      NULL|                      NULL|                        NULL|                        NULL|                         NULL|                        NULL|                        NULL|                         NULL|\n",
            "|1993-08-08|       Brazil|      Mexico|      South America|      North America|                  8|                 14|                          0|                          0|              1|              1|            Friendly|      Maceió|       Brazil|           false|       No|            Draw|                      NULL|                      NULL|                        NULL|                        NULL|                         NULL|                        NULL|                        NULL|                         NULL|\n",
            "|1993-08-08|      Ecuador|   Venezuela|      South America|      South America|                 35|                 94|                          0|                          0|              5|              0|FIFA World Cup qu...|       Quito|      Ecuador|           false|       No|             Win|                      NULL|                      NULL|                        NULL|                        NULL|                         NULL|                        NULL|                        NULL|                         NULL|\n",
            "|1993-08-08|       Guinea|Sierra Leone|             Africa|             Africa|                 65|                 86|                          0|                          0|              1|              0|            Friendly|     Conakry|       Guinea|           false|       No|             Win|                      NULL|                      NULL|                        NULL|                        NULL|                         NULL|                        NULL|                        NULL|                         NULL|\n",
            "|1993-08-08|     Paraguay|   Argentina|      South America|      South America|                 67|                  5|                          0|                          0|              1|              3|FIFA World Cup qu...|    Asunción|     Paraguay|           false|       No|            Lose|                      NULL|                      NULL|                        NULL|                        NULL|                         NULL|                        NULL|                        NULL|                         NULL|\n",
            "|1993-08-08|         Peru|    Colombia|      South America|      South America|                 70|                 19|                          0|                          0|              0|              1|FIFA World Cup qu...|        Lima|         Peru|           false|       No|            Lose|                      NULL|                      NULL|                        NULL|                        NULL|                         NULL|                        NULL|                        NULL|                         NULL|\n",
            "|1993-08-08|     Zimbabwe|    Eswatini|             Africa|             Africa|                 50|                102|                          0|                          0|              2|              0|            Friendly|      Harare|     Zimbabwe|           false|       No|             Win|                      NULL|                      NULL|                        NULL|                        NULL|                         NULL|                        NULL|                        NULL|                         NULL|\n",
            "|1993-08-09|       Guinea|Sierra Leone|             Africa|             Africa|                 65|                 86|                          0|                          0|              4|              0|            Friendly|     Conakry|       Guinea|           false|       No|             Win|                      NULL|                      NULL|                        NULL|                        NULL|                         NULL|                        NULL|                        NULL|                         NULL|\n",
            "|1993-08-11|Faroe Islands|      Norway|             Europe|             Europe|                111|                  9|                          0|                          0|              0|              7|            Friendly|      Toftir|Faroe Islands|           false|       No|            Lose|                      NULL|                      NULL|                        NULL|                        NULL|                         NULL|                        NULL|                        NULL|                         NULL|\n",
            "|1993-08-11|       Sweden| Switzerland|             Europe|             Europe|                  4|                  3|                          0|                          0|              1|              2|            Friendly|       Borås|       Sweden|           false|       No|            Lose|                      NULL|                      NULL|                        NULL|                        NULL|                         NULL|                        NULL|                        NULL|                         NULL|\n",
            "|1993-08-15|    Australia|      Canada|            Oceania|      North America|                 52|                 46|                          0|                          0|              2|              1|FIFA World Cup qu...|      Sydney|    Australia|           false|      Yes|             Win|                      NULL|                      NULL|                        NULL|                        NULL|                         NULL|                        NULL|                        NULL|                         NULL|\n",
            "|1993-08-15|      Bolivia|     Ecuador|      South America|      South America|                 59|                 35|                          0|                          0|              1|              0|FIFA World Cup qu...|      La Paz|      Bolivia|           false|       No|             Win|                      NULL|                      NULL|                        NULL|                        NULL|                         NULL|                        NULL|                        NULL|                         NULL|\n",
            "|1993-08-15|     Colombia|   Argentina|      South America|      South America|                 19|                  5|                          0|                          0|              2|              1|FIFA World Cup qu...|Barranquilla|     Colombia|           false|       No|             Win|                      NULL|                      NULL|                        NULL|                        NULL|                         NULL|                        NULL|                        NULL|                         NULL|\n",
            "|1993-08-15|        Congo|      Guinea|             Africa|             Africa|                107|                 65|                          0|                          0|              0|              0|African Cup of Na...|Pointe-Noire|        Congo|           false|       No|            Draw|                      NULL|                      NULL|                        NULL|                        NULL|                         NULL|                        NULL|                        NULL|                         NULL|\n",
            "|1993-08-15|      Uruguay|      Brazil|      South America|      South America|                 22|                  8|                          0|                          0|              1|              1|FIFA World Cup qu...|  Montevideo|      Uruguay|           false|       No|            Draw|                      NULL|                      NULL|                        NULL|                        NULL|                         NULL|                        NULL|                        NULL|                         NULL|\n",
            "|1993-08-22|    Argentina|        Peru|      South America|      South America|                  5|                 70|                          0|                          0|              2|              1|FIFA World Cup qu...|Buenos Aires|    Argentina|           false|       No|             Win|                      NULL|                      NULL|                        NULL|                        NULL|                         NULL|                        NULL|                        NULL|                         NULL|\n",
            "|1993-08-22|      Bolivia|   Venezuela|      South America|      South America|                 59|                 94|                          0|                          0|              7|              0|FIFA World Cup qu...|      La Paz|      Bolivia|           false|       No|             Win|                      NULL|                      NULL|                        NULL|                        NULL|                         NULL|                        NULL|                        NULL|                         NULL|\n",
            "|1993-08-22|       Brazil|     Ecuador|      South America|      South America|                  8|                 35|                          0|                          0|              2|              0|FIFA World Cup qu...|   São Paulo|       Brazil|           false|       No|             Win|                      NULL|                      NULL|                        NULL|                        NULL|                         NULL|                        NULL|                        NULL|                         NULL|\n",
            "|1993-08-22|     Paraguay|    Colombia|      South America|      South America|                 67|                 19|                          0|                          0|              1|              1|FIFA World Cup qu...|    Asunción|     Paraguay|           false|       No|            Draw|                      NULL|                      NULL|                        NULL|                        NULL|                         NULL|                        NULL|                        NULL|                         NULL|\n",
            "|1993-08-22|       Sweden|      France|             Europe|             Europe|                  4|                 12|                          0|                          0|              1|              1|FIFA World Cup qu...|       Solna|       Sweden|           false|       No|            Draw|                      NULL|                      NULL|                        NULL|                        NULL|                         NULL|                        NULL|                        NULL|                         NULL|\n",
            "+----------+-------------+------------+-------------------+-------------------+-------------------+-------------------+---------------------------+---------------------------+---------------+---------------+--------------------+------------+-------------+----------------+---------+----------------+--------------------------+--------------------------+----------------------------+----------------------------+-----------------------------+----------------------------+----------------------------+-----------------------------+\n",
            "only showing top 20 rows\n",
            "\n"
          ]
        }
      ],
      "source": [
        "## In Spark, just like pandas df head command, we have show command\n",
        "data.show()\n"
      ]
    },
    {
      "cell_type": "code",
      "execution_count": 5,
      "metadata": {
        "colab": {
          "base_uri": "https://localhost:8080/"
        },
        "id": "IvqVohW-JziL",
        "outputId": "ac9c4e66-9da9-46fa-8918-c1d3f03d9f6a"
      },
      "outputs": [
        {
          "output_type": "stream",
          "name": "stdout",
          "text": [
            "root\n",
            " |-- date: date (nullable = true)\n",
            " |-- home_team: string (nullable = true)\n",
            " |-- away_team: string (nullable = true)\n",
            " |-- home_team_continent: string (nullable = true)\n",
            " |-- away_team_continent: string (nullable = true)\n",
            " |-- home_team_fifa_rank: integer (nullable = true)\n",
            " |-- away_team_fifa_rank: integer (nullable = true)\n",
            " |-- home_team_total_fifa_points: integer (nullable = true)\n",
            " |-- away_team_total_fifa_points: integer (nullable = true)\n",
            " |-- home_team_score: integer (nullable = true)\n",
            " |-- away_team_score: integer (nullable = true)\n",
            " |-- tournament: string (nullable = true)\n",
            " |-- city: string (nullable = true)\n",
            " |-- country: string (nullable = true)\n",
            " |-- neutral_location: boolean (nullable = true)\n",
            " |-- shoot_out: string (nullable = true)\n",
            " |-- home_team_result: string (nullable = true)\n",
            " |-- home_team_goalkeeper_score: double (nullable = true)\n",
            " |-- away_team_goalkeeper_score: double (nullable = true)\n",
            " |-- home_team_mean_defense_score: double (nullable = true)\n",
            " |-- home_team_mean_offense_score: double (nullable = true)\n",
            " |-- home_team_mean_midfield_score: double (nullable = true)\n",
            " |-- away_team_mean_defense_score: double (nullable = true)\n",
            " |-- away_team_mean_offense_score: double (nullable = true)\n",
            " |-- away_team_mean_midfield_score: double (nullable = true)\n",
            "\n"
          ]
        }
      ],
      "source": [
        "## You can view the schema of the data\n",
        "## IF you look the code we used to read data, I used inferSchema = True , which automatically infers schema and read the right data type from the file. By default inferSchema is False, and if we do not set it True, it will read everything as String objects.\n",
        "data.printSchema()"
      ]
    },
    {
      "cell_type": "code",
      "execution_count": 6,
      "metadata": {
        "colab": {
          "base_uri": "https://localhost:8080/"
        },
        "id": "95Xi3BZDLQfM",
        "outputId": "47789ad2-6ae4-47dd-eb76-9ba489094e09"
      },
      "outputs": [
        {
          "output_type": "stream",
          "name": "stdout",
          "text": [
            "+---------+----------+--------+----------+------+------+\n",
            "|firstname|middlename|lastname|       dob|gender|salary|\n",
            "+---------+----------+--------+----------+------+------+\n",
            "|    James|          |   Smith|1991-04-01|     M|  3000|\n",
            "|  Michael|      Rose|        |2000-05-19|     M|  4000|\n",
            "|   Robert|          |Williams|1978-09-05|     M|  4000|\n",
            "|    Maria|      Anne|   Jones|1967-12-01|     F|  4000|\n",
            "|      Jen|      Mary|   Brown|1980-02-17|     F|    -1|\n",
            "+---------+----------+--------+----------+------+------+\n",
            "\n"
          ]
        }
      ],
      "source": [
        "## Now lets try to create a simple data by passing the data as a list of tuples, similar way we do in Pandas\n",
        "# Create DataFrame\n",
        "sample_data = [('James','','Smith','1991-04-01','M',3000),\n",
        "  ('Michael','Rose','','2000-05-19','M',4000),\n",
        "  ('Robert','','Williams','1978-09-05','M',4000),\n",
        "  ('Maria','Anne','Jones','1967-12-01','F',4000),\n",
        "  ('Jen','Mary','Brown','1980-02-17','F',-1)\n",
        "]\n",
        "\n",
        "columns = [\"firstname\",\"middlename\",\"lastname\",\"dob\",\"gender\",\"salary\"]\n",
        "df = spark.createDataFrame(data= sample_data, schema = columns)\n",
        "df.show()"
      ]
    },
    {
      "cell_type": "markdown",
      "metadata": {
        "id": "dkc64r3xh9EQ"
      },
      "source": [
        "### Chapter 2: Data Cleaning\n",
        "##### 2.1 Finding and taking care of missing values , creating a new Column"
      ]
    },
    {
      "cell_type": "code",
      "execution_count": 7,
      "metadata": {
        "colab": {
          "base_uri": "https://localhost:8080/",
          "height": 833
        },
        "id": "-B2tE1m8h71T",
        "outputId": "bb799105-621b-4b05-8958-0bd7b925f23d"
      },
      "outputs": [
        {
          "output_type": "execute_result",
          "data": {
            "text/plain": [
              "                               Null_Value_Count  Percentage_Missing\n",
              "away_team_mean_defense_score              16357            0.683792\n",
              "home_team_mean_defense_score              16134            0.674470\n",
              "away_team_mean_midfield_score             15942            0.666444\n",
              "away_team_goalkeeper_score                15826            0.661594\n",
              "home_team_mean_midfield_score             15759            0.658794\n",
              "away_team_mean_offense_score              15609            0.652523\n",
              "home_team_goalkeeper_score                15542            0.649722\n",
              "home_team_mean_offense_score              15411            0.644246\n",
              "date                                          0            0.000000\n",
              "away_team_total_fifa_points                   0            0.000000\n",
              "home_team_total_fifa_points                   0            0.000000\n",
              "away_team_fifa_rank                           0            0.000000\n",
              "home_team_fifa_rank                           0            0.000000\n",
              "away_team_continent                           0            0.000000\n",
              "home_team_continent                           0            0.000000\n",
              "away_team                                     0            0.000000\n",
              "home_team                                     0            0.000000\n",
              "home_team_result                              0            0.000000\n",
              "shoot_out                                     0            0.000000\n",
              "neutral_location                              0            0.000000\n",
              "country                                       0            0.000000\n",
              "city                                          0            0.000000\n",
              "tournament                                    0            0.000000\n",
              "away_team_score                               0            0.000000\n",
              "home_team_score                               0            0.000000"
            ],
            "text/html": [
              "\n",
              "  <div id=\"df-070a8fdc-4d68-479b-b823-89aef41f868e\" class=\"colab-df-container\">\n",
              "    <div>\n",
              "<style scoped>\n",
              "    .dataframe tbody tr th:only-of-type {\n",
              "        vertical-align: middle;\n",
              "    }\n",
              "\n",
              "    .dataframe tbody tr th {\n",
              "        vertical-align: top;\n",
              "    }\n",
              "\n",
              "    .dataframe thead th {\n",
              "        text-align: right;\n",
              "    }\n",
              "</style>\n",
              "<table border=\"1\" class=\"dataframe\">\n",
              "  <thead>\n",
              "    <tr style=\"text-align: right;\">\n",
              "      <th></th>\n",
              "      <th>Null_Value_Count</th>\n",
              "      <th>Percentage_Missing</th>\n",
              "    </tr>\n",
              "  </thead>\n",
              "  <tbody>\n",
              "    <tr>\n",
              "      <th>away_team_mean_defense_score</th>\n",
              "      <td>16357</td>\n",
              "      <td>0.683792</td>\n",
              "    </tr>\n",
              "    <tr>\n",
              "      <th>home_team_mean_defense_score</th>\n",
              "      <td>16134</td>\n",
              "      <td>0.674470</td>\n",
              "    </tr>\n",
              "    <tr>\n",
              "      <th>away_team_mean_midfield_score</th>\n",
              "      <td>15942</td>\n",
              "      <td>0.666444</td>\n",
              "    </tr>\n",
              "    <tr>\n",
              "      <th>away_team_goalkeeper_score</th>\n",
              "      <td>15826</td>\n",
              "      <td>0.661594</td>\n",
              "    </tr>\n",
              "    <tr>\n",
              "      <th>home_team_mean_midfield_score</th>\n",
              "      <td>15759</td>\n",
              "      <td>0.658794</td>\n",
              "    </tr>\n",
              "    <tr>\n",
              "      <th>away_team_mean_offense_score</th>\n",
              "      <td>15609</td>\n",
              "      <td>0.652523</td>\n",
              "    </tr>\n",
              "    <tr>\n",
              "      <th>home_team_goalkeeper_score</th>\n",
              "      <td>15542</td>\n",
              "      <td>0.649722</td>\n",
              "    </tr>\n",
              "    <tr>\n",
              "      <th>home_team_mean_offense_score</th>\n",
              "      <td>15411</td>\n",
              "      <td>0.644246</td>\n",
              "    </tr>\n",
              "    <tr>\n",
              "      <th>date</th>\n",
              "      <td>0</td>\n",
              "      <td>0.000000</td>\n",
              "    </tr>\n",
              "    <tr>\n",
              "      <th>away_team_total_fifa_points</th>\n",
              "      <td>0</td>\n",
              "      <td>0.000000</td>\n",
              "    </tr>\n",
              "    <tr>\n",
              "      <th>home_team_total_fifa_points</th>\n",
              "      <td>0</td>\n",
              "      <td>0.000000</td>\n",
              "    </tr>\n",
              "    <tr>\n",
              "      <th>away_team_fifa_rank</th>\n",
              "      <td>0</td>\n",
              "      <td>0.000000</td>\n",
              "    </tr>\n",
              "    <tr>\n",
              "      <th>home_team_fifa_rank</th>\n",
              "      <td>0</td>\n",
              "      <td>0.000000</td>\n",
              "    </tr>\n",
              "    <tr>\n",
              "      <th>away_team_continent</th>\n",
              "      <td>0</td>\n",
              "      <td>0.000000</td>\n",
              "    </tr>\n",
              "    <tr>\n",
              "      <th>home_team_continent</th>\n",
              "      <td>0</td>\n",
              "      <td>0.000000</td>\n",
              "    </tr>\n",
              "    <tr>\n",
              "      <th>away_team</th>\n",
              "      <td>0</td>\n",
              "      <td>0.000000</td>\n",
              "    </tr>\n",
              "    <tr>\n",
              "      <th>home_team</th>\n",
              "      <td>0</td>\n",
              "      <td>0.000000</td>\n",
              "    </tr>\n",
              "    <tr>\n",
              "      <th>home_team_result</th>\n",
              "      <td>0</td>\n",
              "      <td>0.000000</td>\n",
              "    </tr>\n",
              "    <tr>\n",
              "      <th>shoot_out</th>\n",
              "      <td>0</td>\n",
              "      <td>0.000000</td>\n",
              "    </tr>\n",
              "    <tr>\n",
              "      <th>neutral_location</th>\n",
              "      <td>0</td>\n",
              "      <td>0.000000</td>\n",
              "    </tr>\n",
              "    <tr>\n",
              "      <th>country</th>\n",
              "      <td>0</td>\n",
              "      <td>0.000000</td>\n",
              "    </tr>\n",
              "    <tr>\n",
              "      <th>city</th>\n",
              "      <td>0</td>\n",
              "      <td>0.000000</td>\n",
              "    </tr>\n",
              "    <tr>\n",
              "      <th>tournament</th>\n",
              "      <td>0</td>\n",
              "      <td>0.000000</td>\n",
              "    </tr>\n",
              "    <tr>\n",
              "      <th>away_team_score</th>\n",
              "      <td>0</td>\n",
              "      <td>0.000000</td>\n",
              "    </tr>\n",
              "    <tr>\n",
              "      <th>home_team_score</th>\n",
              "      <td>0</td>\n",
              "      <td>0.000000</td>\n",
              "    </tr>\n",
              "  </tbody>\n",
              "</table>\n",
              "</div>\n",
              "    <div class=\"colab-df-buttons\">\n",
              "\n",
              "  <div class=\"colab-df-container\">\n",
              "    <button class=\"colab-df-convert\" onclick=\"convertToInteractive('df-070a8fdc-4d68-479b-b823-89aef41f868e')\"\n",
              "            title=\"Convert this dataframe to an interactive table.\"\n",
              "            style=\"display:none;\">\n",
              "\n",
              "  <svg xmlns=\"http://www.w3.org/2000/svg\" height=\"24px\" viewBox=\"0 -960 960 960\">\n",
              "    <path d=\"M120-120v-720h720v720H120Zm60-500h600v-160H180v160Zm220 220h160v-160H400v160Zm0 220h160v-160H400v160ZM180-400h160v-160H180v160Zm440 0h160v-160H620v160ZM180-180h160v-160H180v160Zm440 0h160v-160H620v160Z\"/>\n",
              "  </svg>\n",
              "    </button>\n",
              "\n",
              "  <style>\n",
              "    .colab-df-container {\n",
              "      display:flex;\n",
              "      gap: 12px;\n",
              "    }\n",
              "\n",
              "    .colab-df-convert {\n",
              "      background-color: #E8F0FE;\n",
              "      border: none;\n",
              "      border-radius: 50%;\n",
              "      cursor: pointer;\n",
              "      display: none;\n",
              "      fill: #1967D2;\n",
              "      height: 32px;\n",
              "      padding: 0 0 0 0;\n",
              "      width: 32px;\n",
              "    }\n",
              "\n",
              "    .colab-df-convert:hover {\n",
              "      background-color: #E2EBFA;\n",
              "      box-shadow: 0px 1px 2px rgba(60, 64, 67, 0.3), 0px 1px 3px 1px rgba(60, 64, 67, 0.15);\n",
              "      fill: #174EA6;\n",
              "    }\n",
              "\n",
              "    .colab-df-buttons div {\n",
              "      margin-bottom: 4px;\n",
              "    }\n",
              "\n",
              "    [theme=dark] .colab-df-convert {\n",
              "      background-color: #3B4455;\n",
              "      fill: #D2E3FC;\n",
              "    }\n",
              "\n",
              "    [theme=dark] .colab-df-convert:hover {\n",
              "      background-color: #434B5C;\n",
              "      box-shadow: 0px 1px 3px 1px rgba(0, 0, 0, 0.15);\n",
              "      filter: drop-shadow(0px 1px 2px rgba(0, 0, 0, 0.3));\n",
              "      fill: #FFFFFF;\n",
              "    }\n",
              "  </style>\n",
              "\n",
              "    <script>\n",
              "      const buttonEl =\n",
              "        document.querySelector('#df-070a8fdc-4d68-479b-b823-89aef41f868e button.colab-df-convert');\n",
              "      buttonEl.style.display =\n",
              "        google.colab.kernel.accessAllowed ? 'block' : 'none';\n",
              "\n",
              "      async function convertToInteractive(key) {\n",
              "        const element = document.querySelector('#df-070a8fdc-4d68-479b-b823-89aef41f868e');\n",
              "        const dataTable =\n",
              "          await google.colab.kernel.invokeFunction('convertToInteractive',\n",
              "                                                    [key], {});\n",
              "        if (!dataTable) return;\n",
              "\n",
              "        const docLinkHtml = 'Like what you see? Visit the ' +\n",
              "          '<a target=\"_blank\" href=https://colab.research.google.com/notebooks/data_table.ipynb>data table notebook</a>'\n",
              "          + ' to learn more about interactive tables.';\n",
              "        element.innerHTML = '';\n",
              "        dataTable['output_type'] = 'display_data';\n",
              "        await google.colab.output.renderOutput(dataTable, element);\n",
              "        const docLink = document.createElement('div');\n",
              "        docLink.innerHTML = docLinkHtml;\n",
              "        element.appendChild(docLink);\n",
              "      }\n",
              "    </script>\n",
              "  </div>\n",
              "\n",
              "\n",
              "    <div id=\"df-22f0060c-d8a7-4511-a955-a7945f46362d\">\n",
              "      <button class=\"colab-df-quickchart\" onclick=\"quickchart('df-22f0060c-d8a7-4511-a955-a7945f46362d')\"\n",
              "                title=\"Suggest charts\"\n",
              "                style=\"display:none;\">\n",
              "\n",
              "<svg xmlns=\"http://www.w3.org/2000/svg\" height=\"24px\"viewBox=\"0 0 24 24\"\n",
              "     width=\"24px\">\n",
              "    <g>\n",
              "        <path d=\"M19 3H5c-1.1 0-2 .9-2 2v14c0 1.1.9 2 2 2h14c1.1 0 2-.9 2-2V5c0-1.1-.9-2-2-2zM9 17H7v-7h2v7zm4 0h-2V7h2v10zm4 0h-2v-4h2v4z\"/>\n",
              "    </g>\n",
              "</svg>\n",
              "      </button>\n",
              "\n",
              "<style>\n",
              "  .colab-df-quickchart {\n",
              "      --bg-color: #E8F0FE;\n",
              "      --fill-color: #1967D2;\n",
              "      --hover-bg-color: #E2EBFA;\n",
              "      --hover-fill-color: #174EA6;\n",
              "      --disabled-fill-color: #AAA;\n",
              "      --disabled-bg-color: #DDD;\n",
              "  }\n",
              "\n",
              "  [theme=dark] .colab-df-quickchart {\n",
              "      --bg-color: #3B4455;\n",
              "      --fill-color: #D2E3FC;\n",
              "      --hover-bg-color: #434B5C;\n",
              "      --hover-fill-color: #FFFFFF;\n",
              "      --disabled-bg-color: #3B4455;\n",
              "      --disabled-fill-color: #666;\n",
              "  }\n",
              "\n",
              "  .colab-df-quickchart {\n",
              "    background-color: var(--bg-color);\n",
              "    border: none;\n",
              "    border-radius: 50%;\n",
              "    cursor: pointer;\n",
              "    display: none;\n",
              "    fill: var(--fill-color);\n",
              "    height: 32px;\n",
              "    padding: 0;\n",
              "    width: 32px;\n",
              "  }\n",
              "\n",
              "  .colab-df-quickchart:hover {\n",
              "    background-color: var(--hover-bg-color);\n",
              "    box-shadow: 0 1px 2px rgba(60, 64, 67, 0.3), 0 1px 3px 1px rgba(60, 64, 67, 0.15);\n",
              "    fill: var(--button-hover-fill-color);\n",
              "  }\n",
              "\n",
              "  .colab-df-quickchart-complete:disabled,\n",
              "  .colab-df-quickchart-complete:disabled:hover {\n",
              "    background-color: var(--disabled-bg-color);\n",
              "    fill: var(--disabled-fill-color);\n",
              "    box-shadow: none;\n",
              "  }\n",
              "\n",
              "  .colab-df-spinner {\n",
              "    border: 2px solid var(--fill-color);\n",
              "    border-color: transparent;\n",
              "    border-bottom-color: var(--fill-color);\n",
              "    animation:\n",
              "      spin 1s steps(1) infinite;\n",
              "  }\n",
              "\n",
              "  @keyframes spin {\n",
              "    0% {\n",
              "      border-color: transparent;\n",
              "      border-bottom-color: var(--fill-color);\n",
              "      border-left-color: var(--fill-color);\n",
              "    }\n",
              "    20% {\n",
              "      border-color: transparent;\n",
              "      border-left-color: var(--fill-color);\n",
              "      border-top-color: var(--fill-color);\n",
              "    }\n",
              "    30% {\n",
              "      border-color: transparent;\n",
              "      border-left-color: var(--fill-color);\n",
              "      border-top-color: var(--fill-color);\n",
              "      border-right-color: var(--fill-color);\n",
              "    }\n",
              "    40% {\n",
              "      border-color: transparent;\n",
              "      border-right-color: var(--fill-color);\n",
              "      border-top-color: var(--fill-color);\n",
              "    }\n",
              "    60% {\n",
              "      border-color: transparent;\n",
              "      border-right-color: var(--fill-color);\n",
              "    }\n",
              "    80% {\n",
              "      border-color: transparent;\n",
              "      border-right-color: var(--fill-color);\n",
              "      border-bottom-color: var(--fill-color);\n",
              "    }\n",
              "    90% {\n",
              "      border-color: transparent;\n",
              "      border-bottom-color: var(--fill-color);\n",
              "    }\n",
              "  }\n",
              "</style>\n",
              "\n",
              "      <script>\n",
              "        async function quickchart(key) {\n",
              "          const quickchartButtonEl =\n",
              "            document.querySelector('#' + key + ' button');\n",
              "          quickchartButtonEl.disabled = true;  // To prevent multiple clicks.\n",
              "          quickchartButtonEl.classList.add('colab-df-spinner');\n",
              "          try {\n",
              "            const charts = await google.colab.kernel.invokeFunction(\n",
              "                'suggestCharts', [key], {});\n",
              "          } catch (error) {\n",
              "            console.error('Error during call to suggestCharts:', error);\n",
              "          }\n",
              "          quickchartButtonEl.classList.remove('colab-df-spinner');\n",
              "          quickchartButtonEl.classList.add('colab-df-quickchart-complete');\n",
              "        }\n",
              "        (() => {\n",
              "          let quickchartButtonEl =\n",
              "            document.querySelector('#df-22f0060c-d8a7-4511-a955-a7945f46362d button');\n",
              "          quickchartButtonEl.style.display =\n",
              "            google.colab.kernel.accessAllowed ? 'block' : 'none';\n",
              "        })();\n",
              "      </script>\n",
              "    </div>\n",
              "\n",
              "    </div>\n",
              "  </div>\n"
            ],
            "application/vnd.google.colaboratory.intrinsic+json": {
              "type": "dataframe",
              "summary": "{\n  \"name\": \"countNullValues(data)\",\n  \"rows\": 25,\n  \"fields\": [\n    {\n      \"column\": \"Null_Value_Count\",\n      \"properties\": {\n        \"dtype\": \"number\",\n        \"std\": 7534,\n        \"min\": 0,\n        \"max\": 16357,\n        \"num_unique_values\": 9,\n        \"samples\": [\n          15411,\n          16134,\n          15609\n        ],\n        \"semantic_type\": \"\",\n        \"description\": \"\"\n      }\n    },\n    {\n      \"column\": \"Percentage_Missing\",\n      \"properties\": {\n        \"dtype\": \"number\",\n        \"std\": 0.31499258446977996,\n        \"min\": 0.0,\n        \"max\": 0.6837924835918231,\n        \"num_unique_values\": 9,\n        \"samples\": [\n          0.6442456419046027,\n          0.6744701308473726,\n          0.6525228878391371\n        ],\n        \"semantic_type\": \"\",\n        \"description\": \"\"\n      }\n    }\n  ]\n}"
            }
          },
          "metadata": {},
          "execution_count": 7
        }
      ],
      "source": [
        "## Find missing values per column\n",
        "import pyspark.sql.functions as F\n",
        "\n",
        "def countNullValues(df):\n",
        "    \"\"\"\n",
        "    This function counts the null values in a pyspark dataframe and returns pandas df as result\n",
        "    :param df: A PySpark DataFrame\n",
        "    \"\"\"\n",
        "    df_return = df.select([F.count(F.when(F.col(c).isNull(), c)).alias(c) for c in df.columns]).toPandas().T\n",
        "    df_return.columns = ['Null_Value_Count']\n",
        "    df_return['Percentage_Missing'] = df_return['Null_Value_Count']/df.count()\n",
        "    df_return.sort_values(by='Null_Value_Count', ascending = False, inplace=True)\n",
        "    return df_return\n",
        "\n",
        "countNullValues(data)"
      ]
    },
    {
      "cell_type": "markdown",
      "metadata": {
        "id": "wboWhhUPi3E9"
      },
      "source": [
        "#### As we can see that most missing columns have more than 50% of data missing.\n",
        "#### As a rule of thumb when you have that many data missing, imputing can be challenging so simple solution is to drop them with caution. The caution here means understand the data. In our example: these are some of the additional scores, not the main scores of game lose or win.\n",
        "#### We will set up a threshold rule to drop those columns, we will look into imputing examples later."
      ]
    },
    {
      "cell_type": "code",
      "execution_count": null,
      "metadata": {
        "colab": {
          "base_uri": "https://localhost:8080/"
        },
        "id": "E-cEB2goPGCT",
        "outputId": "36241d8c-74d3-4a23-8604-4c440fa8249f"
      },
      "outputs": [
        {
          "output_type": "stream",
          "name": "stdout",
          "text": [
            "+----------+---------+------------+-------------------+-------------------+-------------------+-------------------+---------------------------+---------------------------+---------------+---------------+--------------------+--------+--------+----------------+---------+----------------+\n",
            "|      date|home_team|   away_team|home_team_continent|away_team_continent|home_team_fifa_rank|away_team_fifa_rank|home_team_total_fifa_points|away_team_total_fifa_points|home_team_score|away_team_score|          tournament|    city| country|neutral_location|shoot_out|home_team_result|\n",
            "+----------+---------+------------+-------------------+-------------------+-------------------+-------------------+---------------------------+---------------------------+---------------+---------------+--------------------+--------+--------+----------------+---------+----------------+\n",
            "|1993-08-08|  Bolivia|     Uruguay|      South America|      South America|                 59|                 22|                          0|                          0|              3|              1|FIFA World Cup qu...|  La Paz| Bolivia|           false|       No|             Win|\n",
            "|1993-08-08|   Brazil|      Mexico|      South America|      North America|                  8|                 14|                          0|                          0|              1|              1|            Friendly|  Maceió|  Brazil|           false|       No|            Draw|\n",
            "|1993-08-08|  Ecuador|   Venezuela|      South America|      South America|                 35|                 94|                          0|                          0|              5|              0|FIFA World Cup qu...|   Quito| Ecuador|           false|       No|             Win|\n",
            "|1993-08-08|   Guinea|Sierra Leone|             Africa|             Africa|                 65|                 86|                          0|                          0|              1|              0|            Friendly| Conakry|  Guinea|           false|       No|             Win|\n",
            "|1993-08-08| Paraguay|   Argentina|      South America|      South America|                 67|                  5|                          0|                          0|              1|              3|FIFA World Cup qu...|Asunción|Paraguay|           false|       No|            Lose|\n",
            "+----------+---------+------------+-------------------+-------------------+-------------------+-------------------+---------------------------+---------------------------+---------------+---------------+--------------------+--------+--------+----------------+---------+----------------+\n",
            "only showing top 5 rows\n",
            "\n"
          ]
        }
      ],
      "source": [
        "\n",
        "import math\n",
        "def dropNullColumns(df):\n",
        "    \"\"\"\n",
        "    This function drops columns containing 50 % or more null values\n",
        "    :param df: A PySpark DataFrame\n",
        "    \"\"\"\n",
        "    threshold = math.floor(df.count()/2) ## 50 percent thresholding- can be adjusted as needed\n",
        "    null_counts = df.select([F.count(F.when(F.col(c).isNull(), c)).alias(\n",
        "        c) for c in df.columns]).collect()[0].asDict()\n",
        "    col_to_drop = [k for k, v in null_counts.items() if v > threshold]\n",
        "    df = df.drop(*col_to_drop)\n",
        "\n",
        "    return df\n",
        "\n",
        "data=dropNullColumns(data)\n",
        "data.show(5)"
      ]
    },
    {
      "cell_type": "code",
      "execution_count": null,
      "metadata": {
        "colab": {
          "base_uri": "https://localhost:8080/",
          "height": 582
        },
        "id": "0rk6rkewjvnx",
        "outputId": "db753076-2fd2-4187-b9de-b1650d698171"
      },
      "outputs": [
        {
          "output_type": "execute_result",
          "data": {
            "text/plain": [
              "                             Null_Value_Count  Percentage_Missing\n",
              "date                                        0                 0.0\n",
              "home_team_score                             0                 0.0\n",
              "shoot_out                                   0                 0.0\n",
              "neutral_location                            0                 0.0\n",
              "country                                     0                 0.0\n",
              "city                                        0                 0.0\n",
              "tournament                                  0                 0.0\n",
              "away_team_score                             0                 0.0\n",
              "away_team_total_fifa_points                 0                 0.0\n",
              "home_team                                   0                 0.0\n",
              "home_team_total_fifa_points                 0                 0.0\n",
              "away_team_fifa_rank                         0                 0.0\n",
              "home_team_fifa_rank                         0                 0.0\n",
              "away_team_continent                         0                 0.0\n",
              "home_team_continent                         0                 0.0\n",
              "away_team                                   0                 0.0\n",
              "home_team_result                            0                 0.0"
            ],
            "text/html": [
              "\n",
              "  <div id=\"df-0a342230-9997-40c1-a86f-0f484161861c\" class=\"colab-df-container\">\n",
              "    <div>\n",
              "<style scoped>\n",
              "    .dataframe tbody tr th:only-of-type {\n",
              "        vertical-align: middle;\n",
              "    }\n",
              "\n",
              "    .dataframe tbody tr th {\n",
              "        vertical-align: top;\n",
              "    }\n",
              "\n",
              "    .dataframe thead th {\n",
              "        text-align: right;\n",
              "    }\n",
              "</style>\n",
              "<table border=\"1\" class=\"dataframe\">\n",
              "  <thead>\n",
              "    <tr style=\"text-align: right;\">\n",
              "      <th></th>\n",
              "      <th>Null_Value_Count</th>\n",
              "      <th>Percentage_Missing</th>\n",
              "    </tr>\n",
              "  </thead>\n",
              "  <tbody>\n",
              "    <tr>\n",
              "      <th>date</th>\n",
              "      <td>0</td>\n",
              "      <td>0.0</td>\n",
              "    </tr>\n",
              "    <tr>\n",
              "      <th>home_team_score</th>\n",
              "      <td>0</td>\n",
              "      <td>0.0</td>\n",
              "    </tr>\n",
              "    <tr>\n",
              "      <th>shoot_out</th>\n",
              "      <td>0</td>\n",
              "      <td>0.0</td>\n",
              "    </tr>\n",
              "    <tr>\n",
              "      <th>neutral_location</th>\n",
              "      <td>0</td>\n",
              "      <td>0.0</td>\n",
              "    </tr>\n",
              "    <tr>\n",
              "      <th>country</th>\n",
              "      <td>0</td>\n",
              "      <td>0.0</td>\n",
              "    </tr>\n",
              "    <tr>\n",
              "      <th>city</th>\n",
              "      <td>0</td>\n",
              "      <td>0.0</td>\n",
              "    </tr>\n",
              "    <tr>\n",
              "      <th>tournament</th>\n",
              "      <td>0</td>\n",
              "      <td>0.0</td>\n",
              "    </tr>\n",
              "    <tr>\n",
              "      <th>away_team_score</th>\n",
              "      <td>0</td>\n",
              "      <td>0.0</td>\n",
              "    </tr>\n",
              "    <tr>\n",
              "      <th>away_team_total_fifa_points</th>\n",
              "      <td>0</td>\n",
              "      <td>0.0</td>\n",
              "    </tr>\n",
              "    <tr>\n",
              "      <th>home_team</th>\n",
              "      <td>0</td>\n",
              "      <td>0.0</td>\n",
              "    </tr>\n",
              "    <tr>\n",
              "      <th>home_team_total_fifa_points</th>\n",
              "      <td>0</td>\n",
              "      <td>0.0</td>\n",
              "    </tr>\n",
              "    <tr>\n",
              "      <th>away_team_fifa_rank</th>\n",
              "      <td>0</td>\n",
              "      <td>0.0</td>\n",
              "    </tr>\n",
              "    <tr>\n",
              "      <th>home_team_fifa_rank</th>\n",
              "      <td>0</td>\n",
              "      <td>0.0</td>\n",
              "    </tr>\n",
              "    <tr>\n",
              "      <th>away_team_continent</th>\n",
              "      <td>0</td>\n",
              "      <td>0.0</td>\n",
              "    </tr>\n",
              "    <tr>\n",
              "      <th>home_team_continent</th>\n",
              "      <td>0</td>\n",
              "      <td>0.0</td>\n",
              "    </tr>\n",
              "    <tr>\n",
              "      <th>away_team</th>\n",
              "      <td>0</td>\n",
              "      <td>0.0</td>\n",
              "    </tr>\n",
              "    <tr>\n",
              "      <th>home_team_result</th>\n",
              "      <td>0</td>\n",
              "      <td>0.0</td>\n",
              "    </tr>\n",
              "  </tbody>\n",
              "</table>\n",
              "</div>\n",
              "    <div class=\"colab-df-buttons\">\n",
              "\n",
              "  <div class=\"colab-df-container\">\n",
              "    <button class=\"colab-df-convert\" onclick=\"convertToInteractive('df-0a342230-9997-40c1-a86f-0f484161861c')\"\n",
              "            title=\"Convert this dataframe to an interactive table.\"\n",
              "            style=\"display:none;\">\n",
              "\n",
              "  <svg xmlns=\"http://www.w3.org/2000/svg\" height=\"24px\" viewBox=\"0 -960 960 960\">\n",
              "    <path d=\"M120-120v-720h720v720H120Zm60-500h600v-160H180v160Zm220 220h160v-160H400v160Zm0 220h160v-160H400v160ZM180-400h160v-160H180v160Zm440 0h160v-160H620v160ZM180-180h160v-160H180v160Zm440 0h160v-160H620v160Z\"/>\n",
              "  </svg>\n",
              "    </button>\n",
              "\n",
              "  <style>\n",
              "    .colab-df-container {\n",
              "      display:flex;\n",
              "      gap: 12px;\n",
              "    }\n",
              "\n",
              "    .colab-df-convert {\n",
              "      background-color: #E8F0FE;\n",
              "      border: none;\n",
              "      border-radius: 50%;\n",
              "      cursor: pointer;\n",
              "      display: none;\n",
              "      fill: #1967D2;\n",
              "      height: 32px;\n",
              "      padding: 0 0 0 0;\n",
              "      width: 32px;\n",
              "    }\n",
              "\n",
              "    .colab-df-convert:hover {\n",
              "      background-color: #E2EBFA;\n",
              "      box-shadow: 0px 1px 2px rgba(60, 64, 67, 0.3), 0px 1px 3px 1px rgba(60, 64, 67, 0.15);\n",
              "      fill: #174EA6;\n",
              "    }\n",
              "\n",
              "    .colab-df-buttons div {\n",
              "      margin-bottom: 4px;\n",
              "    }\n",
              "\n",
              "    [theme=dark] .colab-df-convert {\n",
              "      background-color: #3B4455;\n",
              "      fill: #D2E3FC;\n",
              "    }\n",
              "\n",
              "    [theme=dark] .colab-df-convert:hover {\n",
              "      background-color: #434B5C;\n",
              "      box-shadow: 0px 1px 3px 1px rgba(0, 0, 0, 0.15);\n",
              "      filter: drop-shadow(0px 1px 2px rgba(0, 0, 0, 0.3));\n",
              "      fill: #FFFFFF;\n",
              "    }\n",
              "  </style>\n",
              "\n",
              "    <script>\n",
              "      const buttonEl =\n",
              "        document.querySelector('#df-0a342230-9997-40c1-a86f-0f484161861c button.colab-df-convert');\n",
              "      buttonEl.style.display =\n",
              "        google.colab.kernel.accessAllowed ? 'block' : 'none';\n",
              "\n",
              "      async function convertToInteractive(key) {\n",
              "        const element = document.querySelector('#df-0a342230-9997-40c1-a86f-0f484161861c');\n",
              "        const dataTable =\n",
              "          await google.colab.kernel.invokeFunction('convertToInteractive',\n",
              "                                                    [key], {});\n",
              "        if (!dataTable) return;\n",
              "\n",
              "        const docLinkHtml = 'Like what you see? Visit the ' +\n",
              "          '<a target=\"_blank\" href=https://colab.research.google.com/notebooks/data_table.ipynb>data table notebook</a>'\n",
              "          + ' to learn more about interactive tables.';\n",
              "        element.innerHTML = '';\n",
              "        dataTable['output_type'] = 'display_data';\n",
              "        await google.colab.output.renderOutput(dataTable, element);\n",
              "        const docLink = document.createElement('div');\n",
              "        docLink.innerHTML = docLinkHtml;\n",
              "        element.appendChild(docLink);\n",
              "      }\n",
              "    </script>\n",
              "  </div>\n",
              "\n",
              "\n",
              "<div id=\"df-0e2f81a5-a54b-4274-a06c-0c7ae23315ac\">\n",
              "  <button class=\"colab-df-quickchart\" onclick=\"quickchart('df-0e2f81a5-a54b-4274-a06c-0c7ae23315ac')\"\n",
              "            title=\"Suggest charts\"\n",
              "            style=\"display:none;\">\n",
              "\n",
              "<svg xmlns=\"http://www.w3.org/2000/svg\" height=\"24px\"viewBox=\"0 0 24 24\"\n",
              "     width=\"24px\">\n",
              "    <g>\n",
              "        <path d=\"M19 3H5c-1.1 0-2 .9-2 2v14c0 1.1.9 2 2 2h14c1.1 0 2-.9 2-2V5c0-1.1-.9-2-2-2zM9 17H7v-7h2v7zm4 0h-2V7h2v10zm4 0h-2v-4h2v4z\"/>\n",
              "    </g>\n",
              "</svg>\n",
              "  </button>\n",
              "\n",
              "<style>\n",
              "  .colab-df-quickchart {\n",
              "      --bg-color: #E8F0FE;\n",
              "      --fill-color: #1967D2;\n",
              "      --hover-bg-color: #E2EBFA;\n",
              "      --hover-fill-color: #174EA6;\n",
              "      --disabled-fill-color: #AAA;\n",
              "      --disabled-bg-color: #DDD;\n",
              "  }\n",
              "\n",
              "  [theme=dark] .colab-df-quickchart {\n",
              "      --bg-color: #3B4455;\n",
              "      --fill-color: #D2E3FC;\n",
              "      --hover-bg-color: #434B5C;\n",
              "      --hover-fill-color: #FFFFFF;\n",
              "      --disabled-bg-color: #3B4455;\n",
              "      --disabled-fill-color: #666;\n",
              "  }\n",
              "\n",
              "  .colab-df-quickchart {\n",
              "    background-color: var(--bg-color);\n",
              "    border: none;\n",
              "    border-radius: 50%;\n",
              "    cursor: pointer;\n",
              "    display: none;\n",
              "    fill: var(--fill-color);\n",
              "    height: 32px;\n",
              "    padding: 0;\n",
              "    width: 32px;\n",
              "  }\n",
              "\n",
              "  .colab-df-quickchart:hover {\n",
              "    background-color: var(--hover-bg-color);\n",
              "    box-shadow: 0 1px 2px rgba(60, 64, 67, 0.3), 0 1px 3px 1px rgba(60, 64, 67, 0.15);\n",
              "    fill: var(--button-hover-fill-color);\n",
              "  }\n",
              "\n",
              "  .colab-df-quickchart-complete:disabled,\n",
              "  .colab-df-quickchart-complete:disabled:hover {\n",
              "    background-color: var(--disabled-bg-color);\n",
              "    fill: var(--disabled-fill-color);\n",
              "    box-shadow: none;\n",
              "  }\n",
              "\n",
              "  .colab-df-spinner {\n",
              "    border: 2px solid var(--fill-color);\n",
              "    border-color: transparent;\n",
              "    border-bottom-color: var(--fill-color);\n",
              "    animation:\n",
              "      spin 1s steps(1) infinite;\n",
              "  }\n",
              "\n",
              "  @keyframes spin {\n",
              "    0% {\n",
              "      border-color: transparent;\n",
              "      border-bottom-color: var(--fill-color);\n",
              "      border-left-color: var(--fill-color);\n",
              "    }\n",
              "    20% {\n",
              "      border-color: transparent;\n",
              "      border-left-color: var(--fill-color);\n",
              "      border-top-color: var(--fill-color);\n",
              "    }\n",
              "    30% {\n",
              "      border-color: transparent;\n",
              "      border-left-color: var(--fill-color);\n",
              "      border-top-color: var(--fill-color);\n",
              "      border-right-color: var(--fill-color);\n",
              "    }\n",
              "    40% {\n",
              "      border-color: transparent;\n",
              "      border-right-color: var(--fill-color);\n",
              "      border-top-color: var(--fill-color);\n",
              "    }\n",
              "    60% {\n",
              "      border-color: transparent;\n",
              "      border-right-color: var(--fill-color);\n",
              "    }\n",
              "    80% {\n",
              "      border-color: transparent;\n",
              "      border-right-color: var(--fill-color);\n",
              "      border-bottom-color: var(--fill-color);\n",
              "    }\n",
              "    90% {\n",
              "      border-color: transparent;\n",
              "      border-bottom-color: var(--fill-color);\n",
              "    }\n",
              "  }\n",
              "</style>\n",
              "\n",
              "  <script>\n",
              "    async function quickchart(key) {\n",
              "      const quickchartButtonEl =\n",
              "        document.querySelector('#' + key + ' button');\n",
              "      quickchartButtonEl.disabled = true;  // To prevent multiple clicks.\n",
              "      quickchartButtonEl.classList.add('colab-df-spinner');\n",
              "      try {\n",
              "        const charts = await google.colab.kernel.invokeFunction(\n",
              "            'suggestCharts', [key], {});\n",
              "      } catch (error) {\n",
              "        console.error('Error during call to suggestCharts:', error);\n",
              "      }\n",
              "      quickchartButtonEl.classList.remove('colab-df-spinner');\n",
              "      quickchartButtonEl.classList.add('colab-df-quickchart-complete');\n",
              "    }\n",
              "    (() => {\n",
              "      let quickchartButtonEl =\n",
              "        document.querySelector('#df-0e2f81a5-a54b-4274-a06c-0c7ae23315ac button');\n",
              "      quickchartButtonEl.style.display =\n",
              "        google.colab.kernel.accessAllowed ? 'block' : 'none';\n",
              "    })();\n",
              "  </script>\n",
              "</div>\n",
              "\n",
              "    </div>\n",
              "  </div>\n"
            ],
            "application/vnd.google.colaboratory.intrinsic+json": {
              "type": "dataframe",
              "summary": "{\n  \"name\": \"countNullValues(data)\",\n  \"rows\": 17,\n  \"fields\": [\n    {\n      \"column\": \"Null_Value_Count\",\n      \"properties\": {\n        \"dtype\": \"number\",\n        \"std\": 0,\n        \"min\": 0,\n        \"max\": 0,\n        \"num_unique_values\": 1,\n        \"samples\": [\n          0\n        ],\n        \"semantic_type\": \"\",\n        \"description\": \"\"\n      }\n    },\n    {\n      \"column\": \"Percentage_Missing\",\n      \"properties\": {\n        \"dtype\": \"number\",\n        \"std\": 0.0,\n        \"min\": 0.0,\n        \"max\": 0.0,\n        \"num_unique_values\": 1,\n        \"samples\": [\n          0.0\n        ],\n        \"semantic_type\": \"\",\n        \"description\": \"\"\n      }\n    }\n  ]\n}"
            }
          },
          "metadata": {},
          "execution_count": 135
        }
      ],
      "source": [
        "## Now if we re- run the count Null Values, we should see it cleaner\n",
        "countNullValues(data)"
      ]
    },
    {
      "cell_type": "markdown",
      "metadata": {
        "id": "W7XJzsO2kKUs"
      },
      "source": [
        "#### 2.2 Finding Unique Values in a given Column\n"
      ]
    },
    {
      "cell_type": "code",
      "execution_count": null,
      "metadata": {
        "colab": {
          "base_uri": "https://localhost:8080/"
        },
        "id": "aGwINHwyj9py",
        "outputId": "feaae7b1-ea03-49ef-fa06-76810a3ba57d"
      },
      "outputs": [
        {
          "output_type": "execute_result",
          "data": {
            "text/plain": [
              "DataFrame[home_team_result: string]"
            ]
          },
          "metadata": {},
          "execution_count": 136
        }
      ],
      "source": [
        "# We simply use the interested column and run a distinct function. Notice something that it will not give us the output yet.\n",
        "data.select('home_team_result').distinct()"
      ]
    },
    {
      "cell_type": "markdown",
      "metadata": {
        "id": "LlWDPJsPldeT"
      },
      "source": [
        "##### Why we did not get output above ? Because Spark is a lazy execution , meaning until we pass the commands like collect, show, etc. It will only build the execution plan in memory but it will not run it actually."
      ]
    },
    {
      "cell_type": "code",
      "execution_count": null,
      "metadata": {
        "colab": {
          "base_uri": "https://localhost:8080/"
        },
        "id": "Hd-HzQ03j9nV",
        "outputId": "9bfb0097-ba80-43fc-86fa-96bef4b84494"
      },
      "outputs": [
        {
          "output_type": "execute_result",
          "data": {
            "text/plain": [
              "[Row(home_team_result='Win'),\n",
              " Row(home_team_result='Draw'),\n",
              " Row(home_team_result='Lose')]"
            ]
          },
          "metadata": {},
          "execution_count": 137
        }
      ],
      "source": [
        "## Once we chain the collect () function we shall see the output, that win, draw and lose are three unique values\n",
        "data.select('home_team_result').distinct().collect()"
      ]
    },
    {
      "cell_type": "markdown",
      "metadata": {
        "id": "VlqDdd-smG8k"
      },
      "source": [
        "#### 2.3 Label Encoding: If you want to create derived features out of existing features, or in this example we are creating the numerical encoding for labels if we want to use this field as our prediction column."
      ]
    },
    {
      "cell_type": "code",
      "execution_count": null,
      "metadata": {
        "colab": {
          "base_uri": "https://localhost:8080/"
        },
        "id": "XtvppXBal_9f",
        "outputId": "602de5cd-918f-4aa7-bdde-51c952d19c57"
      },
      "outputs": [
        {
          "output_type": "stream",
          "name": "stdout",
          "text": [
            "+----------+---------+------------+-------------------+-------------------+-------------------+-------------------+---------------------------+---------------------------+---------------+---------------+--------------------+--------+--------+----------------+---------+----------------+------------+\n",
            "|      date|home_team|   away_team|home_team_continent|away_team_continent|home_team_fifa_rank|away_team_fifa_rank|home_team_total_fifa_points|away_team_total_fifa_points|home_team_score|away_team_score|          tournament|    city| country|neutral_location|shoot_out|home_team_result|Result_Class|\n",
            "+----------+---------+------------+-------------------+-------------------+-------------------+-------------------+---------------------------+---------------------------+---------------+---------------+--------------------+--------+--------+----------------+---------+----------------+------------+\n",
            "|1993-08-08|  Bolivia|     Uruguay|      South America|      South America|                 59|                 22|                          0|                          0|              3|              1|FIFA World Cup qu...|  La Paz| Bolivia|           false|       No|             Win|           2|\n",
            "|1993-08-08|   Brazil|      Mexico|      South America|      North America|                  8|                 14|                          0|                          0|              1|              1|            Friendly|  Maceió|  Brazil|           false|       No|            Draw|           1|\n",
            "|1993-08-08|  Ecuador|   Venezuela|      South America|      South America|                 35|                 94|                          0|                          0|              5|              0|FIFA World Cup qu...|   Quito| Ecuador|           false|       No|             Win|           2|\n",
            "|1993-08-08|   Guinea|Sierra Leone|             Africa|             Africa|                 65|                 86|                          0|                          0|              1|              0|            Friendly| Conakry|  Guinea|           false|       No|             Win|           2|\n",
            "|1993-08-08| Paraguay|   Argentina|      South America|      South America|                 67|                  5|                          0|                          0|              1|              3|FIFA World Cup qu...|Asunción|Paraguay|           false|       No|            Lose|           0|\n",
            "+----------+---------+------------+-------------------+-------------------+-------------------+-------------------+---------------------------+---------------------------+---------------+---------------+--------------------+--------+--------+----------------+---------+----------------+------------+\n",
            "only showing top 5 rows\n",
            "\n"
          ]
        }
      ],
      "source": [
        "## Add a new column to encode or create derived features\n",
        "## Lets say our target label is home_team_result column, and we want to encode lose, draw, win as 0, 1, 2\n",
        "mapping = {'Lose': 0, 'Draw': 1, 'Win': 2}\n",
        "map_col = F.create_map([F.lit(x) for i in mapping.items() for x in i])\n",
        "data = data.withColumn('Result_Class', map_col[F.col('home_team_result')])\n",
        "data.show(5)"
      ]
    },
    {
      "cell_type": "markdown",
      "metadata": {
        "id": "Q6PUe23x5GDx"
      },
      "source": [
        "#### Chapter 3: Exploratory Data Analysis (EDA)\n",
        "\n",
        "3.1 Using Group By"
      ]
    },
    {
      "cell_type": "code",
      "execution_count": null,
      "metadata": {
        "colab": {
          "base_uri": "https://localhost:8080/"
        },
        "id": "VhKgxNpbnpvk",
        "outputId": "d52838f1-4fc4-43dd-9db6-a43fb1a7f92f"
      },
      "outputs": [
        {
          "output_type": "stream",
          "name": "stdout",
          "text": [
            "+----------------+-----+\n",
            "|home_team_result|count|\n",
            "+----------------+-----+\n",
            "|             Win|11761|\n",
            "|            Draw| 5389|\n",
            "|            Lose| 6771|\n",
            "+----------------+-----+\n",
            "\n"
          ]
        }
      ],
      "source": [
        "## Lets use Group By to do some aggregation\n",
        "## Below example shows we want to see the distribution of WIN, DRAW and LOSE\n",
        "data.groupBy('home_team_result').count().show()"
      ]
    },
    {
      "cell_type": "markdown",
      "metadata": {
        "id": "gyxBtTRW_fmS"
      },
      "source": [
        "##### 3.2 Using SQL\n",
        "Are you more comfortable in SQL than pandas ? Then PySpark got your back. Lets try to run pure SQL in Spark."
      ]
    },
    {
      "cell_type": "code",
      "execution_count": null,
      "metadata": {
        "colab": {
          "base_uri": "https://localhost:8080/"
        },
        "id": "xRPRyrju_XC5",
        "outputId": "64b6b0fa-1af2-4e01-e56e-8c29accd45bb"
      },
      "outputs": [
        {
          "output_type": "stream",
          "name": "stdout",
          "text": [
            "+----------------+-----+\n",
            "|home_team_result|count|\n",
            "+----------------+-----+\n",
            "|             Win|11761|\n",
            "|            Draw| 5389|\n",
            "|            Lose| 6771|\n",
            "+----------------+-----+\n",
            "\n"
          ]
        }
      ],
      "source": [
        "# Above result in spark SQL\n",
        "## First we need to create a temp table for our dataframe\n",
        "data.createOrReplaceTempView(\"data_table\")\n",
        "\n",
        "## Now we can run our select query\n",
        "\n",
        "query = f\"\"\"\n",
        "         SELECT home_team_result, COUNT(*) as count\n",
        "         FROM data_table\n",
        "         GROUP BY home_team_result\n",
        "         \"\"\"\n",
        "## simply pass the query to spark.sql and remember Spark is lazy execution so we must show it.\n",
        "\n",
        "spark.sql(query).show()\n"
      ]
    },
    {
      "cell_type": "code",
      "execution_count": null,
      "metadata": {
        "colab": {
          "base_uri": "https://localhost:8080/"
        },
        "id": "BlgCy9Wj6fE8",
        "outputId": "6142a8b4-f8db-43b7-b129-ecb5a3afbb42"
      },
      "outputs": [
        {
          "output_type": "stream",
          "name": "stdout",
          "text": [
            "+--------------+----------------+-----+\n",
            "|     home_team|home_team_result|count|\n",
            "+--------------+----------------+-----+\n",
            "|   Afghanistan|            Lose|   12|\n",
            "|   Afghanistan|            Draw|    8|\n",
            "|   Afghanistan|             Win|   16|\n",
            "|       Albania|            Draw|   30|\n",
            "|       Albania|             Win|   52|\n",
            "|       Albania|            Lose|   49|\n",
            "|       Algeria|            Draw|   30|\n",
            "|       Algeria|             Win|   91|\n",
            "|       Algeria|            Lose|   38|\n",
            "|American Samoa|             Win|    3|\n",
            "|American Samoa|            Lose|   13|\n",
            "|American Samoa|            Draw|    1|\n",
            "|       Andorra|             Win|   10|\n",
            "|       Andorra|            Draw|   13|\n",
            "|       Andorra|            Lose|   74|\n",
            "|        Angola|            Draw|   45|\n",
            "|        Angola|             Win|   74|\n",
            "|        Angola|            Lose|   26|\n",
            "|      Anguilla|            Lose|   10|\n",
            "|      Anguilla|             Win|    1|\n",
            "+--------------+----------------+-----+\n",
            "only showing top 20 rows\n",
            "\n"
          ]
        }
      ],
      "source": [
        "## While it makes sense to view the overall distribution of results, but it is more useful to have by country.\n",
        "## we just need a list of columns we want to group by, and we can also apply sorting by country name\n",
        "data.groupBy(['home_team','home_team_result']).count().sort('home_team').show()"
      ]
    },
    {
      "cell_type": "code",
      "execution_count": null,
      "metadata": {
        "colab": {
          "base_uri": "https://localhost:8080/"
        },
        "id": "_AU9dN1cAty6",
        "outputId": "2be7ebf3-b033-45c8-cbfd-3a87d6242b2b"
      },
      "outputs": [
        {
          "output_type": "stream",
          "name": "stdout",
          "text": [
            "+--------------+----------------+-----+\n",
            "|     home_team|home_team_result|count|\n",
            "+--------------+----------------+-----+\n",
            "|   Afghanistan|            Lose|   12|\n",
            "|   Afghanistan|            Draw|    8|\n",
            "|   Afghanistan|             Win|   16|\n",
            "|       Albania|            Draw|   30|\n",
            "|       Albania|             Win|   52|\n",
            "|       Albania|            Lose|   49|\n",
            "|       Algeria|            Draw|   30|\n",
            "|       Algeria|             Win|   91|\n",
            "|       Algeria|            Lose|   38|\n",
            "|American Samoa|             Win|    3|\n",
            "|American Samoa|            Lose|   13|\n",
            "|American Samoa|            Draw|    1|\n",
            "|       Andorra|             Win|   10|\n",
            "|       Andorra|            Draw|   13|\n",
            "|       Andorra|            Lose|   74|\n",
            "|        Angola|            Draw|   45|\n",
            "|        Angola|             Win|   74|\n",
            "|        Angola|            Lose|   26|\n",
            "|      Anguilla|            Lose|   10|\n",
            "|      Anguilla|             Win|    1|\n",
            "+--------------+----------------+-----+\n",
            "only showing top 20 rows\n",
            "\n"
          ]
        }
      ],
      "source": [
        "# we can run above code in spark sql, once we create temp table we can use it\n",
        "\n",
        "query = f\"\"\"\n",
        "         SELECT home_team, home_team_result, COUNT(*) as count\n",
        "         FROM data_table\n",
        "         GROUP BY home_team, home_team_result\n",
        "         ORDER BY home_team\n",
        "         \"\"\"\n",
        "spark.sql(query).show()\n"
      ]
    },
    {
      "cell_type": "code",
      "execution_count": null,
      "metadata": {
        "colab": {
          "base_uri": "https://localhost:8080/"
        },
        "id": "EdjRnn017hV3",
        "outputId": "591720a8-6521-4087-8276-5039f5d32c49"
      },
      "outputs": [
        {
          "output_type": "stream",
          "name": "stdout",
          "text": [
            "+---------+----------------+-----+\n",
            "|home_team|home_team_result|count|\n",
            "+---------+----------------+-----+\n",
            "|   Brazil|             Win|  181|\n",
            "|   Brazil|            Draw|   31|\n",
            "|   Brazil|            Lose|   21|\n",
            "+---------+----------------+-----+\n",
            "\n"
          ]
        }
      ],
      "source": [
        "## Now lets analyze results for Brazil\n",
        "## first we filter home team for Brazil, then group by result and do count\n",
        "data.where(F.col('home_team') == 'Brazil').groupBy(['home_team','home_team_result']).count().show()"
      ]
    },
    {
      "cell_type": "code",
      "execution_count": null,
      "metadata": {
        "colab": {
          "base_uri": "https://localhost:8080/"
        },
        "id": "egCmvpWyBg2I",
        "outputId": "46480c23-ab57-46d6-fe18-4d3fdd9569e9"
      },
      "outputs": [
        {
          "output_type": "stream",
          "name": "stdout",
          "text": [
            "+---------+----------------+-----+\n",
            "|home_team|home_team_result|count|\n",
            "+---------+----------------+-----+\n",
            "|   Brazil|             Win|  181|\n",
            "|   Brazil|            Draw|   31|\n",
            "|   Brazil|            Lose|   21|\n",
            "+---------+----------------+-----+\n",
            "\n"
          ]
        }
      ],
      "source": [
        "## we can also run the above code using spark sql\n",
        "## all we need is to create a temp table from our dataframe\n",
        "data.createOrReplaceTempView(\"data_table\")\n",
        "\n",
        "query = f\"\"\"\n",
        "         SELECT home_team, home_team_result, COUNT(*) as count\n",
        "         FROM data_table\n",
        "         WHERE home_team = 'Brazil'\n",
        "         GROUP BY 1,2\n",
        "         \"\"\"\n",
        "spark.sql(query).show()"
      ]
    },
    {
      "cell_type": "code",
      "execution_count": null,
      "metadata": {
        "id": "rxMnoLLpFHCJ"
      },
      "outputs": [],
      "source": [
        "import seaborn as sns\n",
        "import matplotlib.pyplot as plt"
      ]
    },
    {
      "cell_type": "code",
      "execution_count": null,
      "metadata": {
        "colab": {
          "base_uri": "https://localhost:8080/",
          "height": 410
        },
        "id": "Z0q6Mqiv74Z0",
        "outputId": "10c5359e-3888-4b78-cc9e-aff1ec6c140a"
      },
      "outputs": [
        {
          "output_type": "display_data",
          "data": {
            "text/plain": [
              "<Figure size 600x400 with 1 Axes>"
            ],
            "image/png": "[encoded data removed]"
          },
          "metadata": {}
        }
      ],
      "source": [
        "## We want a bar plot for above result\n",
        "## first capture that result in a temp df and plot it\n",
        "temp_df = spark.sql(query).toPandas()\n",
        "\n",
        "plt.figure(figsize=(6, 4))\n",
        "sns.barplot(x='home_team_result', y='count', data=temp_df, hue= 'home_team_result',\n",
        "            palette = {'Win': 'green', 'Draw': 'yellow', 'Lose': 'red'}, legend = False)\n",
        "plt.title('Distribution of Home Team Results for Brazil')\n",
        "plt.xlabel('Home Team Result')\n",
        "plt.ylabel('Count')\n",
        "plt.show()"
      ]
    },
    {
      "cell_type": "code",
      "execution_count": null,
      "metadata": {
        "colab": {
          "base_uri": "https://localhost:8080/"
        },
        "id": "fFBjpMiu-PF0",
        "outputId": "4790627d-8c90-4c21-c7e2-d9615d5ad1e3"
      },
      "outputs": [
        {
          "output_type": "stream",
          "name": "stdout",
          "text": [
            "+--------------+----------+\n",
            "|     home_team|total_wins|\n",
            "+--------------+----------+\n",
            "|           USA|       194|\n",
            "|        Mexico|       190|\n",
            "|        Brazil|       181|\n",
            "|  Saudi Arabia|       164|\n",
            "|         Egypt|       163|\n",
            "|         Japan|       154|\n",
            "|         Spain|       145|\n",
            "|        France|       145|\n",
            "|Korea Republic|       140|\n",
            "|       Germany|       139|\n",
            "+--------------+----------+\n",
            "\n"
          ]
        }
      ],
      "source": [
        "# We want to get the top 10 countries with the most wins\n",
        "\n",
        "top_10_wins = data.groupBy('home_team') \\\n",
        "                  .agg(F.sum(F.when(F.col('home_team_result') == 'Win', 1).otherwise(0)) \\\n",
        "                  .alias('total_wins')).orderBy(F.col('total_wins').desc()).limit(10)\n",
        "top_10_wins.show()\n"
      ]
    },
    {
      "cell_type": "code",
      "execution_count": null,
      "metadata": {
        "colab": {
          "base_uri": "https://localhost:8080/"
        },
        "id": "DGAxpQ6-CwoF",
        "outputId": "a852d767-c7d6-4e03-b284-6f7618b85f6c"
      },
      "outputs": [
        {
          "output_type": "stream",
          "name": "stdout",
          "text": [
            "+--------------+----------+\n",
            "|     home_team|total_wins|\n",
            "+--------------+----------+\n",
            "|           USA|       194|\n",
            "|        Mexico|       190|\n",
            "|        Brazil|       181|\n",
            "|  Saudi Arabia|       164|\n",
            "|         Egypt|       163|\n",
            "|         Japan|       154|\n",
            "|         Spain|       145|\n",
            "|        France|       145|\n",
            "|Korea Republic|       140|\n",
            "|       Germany|       139|\n",
            "+--------------+----------+\n",
            "\n"
          ]
        }
      ],
      "source": [
        "# we can also run the above result using spark SQL\n",
        "\n",
        "query = f\"\"\"\n",
        "         SELECT home_team, SUM(CASE WHEN home_team_result = 'Win' THEN 1 ELSE 0 END) as total_wins\n",
        "         FROM data_table\n",
        "         GROUP BY home_team\n",
        "         ORDER BY total_wins DESC\n",
        "         LIMIT 10\n",
        "         \"\"\"\n",
        "spark.sql(query).show()\n"
      ]
    },
    {
      "cell_type": "code",
      "execution_count": null,
      "metadata": {
        "colab": {
          "base_uri": "https://localhost:8080/",
          "height": 300
        },
        "id": "y5SGRjMX6E1J",
        "outputId": "11cfceba-1aae-4931-9c82-2d3f82439255"
      },
      "outputs": [
        {
          "output_type": "execute_result",
          "data": {
            "text/plain": [
              "                                 0                   1                   2  \\\n",
              "summary                      count                mean              stddev   \n",
              "home_team_fifa_rank          23921   77.85468834914928   52.35522517098862   \n",
              "away_team_fifa_rank          23921   80.79737469169349    53.2329018803766   \n",
              "home_team_total_fifa_points  23921  323.40148823209734  500.82572453797627   \n",
              "away_team_total_fifa_points  23921   315.4535763555035  490.94427310371316   \n",
              "home_team_score              23921  1.6092136616362192    1.63012671231451   \n",
              "away_team_score              23921  1.0682663768237113   1.263944312867616   \n",
              "Result_Class                 23921  1.2086033192592283  0.8551210439874892   \n",
              "\n",
              "                               3     4  \n",
              "summary                      min   max  \n",
              "home_team_fifa_rank            1   211  \n",
              "away_team_fifa_rank            1   211  \n",
              "home_team_total_fifa_points    0  2164  \n",
              "away_team_total_fifa_points    0  2164  \n",
              "home_team_score                0    31  \n",
              "away_team_score                0    21  \n",
              "Result_Class                   0     2  "
            ],
            "text/html": [
              "\n",
              "  <div id=\"df-bb090f24-ccb6-43e8-84ff-10d7faa1c129\" class=\"colab-df-container\">\n",
              "    <div>\n",
              "<style scoped>\n",
              "    .dataframe tbody tr th:only-of-type {\n",
              "        vertical-align: middle;\n",
              "    }\n",
              "\n",
              "    .dataframe tbody tr th {\n",
              "        vertical-align: top;\n",
              "    }\n",
              "\n",
              "    .dataframe thead th {\n",
              "        text-align: right;\n",
              "    }\n",
              "</style>\n",
              "<table border=\"1\" class=\"dataframe\">\n",
              "  <thead>\n",
              "    <tr style=\"text-align: right;\">\n",
              "      <th></th>\n",
              "      <th>0</th>\n",
              "      <th>1</th>\n",
              "      <th>2</th>\n",
              "      <th>3</th>\n",
              "      <th>4</th>\n",
              "    </tr>\n",
              "  </thead>\n",
              "  <tbody>\n",
              "    <tr>\n",
              "      <th>summary</th>\n",
              "      <td>count</td>\n",
              "      <td>mean</td>\n",
              "      <td>stddev</td>\n",
              "      <td>min</td>\n",
              "      <td>max</td>\n",
              "    </tr>\n",
              "    <tr>\n",
              "      <th>home_team_fifa_rank</th>\n",
              "      <td>23921</td>\n",
              "      <td>77.85468834914928</td>\n",
              "      <td>52.35522517098862</td>\n",
              "      <td>1</td>\n",
              "      <td>211</td>\n",
              "    </tr>\n",
              "    <tr>\n",
              "      <th>away_team_fifa_rank</th>\n",
              "      <td>23921</td>\n",
              "      <td>80.79737469169349</td>\n",
              "      <td>53.2329018803766</td>\n",
              "      <td>1</td>\n",
              "      <td>211</td>\n",
              "    </tr>\n",
              "    <tr>\n",
              "      <th>home_team_total_fifa_points</th>\n",
              "      <td>23921</td>\n",
              "      <td>323.40148823209734</td>\n",
              "      <td>500.82572453797627</td>\n",
              "      <td>0</td>\n",
              "      <td>2164</td>\n",
              "    </tr>\n",
              "    <tr>\n",
              "      <th>away_team_total_fifa_points</th>\n",
              "      <td>23921</td>\n",
              "      <td>315.4535763555035</td>\n",
              "      <td>490.94427310371316</td>\n",
              "      <td>0</td>\n",
              "      <td>2164</td>\n",
              "    </tr>\n",
              "    <tr>\n",
              "      <th>home_team_score</th>\n",
              "      <td>23921</td>\n",
              "      <td>1.6092136616362192</td>\n",
              "      <td>1.63012671231451</td>\n",
              "      <td>0</td>\n",
              "      <td>31</td>\n",
              "    </tr>\n",
              "    <tr>\n",
              "      <th>away_team_score</th>\n",
              "      <td>23921</td>\n",
              "      <td>1.0682663768237113</td>\n",
              "      <td>1.263944312867616</td>\n",
              "      <td>0</td>\n",
              "      <td>21</td>\n",
              "    </tr>\n",
              "    <tr>\n",
              "      <th>Result_Class</th>\n",
              "      <td>23921</td>\n",
              "      <td>1.2086033192592283</td>\n",
              "      <td>0.8551210439874892</td>\n",
              "      <td>0</td>\n",
              "      <td>2</td>\n",
              "    </tr>\n",
              "  </tbody>\n",
              "</table>\n",
              "</div>\n",
              "    <div class=\"colab-df-buttons\">\n",
              "\n",
              "  <div class=\"colab-df-container\">\n",
              "    <button class=\"colab-df-convert\" onclick=\"convertToInteractive('df-bb090f24-ccb6-43e8-84ff-10d7faa1c129')\"\n",
              "            title=\"Convert this dataframe to an interactive table.\"\n",
              "            style=\"display:none;\">\n",
              "\n",
              "  <svg xmlns=\"http://www.w3.org/2000/svg\" height=\"24px\" viewBox=\"0 -960 960 960\">\n",
              "    <path d=\"M120-120v-720h720v720H120Zm60-500h600v-160H180v160Zm220 220h160v-160H400v160Zm0 220h160v-160H400v160ZM180-400h160v-160H180v160Zm440 0h160v-160H620v160ZM180-180h160v-160H180v160Zm440 0h160v-160H620v160Z\"/>\n",
              "  </svg>\n",
              "    </button>\n",
              "\n",
              "  <style>\n",
              "    .colab-df-container {\n",
              "      display:flex;\n",
              "      gap: 12px;\n",
              "    }\n",
              "\n",
              "    .colab-df-convert {\n",
              "      background-color: #E8F0FE;\n",
              "      border: none;\n",
              "      border-radius: 50%;\n",
              "      cursor: pointer;\n",
              "      display: none;\n",
              "      fill: #1967D2;\n",
              "      height: 32px;\n",
              "      padding: 0 0 0 0;\n",
              "      width: 32px;\n",
              "    }\n",
              "\n",
              "    .colab-df-convert:hover {\n",
              "      background-color: #E2EBFA;\n",
              "      box-shadow: 0px 1px 2px rgba(60, 64, 67, 0.3), 0px 1px 3px 1px rgba(60, 64, 67, 0.15);\n",
              "      fill: #174EA6;\n",
              "    }\n",
              "\n",
              "    .colab-df-buttons div {\n",
              "      margin-bottom: 4px;\n",
              "    }\n",
              "\n",
              "    [theme=dark] .colab-df-convert {\n",
              "      background-color: #3B4455;\n",
              "      fill: #D2E3FC;\n",
              "    }\n",
              "\n",
              "    [theme=dark] .colab-df-convert:hover {\n",
              "      background-color: #434B5C;\n",
              "      box-shadow: 0px 1px 3px 1px rgba(0, 0, 0, 0.15);\n",
              "      filter: drop-shadow(0px 1px 2px rgba(0, 0, 0, 0.3));\n",
              "      fill: #FFFFFF;\n",
              "    }\n",
              "  </style>\n",
              "\n",
              "    <script>\n",
              "      const buttonEl =\n",
              "        document.querySelector('#df-bb090f24-ccb6-43e8-84ff-10d7faa1c129 button.colab-df-convert');\n",
              "      buttonEl.style.display =\n",
              "        google.colab.kernel.accessAllowed ? 'block' : 'none';\n",
              "\n",
              "      async function convertToInteractive(key) {\n",
              "        const element = document.querySelector('#df-bb090f24-ccb6-43e8-84ff-10d7faa1c129');\n",
              "        const dataTable =\n",
              "          await google.colab.kernel.invokeFunction('convertToInteractive',\n",
              "                                                    [key], {});\n",
              "        if (!dataTable) return;\n",
              "\n",
              "        const docLinkHtml = 'Like what you see? Visit the ' +\n",
              "          '<a target=\"_blank\" href=https://colab.research.google.com/notebooks/data_table.ipynb>data table notebook</a>'\n",
              "          + ' to learn more about interactive tables.';\n",
              "        element.innerHTML = '';\n",
              "        dataTable['output_type'] = 'display_data';\n",
              "        await google.colab.output.renderOutput(dataTable, element);\n",
              "        const docLink = document.createElement('div');\n",
              "        docLink.innerHTML = docLinkHtml;\n",
              "        element.appendChild(docLink);\n",
              "      }\n",
              "    </script>\n",
              "  </div>\n",
              "\n",
              "\n",
              "<div id=\"df-d51cce29-127d-4aa7-8638-205be9c3bfb9\">\n",
              "  <button class=\"colab-df-quickchart\" onclick=\"quickchart('df-d51cce29-127d-4aa7-8638-205be9c3bfb9')\"\n",
              "            title=\"Suggest charts\"\n",
              "            style=\"display:none;\">\n",
              "\n",
              "<svg xmlns=\"http://www.w3.org/2000/svg\" height=\"24px\"viewBox=\"0 0 24 24\"\n",
              "     width=\"24px\">\n",
              "    <g>\n",
              "        <path d=\"M19 3H5c-1.1 0-2 .9-2 2v14c0 1.1.9 2 2 2h14c1.1 0 2-.9 2-2V5c0-1.1-.9-2-2-2zM9 17H7v-7h2v7zm4 0h-2V7h2v10zm4 0h-2v-4h2v4z\"/>\n",
              "    </g>\n",
              "</svg>\n",
              "  </button>\n",
              "\n",
              "<style>\n",
              "  .colab-df-quickchart {\n",
              "      --bg-color: #E8F0FE;\n",
              "      --fill-color: #1967D2;\n",
              "      --hover-bg-color: #E2EBFA;\n",
              "      --hover-fill-color: #174EA6;\n",
              "      --disabled-fill-color: #AAA;\n",
              "      --disabled-bg-color: #DDD;\n",
              "  }\n",
              "\n",
              "  [theme=dark] .colab-df-quickchart {\n",
              "      --bg-color: #3B4455;\n",
              "      --fill-color: #D2E3FC;\n",
              "      --hover-bg-color: #434B5C;\n",
              "      --hover-fill-color: #FFFFFF;\n",
              "      --disabled-bg-color: #3B4455;\n",
              "      --disabled-fill-color: #666;\n",
              "  }\n",
              "\n",
              "  .colab-df-quickchart {\n",
              "    background-color: var(--bg-color);\n",
              "    border: none;\n",
              "    border-radius: 50%;\n",
              "    cursor: pointer;\n",
              "    display: none;\n",
              "    fill: var(--fill-color);\n",
              "    height: 32px;\n",
              "    padding: 0;\n",
              "    width: 32px;\n",
              "  }\n",
              "\n",
              "  .colab-df-quickchart:hover {\n",
              "    background-color: var(--hover-bg-color);\n",
              "    box-shadow: 0 1px 2px rgba(60, 64, 67, 0.3), 0 1px 3px 1px rgba(60, 64, 67, 0.15);\n",
              "    fill: var(--button-hover-fill-color);\n",
              "  }\n",
              "\n",
              "  .colab-df-quickchart-complete:disabled,\n",
              "  .colab-df-quickchart-complete:disabled:hover {\n",
              "    background-color: var(--disabled-bg-color);\n",
              "    fill: var(--disabled-fill-color);\n",
              "    box-shadow: none;\n",
              "  }\n",
              "\n",
              "  .colab-df-spinner {\n",
              "    border: 2px solid var(--fill-color);\n",
              "    border-color: transparent;\n",
              "    border-bottom-color: var(--fill-color);\n",
              "    animation:\n",
              "      spin 1s steps(1) infinite;\n",
              "  }\n",
              "\n",
              "  @keyframes spin {\n",
              "    0% {\n",
              "      border-color: transparent;\n",
              "      border-bottom-color: var(--fill-color);\n",
              "      border-left-color: var(--fill-color);\n",
              "    }\n",
              "    20% {\n",
              "      border-color: transparent;\n",
              "      border-left-color: var(--fill-color);\n",
              "      border-top-color: var(--fill-color);\n",
              "    }\n",
              "    30% {\n",
              "      border-color: transparent;\n",
              "      border-left-color: var(--fill-color);\n",
              "      border-top-color: var(--fill-color);\n",
              "      border-right-color: var(--fill-color);\n",
              "    }\n",
              "    40% {\n",
              "      border-color: transparent;\n",
              "      border-right-color: var(--fill-color);\n",
              "      border-top-color: var(--fill-color);\n",
              "    }\n",
              "    60% {\n",
              "      border-color: transparent;\n",
              "      border-right-color: var(--fill-color);\n",
              "    }\n",
              "    80% {\n",
              "      border-color: transparent;\n",
              "      border-right-color: var(--fill-color);\n",
              "      border-bottom-color: var(--fill-color);\n",
              "    }\n",
              "    90% {\n",
              "      border-color: transparent;\n",
              "      border-bottom-color: var(--fill-color);\n",
              "    }\n",
              "  }\n",
              "</style>\n",
              "\n",
              "  <script>\n",
              "    async function quickchart(key) {\n",
              "      const quickchartButtonEl =\n",
              "        document.querySelector('#' + key + ' button');\n",
              "      quickchartButtonEl.disabled = true;  // To prevent multiple clicks.\n",
              "      quickchartButtonEl.classList.add('colab-df-spinner');\n",
              "      try {\n",
              "        const charts = await google.colab.kernel.invokeFunction(\n",
              "            'suggestCharts', [key], {});\n",
              "      } catch (error) {\n",
              "        console.error('Error during call to suggestCharts:', error);\n",
              "      }\n",
              "      quickchartButtonEl.classList.remove('colab-df-spinner');\n",
              "      quickchartButtonEl.classList.add('colab-df-quickchart-complete');\n",
              "    }\n",
              "    (() => {\n",
              "      let quickchartButtonEl =\n",
              "        document.querySelector('#df-d51cce29-127d-4aa7-8638-205be9c3bfb9 button');\n",
              "      quickchartButtonEl.style.display =\n",
              "        google.colab.kernel.accessAllowed ? 'block' : 'none';\n",
              "    })();\n",
              "  </script>\n",
              "</div>\n",
              "\n",
              "  <div id=\"id_c1749106-8c17-4d58-b9e4-dfd75370e030\">\n",
              "    <style>\n",
              "      .colab-df-generate {\n",
              "        background-color: #E8F0FE;\n",
              "        border: none;\n",
              "        border-radius: 50%;\n",
              "        cursor: pointer;\n",
              "        display: none;\n",
              "        fill: #1967D2;\n",
              "        height: 32px;\n",
              "        padding: 0 0 0 0;\n",
              "        width: 32px;\n",
              "      }\n",
              "\n",
              "      .colab-df-generate:hover {\n",
              "        background-color: #E2EBFA;\n",
              "        box-shadow: 0px 1px 2px rgba(60, 64, 67, 0.3), 0px 1px 3px 1px rgba(60, 64, 67, 0.15);\n",
              "        fill: #174EA6;\n",
              "      }\n",
              "\n",
              "      [theme=dark] .colab-df-generate {\n",
              "        background-color: #3B4455;\n",
              "        fill: #D2E3FC;\n",
              "      }\n",
              "\n",
              "      [theme=dark] .colab-df-generate:hover {\n",
              "        background-color: #434B5C;\n",
              "        box-shadow: 0px 1px 3px 1px rgba(0, 0, 0, 0.15);\n",
              "        filter: drop-shadow(0px 1px 2px rgba(0, 0, 0, 0.3));\n",
              "        fill: #FFFFFF;\n",
              "      }\n",
              "    </style>\n",
              "    <button class=\"colab-df-generate\" onclick=\"generateWithVariable('description')\"\n",
              "            title=\"Generate code using this dataframe.\"\n",
              "            style=\"display:none;\">\n",
              "\n",
              "  <svg xmlns=\"http://www.w3.org/2000/svg\" height=\"24px\"viewBox=\"0 0 24 24\"\n",
              "       width=\"24px\">\n",
              "    <path d=\"M7,19H8.4L18.45,9,17,7.55,7,17.6ZM5,21V16.75L18.45,3.32a2,2,0,0,1,2.83,0l1.4,1.43a1.91,1.91,0,0,1,.58,1.4,1.91,1.91,0,0,1-.58,1.4L9.25,21ZM18.45,9,17,7.55Zm-12,3A5.31,5.31,0,0,0,4.9,8.1,5.31,5.31,0,0,0,1,6.5,5.31,5.31,0,0,0,4.9,4.9,5.31,5.31,0,0,0,6.5,1,5.31,5.31,0,0,0,8.1,4.9,5.31,5.31,0,0,0,12,6.5,5.46,5.46,0,0,0,6.5,12Z\"/>\n",
              "  </svg>\n",
              "    </button>\n",
              "    <script>\n",
              "      (() => {\n",
              "      const buttonEl =\n",
              "        document.querySelector('#id_c1749106-8c17-4d58-b9e4-dfd75370e030 button.colab-df-generate');\n",
              "      buttonEl.style.display =\n",
              "        google.colab.kernel.accessAllowed ? 'block' : 'none';\n",
              "\n",
              "      buttonEl.onclick = () => {\n",
              "        google.colab.notebook.generateWithVariable('description');\n",
              "      }\n",
              "      })();\n",
              "    </script>\n",
              "  </div>\n",
              "\n",
              "    </div>\n",
              "  </div>\n"
            ],
            "application/vnd.google.colaboratory.intrinsic+json": {
              "type": "dataframe",
              "variable_name": "description",
              "summary": "{\n  \"name\": \"description\",\n  \"rows\": 8,\n  \"fields\": [\n    {\n      \"column\": 0,\n      \"properties\": {\n        \"dtype\": \"category\",\n        \"num_unique_values\": 2,\n        \"samples\": [\n          \"23921\",\n          \"count\"\n        ],\n        \"semantic_type\": \"\",\n        \"description\": \"\"\n      }\n    },\n    {\n      \"column\": 1,\n      \"properties\": {\n        \"dtype\": \"string\",\n        \"num_unique_values\": 8,\n        \"samples\": [\n          \"77.85468834914928\",\n          \"1.6092136616362192\"\n        ],\n        \"semantic_type\": \"\",\n        \"description\": \"\"\n      }\n    },\n    {\n      \"column\": 2,\n      \"properties\": {\n        \"dtype\": \"string\",\n        \"num_unique_values\": 8,\n        \"samples\": [\n          \"52.35522517098862\",\n          \"1.63012671231451\"\n        ],\n        \"semantic_type\": \"\",\n        \"description\": \"\"\n      }\n    },\n    {\n      \"column\": 3,\n      \"properties\": {\n        \"dtype\": \"category\",\n        \"num_unique_values\": 3,\n        \"samples\": [\n          \"min\",\n          \"1\"\n        ],\n        \"semantic_type\": \"\",\n        \"description\": \"\"\n      }\n    },\n    {\n      \"column\": 4,\n      \"properties\": {\n        \"dtype\": \"string\",\n        \"num_unique_values\": 6,\n        \"samples\": [\n          \"max\",\n          \"211\"\n        ],\n        \"semantic_type\": \"\",\n        \"description\": \"\"\n      }\n    }\n  ]\n}"
            }
          },
          "metadata": {},
          "execution_count": 149
        }
      ],
      "source": [
        "## Lets see the describe function, which gives us the descriptive stats for all numerical columns in dataframe\n",
        "description = data.describe().toPandas().dropna(axis=1).T\n",
        "description"
      ]
    },
    {
      "cell_type": "code",
      "execution_count": null,
      "metadata": {
        "colab": {
          "base_uri": "https://localhost:8080/"
        },
        "id": "BZckl2bgDx5Q",
        "outputId": "da8dc83e-e0b2-4f66-d09c-503cedc0da94"
      },
      "outputs": [
        {
          "output_type": "stream",
          "name": "stdout",
          "text": [
            "+----------+---------+--------------+---------------+---------------+--------------------+\n",
            "|      date|home_team|     away_team|home_team_score|away_team_score|          tournament|\n",
            "+----------+---------+--------------+---------------+---------------+--------------------+\n",
            "|2001-04-11|Australia|American Samoa|             31|              0|FIFA World Cup qu...|\n",
            "+----------+---------+--------------+---------------+---------------+--------------------+\n",
            "\n"
          ]
        }
      ],
      "source": [
        "## Looking at above , I am really intterested to find that game where score was 31\n",
        "\n",
        "query = \"\"\"\n",
        "   SELECT date, home_team, away_team, home_team_score, away_team_score, tournament\n",
        "   FROM data_table\n",
        "   WHERE home_team_score = 31\n",
        "\"\"\"\n",
        "spark.sql(query).show()\n"
      ]
    },
    {
      "cell_type": "markdown",
      "metadata": {
        "id": "bEn8YNjXWZFL"
      },
      "source": [
        "### Chapter 4: More on Exploratory Data Analysis :EDA"
      ]
    },
    {
      "cell_type": "code",
      "execution_count": null,
      "metadata": {
        "colab": {
          "base_uri": "https://localhost:8080/"
        },
        "id": "oTu1p0b2iCpM",
        "outputId": "63b42d27-3c4f-43c7-8527-10b8aac20fba"
      },
      "outputs": [
        {
          "output_type": "execute_result",
          "data": {
            "text/plain": [
              "211"
            ]
          },
          "metadata": {},
          "execution_count": 151
        }
      ],
      "source": [
        "## Question: How many unique teams are here on our data ?\n",
        "data.select('home_team').distinct().count()"
      ]
    },
    {
      "cell_type": "code",
      "execution_count": null,
      "metadata": {
        "colab": {
          "base_uri": "https://localhost:8080/"
        },
        "id": "NaVwzEQJiCJk",
        "outputId": "ceaf737a-695e-4a68-a0ef-01e6fd2e3bfc"
      },
      "outputs": [
        {
          "output_type": "execute_result",
          "data": {
            "text/plain": [
              "211"
            ]
          },
          "metadata": {},
          "execution_count": 152
        }
      ],
      "source": [
        "## If every team had played home and away games, the away team cound should be same , lets check\n",
        "data.select('away_team').distinct().count()"
      ]
    },
    {
      "cell_type": "code",
      "execution_count": null,
      "metadata": {
        "colab": {
          "base_uri": "https://localhost:8080/"
        },
        "id": "xwF3-qgIju98",
        "outputId": "01e79e7b-1713-46a8-ed05-47dfbdcb030e"
      },
      "outputs": [
        {
          "output_type": "stream",
          "name": "stdout",
          "text": [
            "+---------------+---------------+\n",
            "|home_team_count|away_team_count|\n",
            "+---------------+---------------+\n",
            "|            211|            211|\n",
            "+---------------+---------------+\n",
            "\n"
          ]
        }
      ],
      "source": [
        "## lets get the above results in SQL\n",
        "query = f\"\"\"\n",
        "         SELECT COUNT(DISTINCT home_team) as home_team_count, COUNT(DISTINCT away_team) as away_team_count\n",
        "         FROM data_table\n",
        "         \"\"\"\n",
        "spark.sql(query).show()"
      ]
    },
    {
      "cell_type": "code",
      "execution_count": null,
      "metadata": {
        "colab": {
          "base_uri": "https://localhost:8080/"
        },
        "id": "Z5EjpVtJju7S",
        "outputId": "42da06b9-bf73-4b86-9513-97fbefa165c6"
      },
      "outputs": [
        {
          "output_type": "stream",
          "name": "stdout",
          "text": [
            "+---------+\n",
            "|home_team|\n",
            "+---------+\n",
            "|  Germany|\n",
            "|   Brazil|\n",
            "|  Germany|\n",
            "|  Germany|\n",
            "|  Germany|\n",
            "|  Germany|\n",
            "|   Brazil|\n",
            "|   Brazil|\n",
            "|   Brazil|\n",
            "|   Brazil|\n",
            "|   Brazil|\n",
            "|   Brazil|\n",
            "|   Brazil|\n",
            "|   Brazil|\n",
            "|   Brazil|\n",
            "|   Brazil|\n",
            "|   Brazil|\n",
            "|   Brazil|\n",
            "|   Brazil|\n",
            "|   Brazil|\n",
            "+---------+\n",
            "only showing top 20 rows\n",
            "\n"
          ]
        }
      ],
      "source": [
        "## Earlier we saw USA has the highest number of wins, but that does not necessarily mean USA will rank first, lets see top 5 ranked teams\n",
        "## Basically we just filter for that rank column\n",
        "\n",
        "data.filter(data['home_team_fifa_rank'] == 1).select('home_team').show()"
      ]
    },
    {
      "cell_type": "markdown",
      "metadata": {
        "id": "KvS8kYLcmd_z"
      },
      "source": [
        "###### What happened above ? I was thinking I will get the number 1 ranked company, expecting one data point as result. But it makes sense in our data that 'rank' actually changes over time, and we have timestamp. Now, how to get the best team so far , meaning the team that was ranked 1 highest number of times.\n"
      ]
    },
    {
      "cell_type": "code",
      "execution_count": null,
      "metadata": {
        "colab": {
          "base_uri": "https://localhost:8080/"
        },
        "id": "kUFWLs9SmYw-",
        "outputId": "301452ec-0c0e-4e55-bfab-76d7f3d753a5"
      },
      "outputs": [
        {
          "output_type": "stream",
          "name": "stdout",
          "text": [
            "+---------+----------+\n",
            "|home_team|total_rank|\n",
            "+---------+----------+\n",
            "|   Brazil|       806|\n",
            "+---------+----------+\n",
            "only showing top 1 row\n",
            "\n"
          ]
        }
      ],
      "source": [
        "# We want to sum home_team_fifa_rank and then display lowest SUM, would be our number 1 overall team\n",
        "\n",
        "data.groupBy('home_team') \\\n",
        "    .agg(F.sum('home_team_fifa_rank').alias('total_rank')) \\\n",
        "    .orderBy(F.col('total_rank')) \\\n",
        "    .show(1)\n"
      ]
    },
    {
      "cell_type": "code",
      "execution_count": null,
      "metadata": {
        "colab": {
          "base_uri": "https://localhost:8080/"
        },
        "id": "-NltOVh0nuL8",
        "outputId": "a0553d6e-7fe4-4f42-dfaa-7dbf35388ece"
      },
      "outputs": [
        {
          "output_type": "stream",
          "name": "stdout",
          "text": [
            "+--------------------+----------+\n",
            "|           home_team|total_rank|\n",
            "+--------------------+----------+\n",
            "|              Brazil|       806|\n",
            "|               Spain|      1014|\n",
            "|           Argentina|      1291|\n",
            "|             Germany|      1523|\n",
            "|Turks and Caicos ...|      1601|\n",
            "|               Italy|      1792|\n",
            "|              France|      1795|\n",
            "|        Cook Islands|      1906|\n",
            "|            Portugal|      1906|\n",
            "|         Netherlands|      1950|\n",
            "+--------------------+----------+\n",
            "only showing top 10 rows\n",
            "\n"
          ]
        }
      ],
      "source": [
        "## I can simply change the number if I want top 10\n",
        "data.groupBy('home_team') \\\n",
        "    .agg(F.sum('home_team_fifa_rank').alias('total_rank')) \\\n",
        "    .orderBy(F.col('total_rank')) \\\n",
        "    .show(10)"
      ]
    },
    {
      "cell_type": "code",
      "execution_count": null,
      "metadata": {
        "colab": {
          "base_uri": "https://localhost:8080/"
        },
        "id": "ednOkz8fn-9c",
        "outputId": "1d4dc312-0659-475b-8a7f-02e3fcd26184"
      },
      "outputs": [
        {
          "output_type": "stream",
          "name": "stdout",
          "text": [
            "+--------------------+----------+\n",
            "|           home_team|total_rank|\n",
            "+--------------------+----------+\n",
            "|              Brazil|       806|\n",
            "|               Spain|      1014|\n",
            "|           Argentina|      1291|\n",
            "|             Germany|      1523|\n",
            "|Turks and Caicos ...|      1601|\n",
            "|               Italy|      1792|\n",
            "|              France|      1795|\n",
            "|        Cook Islands|      1906|\n",
            "|            Portugal|      1906|\n",
            "|         Netherlands|      1950|\n",
            "+--------------------+----------+\n",
            "\n"
          ]
        }
      ],
      "source": [
        "## Generate above result in SQL\n",
        "query = f\"\"\"\n",
        "         SELECT home_team, SUM(home_team_fifa_rank) as total_rank\n",
        "         FROM data_table\n",
        "         GROUP BY home_team\n",
        "         ORDER BY total_rank\n",
        "         LIMIT 10\n",
        "         \"\"\"\n",
        "spark.sql(query).show()"
      ]
    },
    {
      "cell_type": "code",
      "execution_count": null,
      "metadata": {
        "colab": {
          "base_uri": "https://localhost:8080/"
        },
        "id": "fXEeTf2LoLFo",
        "outputId": "3d84b7c3-1577-422b-cc8f-358d0a0bc142"
      },
      "outputs": [
        {
          "output_type": "stream",
          "name": "stdout",
          "text": [
            "+---------+-------------------+----------+\n",
            "|home_team|home_team_continent|total_rank|\n",
            "+---------+-------------------+----------+\n",
            "|   Brazil|      South America|       806|\n",
            "|Argentina|      South America|      1291|\n",
            "|  Uruguay|      South America|      3269|\n",
            "| Colombia|      South America|      3369|\n",
            "| Paraguay|      South America|      4201|\n",
            "|    Chile|      South America|      4727|\n",
            "|  Ecuador|      South America|      6090|\n",
            "| Suriname|      South America|      6505|\n",
            "|     Peru|      South America|      6817|\n",
            "|   Guyana|      South America|      7241|\n",
            "+---------+-------------------+----------+\n",
            "only showing top 10 rows\n",
            "\n"
          ]
        }
      ],
      "source": [
        "## I am noticing something here, Turks and Caicos ranked higher than Italy and France ??? That makes no sense\n",
        "## What we did was overall ranking for team, but ranking depends on the continent, so lets add one more group by home_team_continent\n",
        "## And we can filter for example South America , which will make more sense: Remember lower the better for rank\n",
        "data.groupBy(['home_team','home_team_continent']) \\\n",
        "    .agg(F.sum('home_team_fifa_rank').alias('total_rank')) \\\n",
        "    .orderBy(F.col('total_rank')) \\\n",
        "    .filter(F.col('home_team_continent') == 'South America') \\\n",
        "    .show(10)"
      ]
    },
    {
      "cell_type": "code",
      "execution_count": null,
      "metadata": {
        "colab": {
          "base_uri": "https://localhost:8080/"
        },
        "id": "pqWA1qPTpryF",
        "outputId": "c70592d4-c4ba-4c92-c818-291cad56aec7"
      },
      "outputs": [
        {
          "output_type": "stream",
          "name": "stdout",
          "text": [
            "+---------+-------------------+----------+\n",
            "|home_team|home_team_continent|total_rank|\n",
            "+---------+-------------------+----------+\n",
            "|   Brazil|      South America|       806|\n",
            "|Argentina|      South America|      1291|\n",
            "|  Uruguay|      South America|      3269|\n",
            "| Colombia|      South America|      3369|\n",
            "| Paraguay|      South America|      4201|\n",
            "|    Chile|      South America|      4727|\n",
            "|  Ecuador|      South America|      6090|\n",
            "| Suriname|      South America|      6505|\n",
            "|     Peru|      South America|      6817|\n",
            "|   Guyana|      South America|      7241|\n",
            "+---------+-------------------+----------+\n",
            "\n"
          ]
        }
      ],
      "source": [
        "# We can get above results in SQL\n",
        "\n",
        "query = f\"\"\"\n",
        "         SELECT home_team, home_team_continent, SUM(home_team_fifa_rank) as total_rank\n",
        "         FROM data_table\n",
        "         WHERE home_team_continent = 'South America'\n",
        "         GROUP BY home_team, home_team_continent\n",
        "         ORDER BY total_rank\n",
        "         LIMIT 10\n",
        "         \"\"\"\n",
        "spark.sql(query).show()\n"
      ]
    },
    {
      "cell_type": "code",
      "execution_count": null,
      "metadata": {
        "colab": {
          "base_uri": "https://localhost:8080/"
        },
        "id": "6BmnHiV4qDSN",
        "outputId": "80b86824-87d5-4573-f0f9-d557c6f5cf84"
      },
      "outputs": [
        {
          "output_type": "stream",
          "name": "stdout",
          "text": [
            "+-------------------+--------------------+\n",
            "|home_team_continent|           home_team|\n",
            "+-------------------+--------------------+\n",
            "|             Africa|               Tonga|\n",
            "|               Asia|         Timor-Leste|\n",
            "|             Europe|               Spain|\n",
            "|      North America|Turks and Caicos ...|\n",
            "|            Oceania|        Cook Islands|\n",
            "|      South America|              Brazil|\n",
            "+-------------------+--------------------+\n",
            "\n"
          ]
        }
      ],
      "source": [
        "## It will be interesting to learn number one team in each continent\n",
        "## Now we cannot get it simply by the given rank column we used\n",
        "## This is where WINDOW function will come to our rescue\n",
        "\n",
        "from pyspark.sql.window import Window\n",
        "from pyspark.sql.functions import row_number\n",
        "\n",
        "# Create a window specification to partition by continent and order by total rank\n",
        "window_spec = Window.partitionBy(\"home_team_continent\").orderBy(\"total_rank\")\n",
        "\n",
        "# Calculate the rank for each team within their continent\n",
        "ranked_df = data.groupBy(['home_team','home_team_continent']) \\\n",
        "    .agg(F.sum('home_team_fifa_rank').alias('total_rank')) \\\n",
        "    .withColumn(\"rank\", row_number().over(window_spec)) \\\n",
        "    .filter(F.col(\"rank\") == 1) \\\n",
        "    .select( \"home_team_continent\", \"home_team\")\n",
        "\n",
        "# Show the result\n",
        "ranked_df.show()\n"
      ]
    },
    {
      "cell_type": "code",
      "execution_count": null,
      "metadata": {
        "colab": {
          "base_uri": "https://localhost:8080/"
        },
        "id": "6qEWsDKhq3hy",
        "outputId": "45b7a140-4202-4fed-afe1-4218cabc9f6d"
      },
      "outputs": [
        {
          "output_type": "stream",
          "name": "stdout",
          "text": [
            "+-------------------+--------------------+\n",
            "|home_team_continent|           home_team|\n",
            "+-------------------+--------------------+\n",
            "|             Africa|               Tonga|\n",
            "|               Asia|         Timor-Leste|\n",
            "|             Europe|               Spain|\n",
            "|      North America|Turks and Caicos ...|\n",
            "|            Oceania|        Cook Islands|\n",
            "|      South America|              Brazil|\n",
            "+-------------------+--------------------+\n",
            "\n"
          ]
        }
      ],
      "source": [
        "## We can get above result in SQL, much more readable :)\n",
        "## Use CTE to find the ranked teams partition by continent and generate our own rank using ROW_NUMBER, then select top 1 for each continent\n",
        "query = \"\"\"\n",
        "    WITH ranked_teams AS (\n",
        "        SELECT home_team_continent, home_team, SUM(home_team_fifa_rank) AS total_rank,\n",
        "               ROW_NUMBER() OVER (PARTITION BY home_team_continent ORDER BY SUM(home_team_fifa_rank)) AS rank\n",
        "        FROM data_table\n",
        "        GROUP BY 1,2\n",
        "    )\n",
        "    SELECT home_team_continent, home_team\n",
        "    FROM ranked_teams\n",
        "    WHERE rank = 1\n",
        "\"\"\"\n",
        "spark.sql(query).show()\n"
      ]
    },
    {
      "cell_type": "code",
      "execution_count": null,
      "metadata": {
        "colab": {
          "base_uri": "https://localhost:8080/"
        },
        "id": "4yd-qlZPsvzt",
        "outputId": "a7fb1104-ebdd-4cb5-a6e8-46595b6d8264"
      },
      "outputs": [
        {
          "output_type": "stream",
          "name": "stdout",
          "text": [
            "+--------------------+\n",
            "|          tournament|\n",
            "+--------------------+\n",
            "|United Arab Emira...|\n",
            "|           UEFA Euro|\n",
            "|          CECAFA Cup|\n",
            "| Nordic Championship|\n",
            "|         UNIFFAC Cup|\n",
            "|            Gold Cup|\n",
            "|Oceania Nations C...|\n",
            "|          King's Cup|\n",
            "|Superclásico de l...|\n",
            "|African Cup of Na...|\n",
            "|          Baltic Cup|\n",
            "|         Dunhill Cup|\n",
            "|            SAFF Cup|\n",
            "|  Copa Paz del Chaco|\n",
            "|CONCACAF Nations ...|\n",
            "|AFC Asian Cup qua...|\n",
            "|           Korea Cup|\n",
            "|  Merdeka Tournament|\n",
            "|Intercontinental Cup|\n",
            "|AFC Challenge Cup...|\n",
            "+--------------------+\n",
            "only showing top 20 rows\n",
            "\n"
          ]
        }
      ],
      "source": [
        "## As we saw USA having most number of wins is not the number one team in North America.\n",
        "## First lets see what type of tournament data we have first\n",
        "\n",
        "data.select('tournament').distinct().show()\n"
      ]
    },
    {
      "cell_type": "code",
      "execution_count": null,
      "metadata": {
        "colab": {
          "base_uri": "https://localhost:8080/"
        },
        "id": "nwvE5dy6uyVR",
        "outputId": "51c37c01-929f-442f-cd37-2d39932a3e2c"
      },
      "outputs": [
        {
          "output_type": "stream",
          "name": "stdout",
          "text": [
            "+--------------------+\n",
            "|          tournament|\n",
            "+--------------------+\n",
            "|FIFA World Cup qu...|\n",
            "|      FIFA World Cup|\n",
            "+--------------------+\n",
            "\n"
          ]
        }
      ],
      "source": [
        "## There are lot of different tournaments, lets see how many of them has 'FIFA' on them, official fifa games\n",
        "data.filter(F.col('tournament').like('%FIFA%')).select('tournament').distinct().show()"
      ]
    },
    {
      "cell_type": "code",
      "execution_count": null,
      "metadata": {
        "colab": {
          "base_uri": "https://localhost:8080/"
        },
        "id": "KWTzGy-8vAHR",
        "outputId": "b503b702-9b47-41b5-c024-02309445ec2b"
      },
      "outputs": [
        {
          "output_type": "stream",
          "name": "stdout",
          "text": [
            "+-------------------+--------------+\n",
            "|home_team_continent|     home_team|\n",
            "+-------------------+--------------+\n",
            "|             Africa|   South Sudan|\n",
            "|               Asia|Chinese Taipei|\n",
            "|             Europe|         Spain|\n",
            "|      North America|      Anguilla|\n",
            "|            Oceania|  Cook Islands|\n",
            "|      South America|        Brazil|\n",
            "+-------------------+--------------+\n",
            "\n"
          ]
        }
      ],
      "source": [
        "## As we saw fifa qualifiers for world cup and fifa world cup: lets consider only FIFA games for ranking\n",
        "## I will just modify our SQL, much easier\n",
        "query = \"\"\"\n",
        "    WITH ranked_teams AS (\n",
        "        SELECT home_team_continent, home_team, SUM(home_team_fifa_rank) AS total_rank,\n",
        "               ROW_NUMBER() OVER (PARTITION BY home_team_continent ORDER BY SUM(home_team_fifa_rank)) AS rank\n",
        "        FROM data_table\n",
        "        WHERE tournament LIKE '%FIFA%'\n",
        "        GROUP BY 1,2\n",
        "    )\n",
        "    SELECT home_team_continent, home_team\n",
        "    FROM ranked_teams\n",
        "    WHERE rank = 1\n",
        "\"\"\"\n",
        "spark.sql(query).show()\n"
      ]
    },
    {
      "cell_type": "markdown",
      "metadata": {
        "id": "Xrx8n0MLYSB9"
      },
      "source": [
        "##### We learned different types of queries and questions with our data. Now lets do more data visualizattions. We will separate numerical and categorical features for some analysis. As we saw above in Describe function are the num features."
      ]
    },
    {
      "cell_type": "code",
      "execution_count": null,
      "metadata": {
        "colab": {
          "base_uri": "https://localhost:8080/"
        },
        "id": "hl3DFLMRa11a",
        "outputId": "b9525301-bb34-4723-ea2e-8422fe0e15cb"
      },
      "outputs": [
        {
          "output_type": "execute_result",
          "data": {
            "text/plain": [
              "Index(['home_team_fifa_rank', 'away_team_fifa_rank',\n",
              "       'home_team_total_fifa_points', 'away_team_total_fifa_points',\n",
              "       'home_team_score', 'away_team_score', 'Result_Class'],\n",
              "      dtype='object')"
            ]
          },
          "metadata": {},
          "execution_count": 165
        }
      ],
      "source": [
        "## here is one trick using describe and dropna to get all numerical columns into a list\n",
        "num_columns = data.describe().toPandas().dropna(axis=1).columns.drop('summary')\n",
        "num_columns"
      ]
    },
    {
      "cell_type": "code",
      "execution_count": null,
      "metadata": {
        "colab": {
          "base_uri": "https://localhost:8080/"
        },
        "id": "tCuPuBFdY1YR",
        "outputId": "9b95e86a-1be3-4b66-d912-f597dd067e20"
      },
      "outputs": [
        {
          "output_type": "execute_result",
          "data": {
            "text/plain": [
              "['home_team',\n",
              " 'away_team',\n",
              " 'home_team_continent',\n",
              " 'away_team_continent',\n",
              " 'tournament',\n",
              " 'city',\n",
              " 'country',\n",
              " 'neutral_location',\n",
              " 'shoot_out',\n",
              " 'home_team_result']"
            ]
          },
          "metadata": {},
          "execution_count": 166
        }
      ],
      "source": [
        "## now lets generate categorical columns , the trick is to diff with num columns and drop date columns\n",
        "cat_columns= [x for x in data.columns if x not in num_columns]\n",
        "cat_columns.remove('date')\n",
        "cat_columns"
      ]
    },
    {
      "cell_type": "code",
      "execution_count": null,
      "metadata": {
        "colab": {
          "base_uri": "https://localhost:8080/",
          "height": 452
        },
        "id": "utN3riUdZIZi",
        "outputId": "30b8aef5-2b72-4239-fb75-87d014edb810"
      },
      "outputs": [
        {
          "output_type": "display_data",
          "data": {
            "text/plain": [
              "<Figure size 640x480 with 1 Axes>"
            ],
            "image/png": "[encoded data removed]"
          },
          "metadata": {}
        }
      ],
      "source": [
        "## Lets do a HIST PLOT for home_team_rank\n",
        "## As we already know from describe (min and max) the rank is from 1 to 211\n",
        "## Now trying to understand how their dist looks like\n",
        "\n",
        "import numpy as np\n",
        "%matplotlib inline\n",
        "import matplotlib.pyplot as plt\n",
        "\n",
        "hists = data.select('home_team_fifa_rank').rdd.flatMap(lambda row: row).histogram(10) # bin size\n",
        "data_dict = {\n",
        "    'bins': hists[0][:-1],\n",
        "    'freq': hists[1]\n",
        "}\n",
        "plt.bar(data_dict['bins'], data_dict['freq'], width=15)\n",
        "plt.title('Histogram of Fifa Rank')\n",
        "plt.show();"
      ]
    },
    {
      "cell_type": "code",
      "execution_count": null,
      "metadata": {
        "colab": {
          "base_uri": "https://localhost:8080/",
          "height": 564
        },
        "id": "J224bSJ8ac3z",
        "outputId": "e861dfbd-b66b-496a-b35d-aecffa691842"
      },
      "outputs": [
        {
          "output_type": "display_data",
          "data": {
            "text/plain": [
              "<Figure size 1200x600 with 1 Axes>"
            ],
            "image/png": "[encoded data removed]"
          },
          "metadata": {}
        }
      ],
      "source": [
        "# Lets get an annual trend of wins for Brazil with a moving average line\n",
        "\n",
        "import matplotlib.pyplot as plt\n",
        "# Convert 'date' column to datetime and extract year\n",
        "data = data.withColumn(\"year\", F.year(F.to_date(\"date\")))\n",
        "\n",
        "# Filter for Brazil and wins\n",
        "brazil_wins = data.filter((F.col(\"home_team\") == \"Brazil\") & (F.col(\"home_team_result\") == \"Win\")) \\\n",
        "                  .groupBy(\"year\") \\\n",
        "                  .count()\n",
        "\n",
        "# Calculate moving average\n",
        "window_spec = Window.orderBy(\"year\").rowsBetween(-2, 2)  # Adjust window size as needed\n",
        "brazil_wins = brazil_wins.withColumn(\"moving_avg\", F.avg(\"count\").over(window_spec))\n",
        "\n",
        "# Convert to Pandas DataFrame for plotting\n",
        "brazil_wins_pd = brazil_wins.toPandas()\n",
        "\n",
        "# Plot the trend\n",
        "plt.figure(figsize=(12, 6))\n",
        "sns.lineplot(x=\"year\", y=\"count\", data=brazil_wins_pd, label=\"Wins\")\n",
        "sns.lineplot(x=\"year\", y=\"moving_avg\", data=brazil_wins_pd, label=\"Moving Average\")\n",
        "plt.title(\"Yearly Trend of Wins for Brazil\")\n",
        "plt.xlabel(\"Year\")\n",
        "plt.ylabel(\"Number of Wins\")\n",
        "plt.legend()\n",
        "plt.show()\n"
      ]
    },
    {
      "cell_type": "code",
      "execution_count": null,
      "metadata": {
        "id": "eTVBB9j5oMcv"
      },
      "outputs": [],
      "source": [
        "## We dont have data going back to Pele Era, but the 90s is the prime time for Brazil when Ronaldinho, Ronaldo, Roberto Carlos were some stars"
      ]
    },
    {
      "cell_type": "markdown",
      "metadata": {
        "id": "P85Fwe8cit6U"
      },
      "source": [
        "##### Instead of one country, how about we get the average wins for the top ranked country of each continent and compare the trend. We had a query before to calculate ranking by continent, we can leverage that and count wins for each of those top countries and do moving average."
      ]
    },
    {
      "cell_type": "code",
      "execution_count": null,
      "metadata": {
        "colab": {
          "base_uri": "https://localhost:8080/",
          "height": 564
        },
        "id": "7rS5lsS4ZIOj",
        "outputId": "22d5c3b9-e163-4751-8a08-618c2629f122"
      },
      "outputs": [
        {
          "output_type": "display_data",
          "data": {
            "text/plain": [
              "<Figure size 1200x600 with 1 Axes>"
            ],
            "image/png": "[encoded data removed]"
          },
          "metadata": {}
        }
      ],
      "source": [
        "# Create a window specification to partition by continent and order by total rank\n",
        "window_spec = Window.partitionBy(\"home_team_continent\").orderBy(\"total_rank\")\n",
        "\n",
        "# Calculate the rank for each team within their continent\n",
        "ranked_df = data.groupBy(['home_team','home_team_continent']) \\\n",
        "    .agg(F.sum('home_team_fifa_rank').alias('total_rank')) \\\n",
        "    .withColumn(\"rank\", row_number().over(window_spec)) \\\n",
        "    .filter(F.col(\"rank\") == 1) \\\n",
        "    .select(\"home_team_continent\", \"home_team\")\n",
        "\n",
        "## Rename column home_team_continent to avoid ambiguity\n",
        "ranked_df = ranked_df.withColumnRenamed(\"home_team_continent\", \"rk_home_team_continent\")\n",
        "ranked_df = ranked_df.withColumnRenamed(\"home_team\", \"rk_home_team\")\n",
        "\n",
        "# Join with original data to get the year and wins\n",
        "top_ranked_data = data.join(ranked_df, data[\"home_team\"] == ranked_df[\"rk_home_team\"], \"inner\") \\\n",
        "    .withColumn(\"year\", F.year(F.to_date(\"date\"))) \\\n",
        "    .filter(F.col(\"home_team_result\") == \"Win\") \\\n",
        "    .groupBy(\"home_team_continent\", \"year\", \"rk_home_team\") \\\n",
        "    .count()\n",
        "\n",
        "# # Calculate moving average\n",
        "window_spec = Window.partitionBy(top_ranked_data[\"home_team_continent\"]).orderBy(\"year\").rowsBetween(-2, 2)\n",
        "top_ranked_data = top_ranked_data.withColumn(\"moving_avg\", F.avg(\"count\").over(window_spec))\n",
        "\n",
        "# Convert to Pandas DataFrame for plotting\n",
        "top_ranked_data_pd = top_ranked_data.toPandas()\n",
        "\n",
        "# Plot the trend\n",
        "plt.figure(figsize=(12, 6))\n",
        "sns.lineplot(x=\"year\", y=\"moving_avg\", data=top_ranked_data_pd, hue= top_ranked_data_pd[\"rk_home_team\"]\n",
        "              )\n",
        "plt.title(\"Annual Trend of Moving Average for Top-Ranked Country from each Continent\")\n",
        "plt.xlabel(\"Year\")\n",
        "plt.ylabel(\"Moving Average Wins\")\n",
        "plt.show()\n"
      ]
    },
    {
      "cell_type": "code",
      "execution_count": null,
      "metadata": {
        "id": "UqPSLvWVmCFr"
      },
      "outputs": [],
      "source": [
        "## we can clearly see how Europe and South America Dominates the soccer world"
      ]
    },
    {
      "cell_type": "markdown",
      "metadata": {
        "id": "n2lJbIUH69JU"
      },
      "source": [
        "#### Chapter 5: Feature Engineering"
      ]
    },
    {
      "cell_type": "markdown",
      "metadata": {
        "id": "rB1pe5ua7Il2"
      },
      "source": [
        "Feature engineering is the process of creating new input features or modifying existing ones to improve the performance of machine learning models. It involves transforming raw data into a format that is more suitable for model training by emphasizing relevant patterns and removing noise. This step is crucial in enhancing the predictive power of a model, especially when dealing with real-world data.\n",
        "\n",
        "Key steps in feature engineering include:\n",
        "\n",
        "- Handling Missing Data: Imputing or removing missing values.\n",
        "- Scaling and Normalization: Ensuring numerical features have comparable scales, often by using techniques like min-max scaling or standardization.\n",
        "- Encoding Categorical Variables: Converting categories into numerical values using techniques like one-hot encoding or label encoding.\n",
        "- Creating New Features: Generating new features from existing ones, such as aggregating time-series data or calculating ratios."
      ]
    },
    {
      "cell_type": "markdown",
      "metadata": {
        "id": "Vcah5YyMa7Fp"
      },
      "source": [
        "###### We already saw missing values handling before, for now we will skip that part. We will focus on using scaling for one of the numerical column"
      ]
    },
    {
      "cell_type": "code",
      "execution_count": null,
      "metadata": {
        "colab": {
          "base_uri": "https://localhost:8080/"
        },
        "id": "XGDFJA9X7HxP",
        "outputId": "429bfb1f-4924-4f27-e748-eddfbab1a225"
      },
      "outputs": [
        {
          "output_type": "stream",
          "name": "stdout",
          "text": [
            "+----------+---------+------------+-------------------+-------------------+-------------------+-------------------+---------------------------+---------------------------+---------------+---------------+--------------------+--------+--------+----------------+---------+----------------+------------+----+\n",
            "|      date|home_team|   away_team|home_team_continent|away_team_continent|home_team_fifa_rank|away_team_fifa_rank|home_team_total_fifa_points|away_team_total_fifa_points|home_team_score|away_team_score|          tournament|    city| country|neutral_location|shoot_out|home_team_result|Result_Class|year|\n",
            "+----------+---------+------------+-------------------+-------------------+-------------------+-------------------+---------------------------+---------------------------+---------------+---------------+--------------------+--------+--------+----------------+---------+----------------+------------+----+\n",
            "|1993-08-08|  Bolivia|     Uruguay|      South America|      South America|                 59|                 22|                          0|                          0|              3|              1|FIFA World Cup qu...|  La Paz| Bolivia|           false|       No|             Win|           2|1993|\n",
            "|1993-08-08|   Brazil|      Mexico|      South America|      North America|                  8|                 14|                          0|                          0|              1|              1|            Friendly|  Maceió|  Brazil|           false|       No|            Draw|           1|1993|\n",
            "|1993-08-08|  Ecuador|   Venezuela|      South America|      South America|                 35|                 94|                          0|                          0|              5|              0|FIFA World Cup qu...|   Quito| Ecuador|           false|       No|             Win|           2|1993|\n",
            "|1993-08-08|   Guinea|Sierra Leone|             Africa|             Africa|                 65|                 86|                          0|                          0|              1|              0|            Friendly| Conakry|  Guinea|           false|       No|             Win|           2|1993|\n",
            "|1993-08-08| Paraguay|   Argentina|      South America|      South America|                 67|                  5|                          0|                          0|              1|              3|FIFA World Cup qu...|Asunción|Paraguay|           false|       No|            Lose|           0|1993|\n",
            "+----------+---------+------------+-------------------+-------------------+-------------------+-------------------+---------------------------+---------------------------+---------------+---------------+--------------------+--------+--------+----------------+---------+----------------+------------+----+\n",
            "only showing top 5 rows\n",
            "\n"
          ]
        }
      ],
      "source": [
        "## lets recall our dataframe once\n",
        "\n",
        "data.show(5)"
      ]
    },
    {
      "cell_type": "code",
      "execution_count": null,
      "metadata": {
        "colab": {
          "base_uri": "https://localhost:8080/",
          "height": 300
        },
        "id": "YDE2Ko1d8WAk",
        "outputId": "f45545d4-c2ca-4f1f-e86d-a001fab7550f"
      },
      "outputs": [
        {
          "output_type": "execute_result",
          "data": {
            "text/plain": [
              "                                 0                   1                   2  \\\n",
              "summary                      count                mean              stddev   \n",
              "home_team_fifa_rank          23921   77.85468834914928   52.35522517098862   \n",
              "away_team_fifa_rank          23921   80.79737469169349    53.2329018803766   \n",
              "home_team_total_fifa_points  23921  323.40148823209734  500.82572453797627   \n",
              "away_team_total_fifa_points  23921   315.4535763555035  490.94427310371316   \n",
              "home_team_score              23921  1.6092136616362192    1.63012671231451   \n",
              "away_team_score              23921  1.0682663768237113   1.263944312867616   \n",
              "Result_Class                 23921  1.2086033192592283  0.8551210439874892   \n",
              "\n",
              "                               3     4  \n",
              "summary                      min   max  \n",
              "home_team_fifa_rank            1   211  \n",
              "away_team_fifa_rank            1   211  \n",
              "home_team_total_fifa_points    0  2164  \n",
              "away_team_total_fifa_points    0  2164  \n",
              "home_team_score                0    31  \n",
              "away_team_score                0    21  \n",
              "Result_Class                   0     2  "
            ],
            "text/html": [
              "\n",
              "  <div id=\"df-b2e26c66-fa8a-4471-acf9-80c2ea019b69\" class=\"colab-df-container\">\n",
              "    <div>\n",
              "<style scoped>\n",
              "    .dataframe tbody tr th:only-of-type {\n",
              "        vertical-align: middle;\n",
              "    }\n",
              "\n",
              "    .dataframe tbody tr th {\n",
              "        vertical-align: top;\n",
              "    }\n",
              "\n",
              "    .dataframe thead th {\n",
              "        text-align: right;\n",
              "    }\n",
              "</style>\n",
              "<table border=\"1\" class=\"dataframe\">\n",
              "  <thead>\n",
              "    <tr style=\"text-align: right;\">\n",
              "      <th></th>\n",
              "      <th>0</th>\n",
              "      <th>1</th>\n",
              "      <th>2</th>\n",
              "      <th>3</th>\n",
              "      <th>4</th>\n",
              "    </tr>\n",
              "  </thead>\n",
              "  <tbody>\n",
              "    <tr>\n",
              "      <th>summary</th>\n",
              "      <td>count</td>\n",
              "      <td>mean</td>\n",
              "      <td>stddev</td>\n",
              "      <td>min</td>\n",
              "      <td>max</td>\n",
              "    </tr>\n",
              "    <tr>\n",
              "      <th>home_team_fifa_rank</th>\n",
              "      <td>23921</td>\n",
              "      <td>77.85468834914928</td>\n",
              "      <td>52.35522517098862</td>\n",
              "      <td>1</td>\n",
              "      <td>211</td>\n",
              "    </tr>\n",
              "    <tr>\n",
              "      <th>away_team_fifa_rank</th>\n",
              "      <td>23921</td>\n",
              "      <td>80.79737469169349</td>\n",
              "      <td>53.2329018803766</td>\n",
              "      <td>1</td>\n",
              "      <td>211</td>\n",
              "    </tr>\n",
              "    <tr>\n",
              "      <th>home_team_total_fifa_points</th>\n",
              "      <td>23921</td>\n",
              "      <td>323.40148823209734</td>\n",
              "      <td>500.82572453797627</td>\n",
              "      <td>0</td>\n",
              "      <td>2164</td>\n",
              "    </tr>\n",
              "    <tr>\n",
              "      <th>away_team_total_fifa_points</th>\n",
              "      <td>23921</td>\n",
              "      <td>315.4535763555035</td>\n",
              "      <td>490.94427310371316</td>\n",
              "      <td>0</td>\n",
              "      <td>2164</td>\n",
              "    </tr>\n",
              "    <tr>\n",
              "      <th>home_team_score</th>\n",
              "      <td>23921</td>\n",
              "      <td>1.6092136616362192</td>\n",
              "      <td>1.63012671231451</td>\n",
              "      <td>0</td>\n",
              "      <td>31</td>\n",
              "    </tr>\n",
              "    <tr>\n",
              "      <th>away_team_score</th>\n",
              "      <td>23921</td>\n",
              "      <td>1.0682663768237113</td>\n",
              "      <td>1.263944312867616</td>\n",
              "      <td>0</td>\n",
              "      <td>21</td>\n",
              "    </tr>\n",
              "    <tr>\n",
              "      <th>Result_Class</th>\n",
              "      <td>23921</td>\n",
              "      <td>1.2086033192592283</td>\n",
              "      <td>0.8551210439874892</td>\n",
              "      <td>0</td>\n",
              "      <td>2</td>\n",
              "    </tr>\n",
              "  </tbody>\n",
              "</table>\n",
              "</div>\n",
              "    <div class=\"colab-df-buttons\">\n",
              "\n",
              "  <div class=\"colab-df-container\">\n",
              "    <button class=\"colab-df-convert\" onclick=\"convertToInteractive('df-b2e26c66-fa8a-4471-acf9-80c2ea019b69')\"\n",
              "            title=\"Convert this dataframe to an interactive table.\"\n",
              "            style=\"display:none;\">\n",
              "\n",
              "  <svg xmlns=\"http://www.w3.org/2000/svg\" height=\"24px\" viewBox=\"0 -960 960 960\">\n",
              "    <path d=\"M120-120v-720h720v720H120Zm60-500h600v-160H180v160Zm220 220h160v-160H400v160Zm0 220h160v-160H400v160ZM180-400h160v-160H180v160Zm440 0h160v-160H620v160ZM180-180h160v-160H180v160Zm440 0h160v-160H620v160Z\"/>\n",
              "  </svg>\n",
              "    </button>\n",
              "\n",
              "  <style>\n",
              "    .colab-df-container {\n",
              "      display:flex;\n",
              "      gap: 12px;\n",
              "    }\n",
              "\n",
              "    .colab-df-convert {\n",
              "      background-color: #E8F0FE;\n",
              "      border: none;\n",
              "      border-radius: 50%;\n",
              "      cursor: pointer;\n",
              "      display: none;\n",
              "      fill: #1967D2;\n",
              "      height: 32px;\n",
              "      padding: 0 0 0 0;\n",
              "      width: 32px;\n",
              "    }\n",
              "\n",
              "    .colab-df-convert:hover {\n",
              "      background-color: #E2EBFA;\n",
              "      box-shadow: 0px 1px 2px rgba(60, 64, 67, 0.3), 0px 1px 3px 1px rgba(60, 64, 67, 0.15);\n",
              "      fill: #174EA6;\n",
              "    }\n",
              "\n",
              "    .colab-df-buttons div {\n",
              "      margin-bottom: 4px;\n",
              "    }\n",
              "\n",
              "    [theme=dark] .colab-df-convert {\n",
              "      background-color: #3B4455;\n",
              "      fill: #D2E3FC;\n",
              "    }\n",
              "\n",
              "    [theme=dark] .colab-df-convert:hover {\n",
              "      background-color: #434B5C;\n",
              "      box-shadow: 0px 1px 3px 1px rgba(0, 0, 0, 0.15);\n",
              "      filter: drop-shadow(0px 1px 2px rgba(0, 0, 0, 0.3));\n",
              "      fill: #FFFFFF;\n",
              "    }\n",
              "  </style>\n",
              "\n",
              "    <script>\n",
              "      const buttonEl =\n",
              "        document.querySelector('#df-b2e26c66-fa8a-4471-acf9-80c2ea019b69 button.colab-df-convert');\n",
              "      buttonEl.style.display =\n",
              "        google.colab.kernel.accessAllowed ? 'block' : 'none';\n",
              "\n",
              "      async function convertToInteractive(key) {\n",
              "        const element = document.querySelector('#df-b2e26c66-fa8a-4471-acf9-80c2ea019b69');\n",
              "        const dataTable =\n",
              "          await google.colab.kernel.invokeFunction('convertToInteractive',\n",
              "                                                    [key], {});\n",
              "        if (!dataTable) return;\n",
              "\n",
              "        const docLinkHtml = 'Like what you see? Visit the ' +\n",
              "          '<a target=\"_blank\" href=https://colab.research.google.com/notebooks/data_table.ipynb>data table notebook</a>'\n",
              "          + ' to learn more about interactive tables.';\n",
              "        element.innerHTML = '';\n",
              "        dataTable['output_type'] = 'display_data';\n",
              "        await google.colab.output.renderOutput(dataTable, element);\n",
              "        const docLink = document.createElement('div');\n",
              "        docLink.innerHTML = docLinkHtml;\n",
              "        element.appendChild(docLink);\n",
              "      }\n",
              "    </script>\n",
              "  </div>\n",
              "\n",
              "\n",
              "<div id=\"df-e5cd6c83-38bb-40f6-8c0b-8cc7fd6b0f7e\">\n",
              "  <button class=\"colab-df-quickchart\" onclick=\"quickchart('df-e5cd6c83-38bb-40f6-8c0b-8cc7fd6b0f7e')\"\n",
              "            title=\"Suggest charts\"\n",
              "            style=\"display:none;\">\n",
              "\n",
              "<svg xmlns=\"http://www.w3.org/2000/svg\" height=\"24px\"viewBox=\"0 0 24 24\"\n",
              "     width=\"24px\">\n",
              "    <g>\n",
              "        <path d=\"M19 3H5c-1.1 0-2 .9-2 2v14c0 1.1.9 2 2 2h14c1.1 0 2-.9 2-2V5c0-1.1-.9-2-2-2zM9 17H7v-7h2v7zm4 0h-2V7h2v10zm4 0h-2v-4h2v4z\"/>\n",
              "    </g>\n",
              "</svg>\n",
              "  </button>\n",
              "\n",
              "<style>\n",
              "  .colab-df-quickchart {\n",
              "      --bg-color: #E8F0FE;\n",
              "      --fill-color: #1967D2;\n",
              "      --hover-bg-color: #E2EBFA;\n",
              "      --hover-fill-color: #174EA6;\n",
              "      --disabled-fill-color: #AAA;\n",
              "      --disabled-bg-color: #DDD;\n",
              "  }\n",
              "\n",
              "  [theme=dark] .colab-df-quickchart {\n",
              "      --bg-color: #3B4455;\n",
              "      --fill-color: #D2E3FC;\n",
              "      --hover-bg-color: #434B5C;\n",
              "      --hover-fill-color: #FFFFFF;\n",
              "      --disabled-bg-color: #3B4455;\n",
              "      --disabled-fill-color: #666;\n",
              "  }\n",
              "\n",
              "  .colab-df-quickchart {\n",
              "    background-color: var(--bg-color);\n",
              "    border: none;\n",
              "    border-radius: 50%;\n",
              "    cursor: pointer;\n",
              "    display: none;\n",
              "    fill: var(--fill-color);\n",
              "    height: 32px;\n",
              "    padding: 0;\n",
              "    width: 32px;\n",
              "  }\n",
              "\n",
              "  .colab-df-quickchart:hover {\n",
              "    background-color: var(--hover-bg-color);\n",
              "    box-shadow: 0 1px 2px rgba(60, 64, 67, 0.3), 0 1px 3px 1px rgba(60, 64, 67, 0.15);\n",
              "    fill: var(--button-hover-fill-color);\n",
              "  }\n",
              "\n",
              "  .colab-df-quickchart-complete:disabled,\n",
              "  .colab-df-quickchart-complete:disabled:hover {\n",
              "    background-color: var(--disabled-bg-color);\n",
              "    fill: var(--disabled-fill-color);\n",
              "    box-shadow: none;\n",
              "  }\n",
              "\n",
              "  .colab-df-spinner {\n",
              "    border: 2px solid var(--fill-color);\n",
              "    border-color: transparent;\n",
              "    border-bottom-color: var(--fill-color);\n",
              "    animation:\n",
              "      spin 1s steps(1) infinite;\n",
              "  }\n",
              "\n",
              "  @keyframes spin {\n",
              "    0% {\n",
              "      border-color: transparent;\n",
              "      border-bottom-color: var(--fill-color);\n",
              "      border-left-color: var(--fill-color);\n",
              "    }\n",
              "    20% {\n",
              "      border-color: transparent;\n",
              "      border-left-color: var(--fill-color);\n",
              "      border-top-color: var(--fill-color);\n",
              "    }\n",
              "    30% {\n",
              "      border-color: transparent;\n",
              "      border-left-color: var(--fill-color);\n",
              "      border-top-color: var(--fill-color);\n",
              "      border-right-color: var(--fill-color);\n",
              "    }\n",
              "    40% {\n",
              "      border-color: transparent;\n",
              "      border-right-color: var(--fill-color);\n",
              "      border-top-color: var(--fill-color);\n",
              "    }\n",
              "    60% {\n",
              "      border-color: transparent;\n",
              "      border-right-color: var(--fill-color);\n",
              "    }\n",
              "    80% {\n",
              "      border-color: transparent;\n",
              "      border-right-color: var(--fill-color);\n",
              "      border-bottom-color: var(--fill-color);\n",
              "    }\n",
              "    90% {\n",
              "      border-color: transparent;\n",
              "      border-bottom-color: var(--fill-color);\n",
              "    }\n",
              "  }\n",
              "</style>\n",
              "\n",
              "  <script>\n",
              "    async function quickchart(key) {\n",
              "      const quickchartButtonEl =\n",
              "        document.querySelector('#' + key + ' button');\n",
              "      quickchartButtonEl.disabled = true;  // To prevent multiple clicks.\n",
              "      quickchartButtonEl.classList.add('colab-df-spinner');\n",
              "      try {\n",
              "        const charts = await google.colab.kernel.invokeFunction(\n",
              "            'suggestCharts', [key], {});\n",
              "      } catch (error) {\n",
              "        console.error('Error during call to suggestCharts:', error);\n",
              "      }\n",
              "      quickchartButtonEl.classList.remove('colab-df-spinner');\n",
              "      quickchartButtonEl.classList.add('colab-df-quickchart-complete');\n",
              "    }\n",
              "    (() => {\n",
              "      let quickchartButtonEl =\n",
              "        document.querySelector('#df-e5cd6c83-38bb-40f6-8c0b-8cc7fd6b0f7e button');\n",
              "      quickchartButtonEl.style.display =\n",
              "        google.colab.kernel.accessAllowed ? 'block' : 'none';\n",
              "    })();\n",
              "  </script>\n",
              "</div>\n",
              "\n",
              "  <div id=\"id_78452de3-c610-4e76-ad7e-8e882bac5534\">\n",
              "    <style>\n",
              "      .colab-df-generate {\n",
              "        background-color: #E8F0FE;\n",
              "        border: none;\n",
              "        border-radius: 50%;\n",
              "        cursor: pointer;\n",
              "        display: none;\n",
              "        fill: #1967D2;\n",
              "        height: 32px;\n",
              "        padding: 0 0 0 0;\n",
              "        width: 32px;\n",
              "      }\n",
              "\n",
              "      .colab-df-generate:hover {\n",
              "        background-color: #E2EBFA;\n",
              "        box-shadow: 0px 1px 2px rgba(60, 64, 67, 0.3), 0px 1px 3px 1px rgba(60, 64, 67, 0.15);\n",
              "        fill: #174EA6;\n",
              "      }\n",
              "\n",
              "      [theme=dark] .colab-df-generate {\n",
              "        background-color: #3B4455;\n",
              "        fill: #D2E3FC;\n",
              "      }\n",
              "\n",
              "      [theme=dark] .colab-df-generate:hover {\n",
              "        background-color: #434B5C;\n",
              "        box-shadow: 0px 1px 3px 1px rgba(0, 0, 0, 0.15);\n",
              "        filter: drop-shadow(0px 1px 2px rgba(0, 0, 0, 0.3));\n",
              "        fill: #FFFFFF;\n",
              "      }\n",
              "    </style>\n",
              "    <button class=\"colab-df-generate\" onclick=\"generateWithVariable('description')\"\n",
              "            title=\"Generate code using this dataframe.\"\n",
              "            style=\"display:none;\">\n",
              "\n",
              "  <svg xmlns=\"http://www.w3.org/2000/svg\" height=\"24px\"viewBox=\"0 0 24 24\"\n",
              "       width=\"24px\">\n",
              "    <path d=\"M7,19H8.4L18.45,9,17,7.55,7,17.6ZM5,21V16.75L18.45,3.32a2,2,0,0,1,2.83,0l1.4,1.43a1.91,1.91,0,0,1,.58,1.4,1.91,1.91,0,0,1-.58,1.4L9.25,21ZM18.45,9,17,7.55Zm-12,3A5.31,5.31,0,0,0,4.9,8.1,5.31,5.31,0,0,0,1,6.5,5.31,5.31,0,0,0,4.9,4.9,5.31,5.31,0,0,0,6.5,1,5.31,5.31,0,0,0,8.1,4.9,5.31,5.31,0,0,0,12,6.5,5.46,5.46,0,0,0,6.5,12Z\"/>\n",
              "  </svg>\n",
              "    </button>\n",
              "    <script>\n",
              "      (() => {\n",
              "      const buttonEl =\n",
              "        document.querySelector('#id_78452de3-c610-4e76-ad7e-8e882bac5534 button.colab-df-generate');\n",
              "      buttonEl.style.display =\n",
              "        google.colab.kernel.accessAllowed ? 'block' : 'none';\n",
              "\n",
              "      buttonEl.onclick = () => {\n",
              "        google.colab.notebook.generateWithVariable('description');\n",
              "      }\n",
              "      })();\n",
              "    </script>\n",
              "  </div>\n",
              "\n",
              "    </div>\n",
              "  </div>\n"
            ],
            "application/vnd.google.colaboratory.intrinsic+json": {
              "type": "dataframe",
              "variable_name": "description",
              "summary": "{\n  \"name\": \"description\",\n  \"rows\": 8,\n  \"fields\": [\n    {\n      \"column\": 0,\n      \"properties\": {\n        \"dtype\": \"category\",\n        \"num_unique_values\": 2,\n        \"samples\": [\n          \"23921\",\n          \"count\"\n        ],\n        \"semantic_type\": \"\",\n        \"description\": \"\"\n      }\n    },\n    {\n      \"column\": 1,\n      \"properties\": {\n        \"dtype\": \"string\",\n        \"num_unique_values\": 8,\n        \"samples\": [\n          \"77.85468834914928\",\n          \"1.6092136616362192\"\n        ],\n        \"semantic_type\": \"\",\n        \"description\": \"\"\n      }\n    },\n    {\n      \"column\": 2,\n      \"properties\": {\n        \"dtype\": \"string\",\n        \"num_unique_values\": 8,\n        \"samples\": [\n          \"52.35522517098862\",\n          \"1.63012671231451\"\n        ],\n        \"semantic_type\": \"\",\n        \"description\": \"\"\n      }\n    },\n    {\n      \"column\": 3,\n      \"properties\": {\n        \"dtype\": \"category\",\n        \"num_unique_values\": 3,\n        \"samples\": [\n          \"min\",\n          \"1\"\n        ],\n        \"semantic_type\": \"\",\n        \"description\": \"\"\n      }\n    },\n    {\n      \"column\": 4,\n      \"properties\": {\n        \"dtype\": \"string\",\n        \"num_unique_values\": 6,\n        \"samples\": [\n          \"max\",\n          \"211\"\n        ],\n        \"semantic_type\": \"\",\n        \"description\": \"\"\n      }\n    }\n  ]\n}"
            }
          },
          "metadata": {},
          "execution_count": 173
        }
      ],
      "source": [
        "# descriptive stats for numerical columns and do a transpose to display\n",
        "\n",
        "description = data.select(num_columns.tolist()).describe().toPandas().T\n",
        "description\n"
      ]
    },
    {
      "cell_type": "code",
      "execution_count": null,
      "metadata": {
        "colab": {
          "base_uri": "https://localhost:8080/"
        },
        "id": "qCXwciua9sM2",
        "outputId": "66d4ed9f-7702-4717-9ccf-a72d42d2ce6a"
      },
      "outputs": [
        {
          "output_type": "stream",
          "name": "stdout",
          "text": [
            "{'Lose': 0, 'Draw': 1, 'Win': 2}\n"
          ]
        }
      ],
      "source": [
        "## if you remember Result_Class is the numerical mapping we created for lose, draw and win.\n",
        "## that means it is a categorical feature , not exactly numerical\n",
        "print(mapping)"
      ]
    },
    {
      "cell_type": "code",
      "execution_count": null,
      "metadata": {
        "colab": {
          "base_uri": "https://localhost:8080/"
        },
        "id": "8Mo4ZVEF7HsA",
        "outputId": "1258a577-72fe-4fc0-88e1-9f405169abde"
      },
      "outputs": [
        {
          "output_type": "stream",
          "name": "stdout",
          "text": [
            "+---------------------------+----------------------------------+\n",
            "|home_team_total_fifa_points|scaled_home_team_total_fifa_points|\n",
            "+---------------------------+----------------------------------+\n",
            "|                          0|                             [0.0]|\n",
            "|                          0|                             [0.0]|\n",
            "|                          0|                             [0.0]|\n",
            "|                          0|                             [0.0]|\n",
            "|                          0|                             [0.0]|\n",
            "|                          0|                             [0.0]|\n",
            "|                          0|                             [0.0]|\n",
            "|                          0|                             [0.0]|\n",
            "|                          0|                             [0.0]|\n",
            "|                          0|                             [0.0]|\n",
            "|                          0|                             [0.0]|\n",
            "|                          0|                             [0.0]|\n",
            "|                          0|                             [0.0]|\n",
            "|                          0|                             [0.0]|\n",
            "|                          0|                             [0.0]|\n",
            "|                          0|                             [0.0]|\n",
            "|                          0|                             [0.0]|\n",
            "|                          0|                             [0.0]|\n",
            "|                          0|                             [0.0]|\n",
            "|                          0|                             [0.0]|\n",
            "+---------------------------+----------------------------------+\n",
            "only showing top 20 rows\n",
            "\n"
          ]
        }
      ],
      "source": [
        "## for our example of doing scaling we will pick home team  points\n",
        "\n",
        "from pyspark.ml.feature import VectorAssembler\n",
        "from pyspark.ml.feature import MinMaxScaler\n",
        "\n",
        "# Create a VectorAssembler to convert the 'home_team_total_fifa_points' column to a Vector\n",
        "assembler = VectorAssembler(inputCols=[\"home_team_total_fifa_points\"], outputCol=\"home_team_total_fifa_points_vec\")\n",
        "\n",
        "# Transform the data\n",
        "data = assembler.transform(data)\n",
        "\n",
        "# Define scaler\n",
        "scaler = MinMaxScaler(inputCol=\"home_team_total_fifa_points_vec\", outputCol=\"scaled_home_team_total_fifa_points\")\n",
        "\n",
        "# Fit scaler on data\n",
        "scaler_model = scaler.fit(data)\n",
        "\n",
        "# Transform data\n",
        "scaled_df = scaler_model.transform(data)\n",
        "\n",
        "# Select relevant columns\n",
        "scaled_df = scaled_df.select(\"home_team_total_fifa_points\", \"scaled_home_team_total_fifa_points\")\n",
        "\n",
        "# Show scaled data\n",
        "scaled_df.show()\n"
      ]
    },
    {
      "cell_type": "code",
      "execution_count": null,
      "metadata": {
        "colab": {
          "base_uri": "https://localhost:8080/"
        },
        "id": "zsG1GvsUZJYA",
        "outputId": "1fb20321-2549-4962-d4f7-34ad6eaed89e"
      },
      "outputs": [
        {
          "output_type": "stream",
          "name": "stdout",
          "text": [
            "+---------------------------+----------------------------------+\n",
            "|home_team_total_fifa_points|scaled_home_team_total_fifa_points|\n",
            "+---------------------------+----------------------------------+\n",
            "|                        260|              [0.12014787430683...|\n",
            "|                        245|              [0.11321626617375...|\n",
            "|                        298|              [0.1377079482439926]|\n",
            "|                        325|              [0.15018484288354...|\n",
            "|                        338|              [0.15619223659889...|\n",
            "|                        179|              [0.08271719038817...|\n",
            "|                        348|              [0.16081330868761...|\n",
            "|                        104|              [0.04805914972273...|\n",
            "|                        311|              [0.14371534195933...|\n",
            "|                         78|              [0.03604436229205...|\n",
            "|                        307|              [0.14186691312384...|\n",
            "|                        104|              [0.04805914972273...|\n",
            "|                         56|              [0.02587800369685...|\n",
            "|                         56|              [0.02587800369685...|\n",
            "|                        104|              [0.04805914972273...|\n",
            "|                        546|              [0.25231053604436...|\n",
            "|                        307|              [0.14186691312384...|\n",
            "|                       1016|              [0.46950092421441...|\n",
            "|                        837|              [0.3867837338262477]|\n",
            "|                        271|              [0.12523105360443...|\n",
            "+---------------------------+----------------------------------+\n",
            "only showing top 20 rows\n",
            "\n"
          ]
        }
      ],
      "source": [
        "# Most of he home team points seem zero but lets filter scaled_df show where home_team_total_fifa_points are not 0\n",
        "scaled_df.filter(scaled_df['home_team_total_fifa_points'] != 0).show()\n"
      ]
    },
    {
      "cell_type": "markdown",
      "metadata": {
        "id": "v-zZHpNyaqbd"
      },
      "source": [
        "##### Now we saw how scaling of features work, next thing in our Feature Engineering is to look at how to encode categorical features"
      ]
    },
    {
      "cell_type": "code",
      "execution_count": null,
      "metadata": {
        "colab": {
          "base_uri": "https://localhost:8080/"
        },
        "id": "76_Wtpxs7Hhn",
        "outputId": "74b38b36-7aac-414b-e7dc-5c46a70cac7f"
      },
      "outputs": [
        {
          "output_type": "stream",
          "name": "stdout",
          "text": [
            "['home_team', 'away_team', 'home_team_continent', 'away_team_continent', 'tournament', 'city', 'country', 'neutral_location', 'shoot_out', 'home_team_result']\n"
          ]
        }
      ],
      "source": [
        "\n",
        "## lets first print all our categorical features\n",
        "\n",
        "print(cat_columns)"
      ]
    },
    {
      "cell_type": "code",
      "execution_count": null,
      "metadata": {
        "colab": {
          "base_uri": "https://localhost:8080/"
        },
        "id": "96W5ho4W7HeN",
        "outputId": "9d752f48-24c8-489c-8fe3-14f3d459b5ca"
      },
      "outputs": [
        {
          "output_type": "stream",
          "name": "stdout",
          "text": [
            "+-------------------+---------------------------+\n",
            "|home_team_continent|home_team_continent_encoded|\n",
            "+-------------------+---------------------------+\n",
            "|      South America|              (5,[4],[1.0])|\n",
            "|      South America|              (5,[4],[1.0])|\n",
            "|      South America|              (5,[4],[1.0])|\n",
            "|             Africa|              (5,[1],[1.0])|\n",
            "|      South America|              (5,[4],[1.0])|\n",
            "+-------------------+---------------------------+\n",
            "only showing top 5 rows\n",
            "\n"
          ]
        }
      ],
      "source": [
        "## For example purpose we can pick one hot encode of home_team_continent\n",
        "\n",
        "from pyspark.ml.feature import StringIndexer, OneHotEncoder\n",
        "\n",
        "# Create a StringIndexer to convert the 'home_team_continent' column to numerical indices\n",
        "indexer = StringIndexer(inputCol=\"home_team_continent\", outputCol=\"home_team_continent_index\")\n",
        "data = indexer.fit(data).transform(data)\n",
        "\n",
        "# Create a OneHotEncoder to convert the indexed column to a one-hot encoded vector\n",
        "encoder = OneHotEncoder(inputCols=[\"home_team_continent_index\"], outputCols=[\"home_team_continent_encoded\"])\n",
        "data = encoder.fit(data).transform(data)\n",
        "\n",
        "# Show the data with the encoded column\n",
        "data.select(\"home_team_continent\", \"home_team_continent_encoded\").show(5)\n"
      ]
    },
    {
      "cell_type": "markdown",
      "metadata": {
        "id": "Y8Sbj8tsbQao"
      },
      "source": [
        "##### Now the fun part of feature engineering: Creating additional features or derived features based on existing columns"
      ]
    },
    {
      "cell_type": "markdown",
      "metadata": {
        "id": "h_l2O5z6bnng"
      },
      "source": [
        "1. Difference in FIFA Rankings\n",
        "- Rank difference: Calculate the difference between home_team_fifa_rank and away_team_fifa_rank. This can give insight into the relative strength of the teams."
      ]
    },
    {
      "cell_type": "code",
      "execution_count": null,
      "metadata": {
        "colab": {
          "base_uri": "https://localhost:8080/"
        },
        "id": "VaiRP0eT7HaC",
        "outputId": "2a1bea88-0117-4399-a948-8935ce0259c2"
      },
      "outputs": [
        {
          "output_type": "stream",
          "name": "stdout",
          "text": [
            "+-------------------+-------------------+--------------+\n",
            "|home_team_fifa_rank|away_team_fifa_rank|fifa_rank_diff|\n",
            "+-------------------+-------------------+--------------+\n",
            "|                 59|                 22|            37|\n",
            "|                  8|                 14|            -6|\n",
            "|                 35|                 94|           -59|\n",
            "|                 65|                 86|           -21|\n",
            "|                 67|                  5|            62|\n",
            "+-------------------+-------------------+--------------+\n",
            "only showing top 5 rows\n",
            "\n"
          ]
        }
      ],
      "source": [
        "from pyspark.sql.functions import col\n",
        "data = data.withColumn(\"fifa_rank_diff\", col(\"home_team_fifa_rank\") - col(\"away_team_fifa_rank\"))\n",
        "data.select(\"home_team_fifa_rank\", \"away_team_fifa_rank\", \"fifa_rank_diff\").show(5)\n"
      ]
    },
    {
      "cell_type": "markdown",
      "metadata": {
        "id": "jxIIACyzcV7P"
      },
      "source": [
        "2. Performance Indicators\n",
        "- Goal difference: Compute the goal difference between the home and away team, which is an important indicator of team performance."
      ]
    },
    {
      "cell_type": "code",
      "execution_count": null,
      "metadata": {
        "colab": {
          "base_uri": "https://localhost:8080/"
        },
        "id": "F9r13xkG7HRd",
        "outputId": "8433803b-09ee-4521-bc1d-1abfa0814a59"
      },
      "outputs": [
        {
          "output_type": "stream",
          "name": "stdout",
          "text": [
            "+---------------+---------------+---------+\n",
            "|home_team_score|away_team_score|goal_diff|\n",
            "+---------------+---------------+---------+\n",
            "|              3|              1|        2|\n",
            "|              1|              1|        0|\n",
            "|              5|              0|        5|\n",
            "|              1|              0|        1|\n",
            "|              1|              3|       -2|\n",
            "+---------------+---------------+---------+\n",
            "only showing top 5 rows\n",
            "\n"
          ]
        }
      ],
      "source": [
        "data = data.withColumn(\"goal_diff\", col(\"home_team_score\") - col(\"away_team_score\"))\n",
        "data.select(\"home_team_score\", \"away_team_score\", \"goal_diff\").show(5)"
      ]
    },
    {
      "cell_type": "markdown",
      "metadata": {
        "id": "wanyZmAsc8Ua"
      },
      "source": [
        "3. Tournament Importance\n",
        "- Tournament Type: Create a categorical feature based on the tournament type, as some tournaments (World Cup, regional cups) are more prestigious and competitive than friendlies."
      ]
    },
    {
      "cell_type": "code",
      "execution_count": null,
      "metadata": {
        "colab": {
          "base_uri": "https://localhost:8080/"
        },
        "id": "9IfDAssdjHlz",
        "outputId": "2acc413c-2f63-4a01-debf-bcf4a8c7f3d4"
      },
      "outputs": [
        {
          "output_type": "stream",
          "name": "stdout",
          "text": [
            "+--------------------+\n",
            "|          tournament|\n",
            "+--------------------+\n",
            "|     ABCS Tournament|\n",
            "|       AFC Asian Cup|\n",
            "|AFC Asian Cup qua...|\n",
            "|   AFC Challenge Cup|\n",
            "|AFC Challenge Cup...|\n",
            "|    AFF Championship|\n",
            "|AFF Championship ...|\n",
            "|African Cup of Na...|\n",
            "|African Cup of Na...|\n",
            "|African Nations C...|\n",
            "|African Nations C...|\n",
            "|    Afro-Asian Games|\n",
            "|  Amílcar Cabral Cup|\n",
            "|            Arab Cup|\n",
            "|Arab Cup qualific...|\n",
            "|          Baltic Cup|\n",
            "|          CECAFA Cup|\n",
            "|   CFU Caribbean Cup|\n",
            "|CFU Caribbean Cup...|\n",
            "|CONCACAF Nations ...|\n",
            "|CONCACAF Nations ...|\n",
            "|CONMEBOL–UEFA Cup...|\n",
            "|          COSAFA Cup|\n",
            "|COSAFA Cup qualif...|\n",
            "|  Confederations Cup|\n",
            "|        Copa América|\n",
            "|Copa América qual...|\n",
            "| Copa Confraternidad|\n",
            "|  Copa Paz del Chaco|\n",
            "|   Copa del Pacífico|\n",
            "|Cup of Ancient Ci...|\n",
            "|Cyprus Internatio...|\n",
            "|          Dragon Cup|\n",
            "|         Dunhill Cup|\n",
            "|         Dynasty Cup|\n",
            "|   EAFF Championship|\n",
            "|      FIFA World Cup|\n",
            "|FIFA World Cup qu...|\n",
            "|            Friendly|\n",
            "|            Gold Cup|\n",
            "|Gold Cup qualific...|\n",
            "|            Gulf Cup|\n",
            "|Intercontinental Cup|\n",
            "|King Hassan II To...|\n",
            "|          King's Cup|\n",
            "| Kirin Challenge Cup|\n",
            "|           Kirin Cup|\n",
            "|           Korea Cup|\n",
            "|  Lunar New Year Cup|\n",
            "|Mahinda Rajapaksa...|\n",
            "|Malta Internation...|\n",
            "|  Merdeka Tournament|\n",
            "|      Millennium Cup|\n",
            "|         Nations Cup|\n",
            "|          Navruz Cup|\n",
            "|           Nehru Cup|\n",
            "|Nile Basin Tourna...|\n",
            "| Nordic Championship|\n",
            "|             OSN Cup|\n",
            "| Oceania Nations Cup|\n",
            "|Oceania Nations C...|\n",
            "|       Pacific Games|\n",
            "|  Pacific Mini Games|\n",
            "|Prime Minister's Cup|\n",
            "|            SAFF Cup|\n",
            "|SKN Football Fest...|\n",
            "|    Simba Tournament|\n",
            "| South Pacific Games|\n",
            "|Superclásico de l...|\n",
            "|   TIFOCO Tournament|\n",
            "|   Three Nations Cup|\n",
            "|   Tournoi de France|\n",
            "|           UEFA Euro|\n",
            "|UEFA Euro qualifi...|\n",
            "| UEFA Nations League|\n",
            "|           UNCAF Cup|\n",
            "|         UNIFFAC Cup|\n",
            "|             USA Cup|\n",
            "|United Arab Emira...|\n",
            "|             VFF Cup|\n",
            "|   WAFF Championship|\n",
            "|Windward Islands ...|\n",
            "+--------------------+\n",
            "\n"
          ]
        }
      ],
      "source": [
        "# print all the distinct values in tournament in sorted order\n",
        "\n",
        "data.select('tournament').distinct().orderBy('tournament').show(data.count())\n"
      ]
    },
    {
      "cell_type": "code",
      "execution_count": null,
      "metadata": {
        "colab": {
          "base_uri": "https://localhost:8080/"
        },
        "id": "GHZB2tFo7HOE",
        "outputId": "17f0a02a-11f9-4dcc-ebc0-c499e01964c2"
      },
      "outputs": [
        {
          "output_type": "stream",
          "name": "stdout",
          "text": [
            "+--------------------+---------------+\n",
            "|          tournament|tournament_type|\n",
            "+--------------------+---------------+\n",
            "|FIFA World Cup qu...|          Other|\n",
            "|            Friendly|          Other|\n",
            "|FIFA World Cup qu...|          Other|\n",
            "|            Friendly|          Other|\n",
            "|FIFA World Cup qu...|          Other|\n",
            "|FIFA World Cup qu...|          Other|\n",
            "|            Friendly|          Other|\n",
            "|            Friendly|          Other|\n",
            "|            Friendly|          Other|\n",
            "|            Friendly|          Other|\n",
            "|FIFA World Cup qu...|          Other|\n",
            "|FIFA World Cup qu...|          Other|\n",
            "|FIFA World Cup qu...|          Other|\n",
            "|African Cup of Na...|          Other|\n",
            "|FIFA World Cup qu...|          Other|\n",
            "|FIFA World Cup qu...|          Other|\n",
            "|FIFA World Cup qu...|          Other|\n",
            "|FIFA World Cup qu...|          Other|\n",
            "|FIFA World Cup qu...|          Other|\n",
            "|FIFA World Cup qu...|          Other|\n",
            "+--------------------+---------------+\n",
            "only showing top 20 rows\n",
            "\n"
          ]
        }
      ],
      "source": [
        "## Two of the major competitions are Fifa World Cup and European Cup\n",
        "from pyspark.sql.functions import when\n",
        "data = data.withColumn(\"tournament_type\", when(col(\"tournament\").isin(\"FIFA World Cup\", \"UEFA Euro\"), \"Major\").otherwise(\"Other\"))\n",
        "data.select(\"tournament\", \"tournament_type\").show(20)"
      ]
    },
    {
      "cell_type": "code",
      "execution_count": null,
      "metadata": {
        "colab": {
          "base_uri": "https://localhost:8080/"
        },
        "id": "4QGFnt_whP0_",
        "outputId": "9959285d-1a0b-45fa-8ee1-9f1e7eb3bb0d"
      },
      "outputs": [
        {
          "output_type": "stream",
          "name": "stdout",
          "text": [
            "+--------------------+---------------+\n",
            "|          tournament|tournament_type|\n",
            "+--------------------+---------------+\n",
            "|FIFA World Cup qu...|          Other|\n",
            "|            Friendly|       Friendly|\n",
            "|FIFA World Cup qu...|          Other|\n",
            "|            Friendly|       Friendly|\n",
            "|FIFA World Cup qu...|          Other|\n",
            "|FIFA World Cup qu...|          Other|\n",
            "|            Friendly|       Friendly|\n",
            "|            Friendly|       Friendly|\n",
            "|            Friendly|       Friendly|\n",
            "|            Friendly|       Friendly|\n",
            "|FIFA World Cup qu...|          Other|\n",
            "|FIFA World Cup qu...|          Other|\n",
            "|FIFA World Cup qu...|          Other|\n",
            "|African Cup of Na...|          Other|\n",
            "|FIFA World Cup qu...|          Other|\n",
            "|FIFA World Cup qu...|          Other|\n",
            "|FIFA World Cup qu...|          Other|\n",
            "|FIFA World Cup qu...|          Other|\n",
            "|FIFA World Cup qu...|          Other|\n",
            "|FIFA World Cup qu...|          Other|\n",
            "+--------------------+---------------+\n",
            "only showing top 20 rows\n",
            "\n"
          ]
        }
      ],
      "source": [
        "# if tournament has 'Friendly' add tournament_type as 'Friendly'\n",
        "\n",
        "data = data.withColumn(\"tournament_type\",\n",
        "                        when(col(\"tournament\").contains(\"Friendly\"), \"Friendly\")\n",
        "                        .otherwise(col(\"tournament_type\")))\n",
        "data.select(\"tournament\", \"tournament_type\").show(20)"
      ]
    },
    {
      "cell_type": "code",
      "execution_count": null,
      "metadata": {
        "colab": {
          "base_uri": "https://localhost:8080/"
        },
        "id": "lINnm9d0hhkQ",
        "outputId": "885d38a4-7c4d-429d-9a29-829d19ebc159"
      },
      "outputs": [
        {
          "output_type": "stream",
          "name": "stdout",
          "text": [
            "+----------+---------------+------------------+-------------------+-------------------+-------------------+-------------------+---------------------------+---------------------------+---------------+---------------+--------------------+--------------+---------------+----------------+---------+----------------+------------+----+-------------------------------+-------------------------+---------------------------+--------------+---------+---------------+\n",
            "|      date|      home_team|         away_team|home_team_continent|away_team_continent|home_team_fifa_rank|away_team_fifa_rank|home_team_total_fifa_points|away_team_total_fifa_points|home_team_score|away_team_score|          tournament|          city|        country|neutral_location|shoot_out|home_team_result|Result_Class|year|home_team_total_fifa_points_vec|home_team_continent_index|home_team_continent_encoded|fifa_rank_diff|goal_diff|tournament_type|\n",
            "+----------+---------------+------------------+-------------------+-------------------+-------------------+-------------------+---------------------------+---------------------------+---------------+---------------+--------------------+--------------+---------------+----------------+---------+----------------+------------+----+-------------------------------+-------------------------+---------------------------+--------------+---------+---------------+\n",
            "|1993-08-08|           Peru|          Colombia|      South America|      South America|                 70|                 19|                          0|                          0|              0|              1|FIFA World Cup qu...|          Lima|           Peru|           false|       No|            Lose|           0|1993|                          [0.0]|                      4.0|              (5,[4],[1.0])|            51|       -1|          Other|\n",
            "|1993-10-26|  Liechtenstein|           Estonia|             Europe|             Europe|                157|                119|                          0|                          0|              0|              2|            Friendly|       Balzers|  Liechtenstein|           false|       No|            Lose|           0|1993|                          [0.0]|                      0.0|              (5,[0],[1.0])|            38|       -2|       Friendly|\n",
            "|1994-01-26|   Saudi Arabia|          China PR|               Asia|               Asia|                 38|                 53|                          0|                          0|              1|              1|            Friendly|        Riyadh|   Saudi Arabia|           false|       No|            Draw|           1|1994|                          [0.0]|                      2.0|              (5,[2],[1.0])|           -15|        0|       Friendly|\n",
            "|1994-03-23|       Scotland|       Netherlands|             Europe|             Europe|                 30|                  9|                          0|                          0|              0|              1|            Friendly|       Glasgow|       Scotland|           false|       No|            Lose|           0|1994|                          [0.0]|                      0.0|              (5,[0],[1.0])|            21|       -1|       Friendly|\n",
            "|1994-03-31|         Zambia|     Côte d'Ivoire|             Africa|             Africa|                 22|                 28|                          0|                          0|              1|              0|African Cup of Na...|        Sousse|        Tunisia|            true|       No|             Win|           2|1994|                          [0.0]|                      1.0|              (5,[1],[1.0])|            -6|        1|          Other|\n",
            "|1994-06-12|      Australia|      South Africa|            Oceania|             Africa|                 44|                 78|                          0|                          0|              1|              0|            Friendly|        Sydney|      Australia|           false|       No|             Win|           2|1994|                          [0.0]|                      5.0|                  (5,[],[])|           -34|        1|       Friendly|\n",
            "|1994-09-04|          Congo|            Gambia|             Africa|             Africa|                110|                108|                          0|                          0|              1|              1|African Cup of Na...|  Pointe-Noire|          Congo|           false|       No|            Draw|           1|1994|                          [0.0]|                      1.0|              (5,[1],[1.0])|             2|        0|          Other|\n",
            "|1995-06-03|       Portugal|            Latvia|             Europe|             Europe|                 16|                 76|                          0|                          0|              3|              2|UEFA Euro qualifi...|         Porto|       Portugal|           false|       No|             Win|           2|1995|                          [0.0]|                      0.0|              (5,[0],[1.0])|           -60|        1|          Other|\n",
            "|1995-08-06|          Japan|        Costa Rica|               Asia|      North America|                 36|                 71|                          0|                          0|              3|              0|            Friendly|         Kyoto|          Japan|           false|       No|             Win|           2|1995|                          [0.0]|                      2.0|              (5,[2],[1.0])|           -35|        3|       Friendly|\n",
            "|1995-09-06|North Macedonia|           Armenia|             Europe|             Europe|                 99|                127|                          0|                          0|              1|              2|UEFA Euro qualifi...|        Skopje|North Macedonia|           false|       No|            Lose|           0|1995|                          [0.0]|                      0.0|              (5,[0],[1.0])|           -28|       -1|          Other|\n",
            "|1995-10-07|       Bulgaria|           Albania|             Europe|             Europe|                 14|                102|                          0|                          0|              3|              0|UEFA Euro qualifi...|         Sofia|       Bulgaria|           false|       No|             Win|           2|1995|                          [0.0]|                      0.0|              (5,[0],[1.0])|           -88|        3|          Other|\n",
            "|1995-11-15|        Germany|          Bulgaria|             Europe|             Europe|                  3|                 11|                          0|                          0|              3|              1|UEFA Euro qualifi...|        Berlin|        Germany|           false|       No|             Win|           2|1995|                          [0.0]|                      0.0|              (5,[0],[1.0])|            -8|        2|          Other|\n",
            "|1996-01-08|          Egypt|           Tunisia|             Africa|             Africa|                 23|                 22|                          0|                          0|              2|              1|            Friendly|       Ismaila|          Egypt|           false|       No|             Win|           2|1996|                          [0.0]|                      1.0|              (5,[1],[1.0])|             1|        1|       Friendly|\n",
            "|1996-04-10|        Croatia|           Hungary|             Europe|             Europe|                 43|                 66|                          0|                          0|              4|              1|            Friendly|        Osijek|        Croatia|           false|       No|             Win|           2|1996|                          [0.0]|                      0.0|              (5,[0],[1.0])|           -23|        3|       Friendly|\n",
            "|1996-04-28|          Haiti|Dominican Republic|      North America|      North America|                155|                136|                          0|                          0|              1|              1|CFU Caribbean Cup...|Port-au-Prince|          Haiti|           false|       No|            Draw|           1|1996|                          [0.0]|                      3.0|              (5,[3],[1.0])|            19|        0|          Other|\n",
            "|1996-08-14|       Honduras|       El Salvador|      North America|      North America|                 49|                 76|                          0|                          0|              2|              1|            Friendly|San Pedro Sula|       Honduras|           false|       No|             Win|           2|1996|                          [0.0]|                      3.0|              (5,[3],[1.0])|           -27|        1|       Friendly|\n",
            "|1996-10-09|      Venezuela|         Argentina|      South America|      South America|                118|                 22|                          0|                          0|              2|              5|FIFA World Cup qu...| San Cristóbal|      Venezuela|           false|       No|            Lose|           0|1996|                          [0.0]|                      4.0|              (5,[4],[1.0])|            96|       -3|          Other|\n",
            "|1996-11-16|        Estonia|         Indonesia|             Europe|               Asia|                109|                113|                          0|                          0|              3|              0|            Friendly|  Celle Ligure|          Italy|            true|       No|             Win|           2|1996|                          [0.0]|                      0.0|              (5,[0],[1.0])|            -4|        3|       Friendly|\n",
            "|1996-11-16|   Saudi Arabia|             Syria|               Asia|               Asia|                 40|                132|                          0|                          0|              3|              1|            Friendly|        Jeddah|   Saudi Arabia|           false|       No|             Win|           2|1996|                          [0.0]|                      2.0|              (5,[2],[1.0])|           -92|        2|       Friendly|\n",
            "|1996-11-19|          Kenya|            Rwanda|             Africa|             Africa|                102|                164|                          0|                          0|              2|              1|          CECAFA Cup|       Kassala|          Sudan|            true|       No|             Win|           2|1996|                          [0.0]|                      1.0|              (5,[1],[1.0])|           -62|        1|          Other|\n",
            "+----------+---------------+------------------+-------------------+-------------------+-------------------+-------------------+---------------------------+---------------------------+---------------+---------------+--------------------+--------------+---------------+----------------+---------+----------------+------------+----+-------------------------------+-------------------------+---------------------------+--------------+---------+---------------+\n",
            "only showing top 20 rows\n",
            "\n"
          ]
        }
      ],
      "source": [
        "# sample some data, scroll right to see new features created\n",
        "\n",
        "data.sample(fraction=0.01).show()\n"
      ]
    },
    {
      "cell_type": "markdown",
      "metadata": {
        "id": "pe5M_KsCk6-I"
      },
      "source": [
        "#### Lets Visualize the distribution of tournament type feature we created"
      ]
    },
    {
      "cell_type": "code",
      "execution_count": null,
      "metadata": {
        "colab": {
          "base_uri": "https://localhost:8080/",
          "height": 507
        },
        "id": "08KJv20kkjeW",
        "outputId": "e8b91045-d027-4f97-9a31-c996e33ea897"
      },
      "outputs": [
        {
          "output_type": "display_data",
          "data": {
            "text/plain": [
              "<Figure size 1200x500 with 2 Axes>"
            ],
            "image/png": "[encoded data removed]"
          },
          "metadata": {}
        }
      ],
      "source": [
        "import matplotlib.pyplot as plt\n",
        "# Calculate value counts for tournament_type\n",
        "tournament_type_counts = data.groupBy(\"tournament_type\").count().toPandas()\n",
        "\n",
        "# Create subplots\n",
        "fig, axes = plt.subplots(1, 2, figsize=(12, 5))\n",
        "\n",
        "# Bar plot\n",
        "sns.barplot(x=\"tournament_type\", y=\"count\", data=tournament_type_counts, ax=axes[0])\n",
        "axes[0].set_title(\"Value Counts by Tournament Type\")\n",
        "axes[0].set_xlabel(\"Tournament Type\")\n",
        "axes[0].set_ylabel(\"Count\")\n",
        "\n",
        "# Pie chart\n",
        "axes[1].pie(tournament_type_counts[\"count\"], labels=tournament_type_counts[\"tournament_type\"], autopct='%1.1f%%', startangle=90)\n",
        "axes[1].set_title(\"Distribution of Tournament Types\")\n",
        "\n",
        "plt.tight_layout()\n",
        "plt.show()\n"
      ]
    },
    {
      "cell_type": "markdown",
      "metadata": {
        "id": "LUWkDvXoUWhn"
      },
      "source": [
        "### Chapter 6: Model Building"
      ]
    },
    {
      "cell_type": "markdown",
      "metadata": {
        "id": "fuKpfFrdUflc"
      },
      "source": [
        "We will spend some time on model building now. Before that we will make sure the feature set is ready."
      ]
    },
    {
      "cell_type": "code",
      "execution_count": null,
      "metadata": {
        "colab": {
          "base_uri": "https://localhost:8080/"
        },
        "id": "Z_ldAnltUduw",
        "outputId": "df2c1b0b-1029-43f5-eb45-107cdbbc9bc6"
      },
      "outputs": [
        {
          "output_type": "stream",
          "name": "stdout",
          "text": [
            "+----------+---------+------------+-------------------+-------------------+-------------------+-------------------+---------------------------+---------------------------+---------------+---------------+--------------------+--------+--------+----------------+---------+----------------+------------+----+-------------------------------+-------------------------+---------------------------+--------------+---------+---------------+\n",
            "|      date|home_team|   away_team|home_team_continent|away_team_continent|home_team_fifa_rank|away_team_fifa_rank|home_team_total_fifa_points|away_team_total_fifa_points|home_team_score|away_team_score|          tournament|    city| country|neutral_location|shoot_out|home_team_result|Result_Class|year|home_team_total_fifa_points_vec|home_team_continent_index|home_team_continent_encoded|fifa_rank_diff|goal_diff|tournament_type|\n",
            "+----------+---------+------------+-------------------+-------------------+-------------------+-------------------+---------------------------+---------------------------+---------------+---------------+--------------------+--------+--------+----------------+---------+----------------+------------+----+-------------------------------+-------------------------+---------------------------+--------------+---------+---------------+\n",
            "|1993-08-08|  Bolivia|     Uruguay|      South America|      South America|                 59|                 22|                          0|                          0|              3|              1|FIFA World Cup qu...|  La Paz| Bolivia|           false|       No|             Win|           2|1993|                          [0.0]|                      4.0|              (5,[4],[1.0])|            37|        2|          Other|\n",
            "|1993-08-08|   Brazil|      Mexico|      South America|      North America|                  8|                 14|                          0|                          0|              1|              1|            Friendly|  Maceió|  Brazil|           false|       No|            Draw|           1|1993|                          [0.0]|                      4.0|              (5,[4],[1.0])|            -6|        0|       Friendly|\n",
            "|1993-08-08|  Ecuador|   Venezuela|      South America|      South America|                 35|                 94|                          0|                          0|              5|              0|FIFA World Cup qu...|   Quito| Ecuador|           false|       No|             Win|           2|1993|                          [0.0]|                      4.0|              (5,[4],[1.0])|           -59|        5|          Other|\n",
            "|1993-08-08|   Guinea|Sierra Leone|             Africa|             Africa|                 65|                 86|                          0|                          0|              1|              0|            Friendly| Conakry|  Guinea|           false|       No|             Win|           2|1993|                          [0.0]|                      1.0|              (5,[1],[1.0])|           -21|        1|       Friendly|\n",
            "|1993-08-08| Paraguay|   Argentina|      South America|      South America|                 67|                  5|                          0|                          0|              1|              3|FIFA World Cup qu...|Asunción|Paraguay|           false|       No|            Lose|           0|1993|                          [0.0]|                      4.0|              (5,[4],[1.0])|            62|       -2|          Other|\n",
            "+----------+---------+------------+-------------------+-------------------+-------------------+-------------------+---------------------------+---------------------------+---------------+---------------+--------------------+--------+--------+----------------+---------+----------------+------------+----+-------------------------------+-------------------------+---------------------------+--------------+---------+---------------+\n",
            "only showing top 5 rows\n",
            "\n"
          ]
        }
      ],
      "source": [
        "data.show(5)"
      ]
    },
    {
      "cell_type": "code",
      "execution_count": null,
      "metadata": {
        "colab": {
          "base_uri": "https://localhost:8080/"
        },
        "id": "1cZaT8Q7Uds3",
        "outputId": "31187a99-a160-4552-863f-2da63132837f"
      },
      "outputs": [
        {
          "output_type": "stream",
          "name": "stdout",
          "text": [
            "Minimum date: 1993-08-08\n",
            "Maximum date: 2022-06-14\n"
          ]
        }
      ],
      "source": [
        "#  print min and max date from data\n",
        "\n",
        "from pyspark.sql.functions import min, max\n",
        "\n",
        "min_date = data.select(min(\"date\")).first()[0]\n",
        "max_date = data.select(max(\"date\")).first()[0]\n",
        "\n",
        "print(f\"Minimum date: {min_date}\")\n",
        "print(f\"Maximum date: {max_date}\")\n"
      ]
    },
    {
      "cell_type": "markdown",
      "metadata": {
        "id": "l1fivqLdVoZY"
      },
      "source": [
        "##### Something interesting to notice in time series data, that there is a concept of data drifting, meaning things change over time. It is one important QUESTION in data science: How far back we can go in the historical data to capture the meaningful context. In our case it could be that:\n",
        "\n",
        "- Many players have retired\n",
        "- Rules have changed\n",
        "- New players come into team\n",
        "- Players aged\n",
        "- Other factors"
      ]
    },
    {
      "cell_type": "code",
      "execution_count": null,
      "metadata": {
        "colab": {
          "base_uri": "https://localhost:8080/"
        },
        "id": "L6iMxgHkUdqQ",
        "outputId": "3177f6f1-3af0-4faa-a8ae-7c2f68d647ab"
      },
      "outputs": [
        {
          "output_type": "stream",
          "name": "stdout",
          "text": [
            "+----------+--------------------+-----------------+-------------------+-------------------+-------------------+-------------------+---------------------------+---------------------------+---------------+---------------+----------+---------------+--------------------+----------------+---------+----------------+------------+----+-------------------------------+-------------------------+---------------------------+--------------+---------+---------------+\n",
            "|      date|           home_team|        away_team|home_team_continent|away_team_continent|home_team_fifa_rank|away_team_fifa_rank|home_team_total_fifa_points|away_team_total_fifa_points|home_team_score|away_team_score|tournament|           city|             country|neutral_location|shoot_out|home_team_result|Result_Class|year|home_team_total_fifa_points_vec|home_team_continent_index|home_team_continent_encoded|fifa_rank_diff|goal_diff|tournament_type|\n",
            "+----------+--------------------+-----------------+-------------------+-------------------+-------------------+-------------------+---------------------------+---------------------------+---------------+---------------+----------+---------------+--------------------+----------------+---------+----------------+------------+----+-------------------------------+-------------------------+---------------------------+--------------+---------+---------------+\n",
            "|2004-09-19|          Mozambique|           Angola|             Africa|             Africa|                125|                 82|                          0|                          0|              0|              1|COSAFA Cup|         Maputo|          Mozambique|           false|       No|            Lose|           0|2004|                          [0.0]|                      1.0|              (5,[1],[1.0])|            43|       -1|          Other|\n",
            "|2004-09-25|British Virgin Is...|US Virgin Islands|      North America|      North America|                179|                200|                          0|                          0|              2|              1|  Friendly|      Road Town|British Virgin Is...|           false|       No|             Win|           2|2004|                          [0.0]|                      3.0|              (5,[3],[1.0])|           -21|        1|       Friendly|\n",
            "|2004-09-29|              Kuwait|            Syria|               Asia|               Asia|                 55|                 84|                          0|                          0|              1|              1|  Friendly|        Tripoli|             Lebanon|            true|       No|            Draw|           1|2004|                          [0.0]|                      2.0|              (5,[2],[1.0])|           -29|        0|       Friendly|\n",
            "|2004-09-30|            Botswana|           Zambia|             Africa|             Africa|                107|                 72|                          0|                          0|              1|              0|  Friendly|       Gaborone|            Botswana|           false|       No|             Win|           2|2004|                          [0.0]|                      1.0|              (5,[1],[1.0])|            35|        1|       Friendly|\n",
            "|2004-10-02|             Jamaica|        Guatemala|      North America|      North America|                 53|                 64|                          0|                          0|              2|              2|  Friendly|Fort Lauderdale|                 USA|            true|       No|            Draw|           1|2004|                          [0.0]|                      3.0|              (5,[3],[1.0])|           -11|        0|       Friendly|\n",
            "+----------+--------------------+-----------------+-------------------+-------------------+-------------------+-------------------+---------------------------+---------------------------+---------------+---------------+----------+---------------+--------------------+----------------+---------+----------------+------------+----+-------------------------------+-------------------------+---------------------------+--------------+---------+---------------+\n",
            "only showing top 5 rows\n",
            "\n"
          ]
        }
      ],
      "source": [
        "# filter data from last twenty years: since major tournaments like worldcup happens once every four years\n",
        "\n",
        "from pyspark.sql.functions import current_date, datediff\n",
        "\n",
        "# Calculate the date ten years ago\n",
        "twenty_years_ago = current_date() - F.expr(\"INTERVAL 20 years\")\n",
        "\n",
        "# Filter the data to include only the last ten years\n",
        "filtered_data = data.filter(F.col(\"date\") >= twenty_years_ago)\n",
        "\n",
        "filtered_data.show(5)\n"
      ]
    },
    {
      "cell_type": "code",
      "execution_count": null,
      "metadata": {
        "colab": {
          "base_uri": "https://localhost:8080/"
        },
        "id": "HTtlqW5mUdof",
        "outputId": "713048c2-1e40-45c3-85f6-e52303343dc8"
      },
      "outputs": [
        {
          "output_type": "stream",
          "name": "stdout",
          "text": [
            "Original data count: 23921\n",
            "Filtered data count: 15567\n",
            "Data lost: 8354\n",
            "Percentage of data lost: 34.92%\n"
          ]
        }
      ],
      "source": [
        "# check how much data pointt we lost compare size of data and filtered_data\n",
        "\n",
        "original_data_count = data.count()\n",
        "filtered_data_count = filtered_data.count()\n",
        "\n",
        "data_lost = original_data_count - filtered_data_count\n",
        "\n",
        "print(f\"Original data count: {original_data_count}\")\n",
        "print(f\"Filtered data count: {filtered_data_count}\")\n",
        "print(f\"Data lost: {data_lost}\")\n",
        "print(f\"Percentage of data lost: {(data_lost / original_data_count) * 100:.2f}%\")\n"
      ]
    },
    {
      "cell_type": "code",
      "execution_count": null,
      "metadata": {
        "id": "mFciTkRFUdmV",
        "colab": {
          "base_uri": "https://localhost:8080/"
        },
        "outputId": "d621b6f1-9e0f-4d13-fa21-5142e10ca405"
      },
      "outputs": [
        {
          "output_type": "stream",
          "name": "stdout",
          "text": [
            "+------------------------------+\n",
            "|home_team                     |\n",
            "+------------------------------+\n",
            "|Afghanistan                   |\n",
            "|Albania                       |\n",
            "|Algeria                       |\n",
            "|American Samoa                |\n",
            "|Andorra                       |\n",
            "|Angola                        |\n",
            "|Anguilla                      |\n",
            "|Antigua and Barbuda           |\n",
            "|Argentina                     |\n",
            "|Armenia                       |\n",
            "|Aruba                         |\n",
            "|Australia                     |\n",
            "|Austria                       |\n",
            "|Azerbaijan                    |\n",
            "|Bahamas                       |\n",
            "|Bahrain                       |\n",
            "|Bangladesh                    |\n",
            "|Barbados                      |\n",
            "|Belarus                       |\n",
            "|Belgium                       |\n",
            "|Belize                        |\n",
            "|Benin                         |\n",
            "|Bermuda                       |\n",
            "|Bhutan                        |\n",
            "|Bolivia                       |\n",
            "|Bosnia and Herzegovina        |\n",
            "|Botswana                      |\n",
            "|Brazil                        |\n",
            "|British Virgin Islands        |\n",
            "|Brunei Darussalam             |\n",
            "|Bulgaria                      |\n",
            "|Burkina Faso                  |\n",
            "|Burundi                       |\n",
            "|Cabo Verde                    |\n",
            "|Cambodia                      |\n",
            "|Cameroon                      |\n",
            "|Canada                        |\n",
            "|Cayman Islands                |\n",
            "|Central African Republic      |\n",
            "|Chad                          |\n",
            "|Chile                         |\n",
            "|China PR                      |\n",
            "|Chinese Taipei                |\n",
            "|Colombia                      |\n",
            "|Comoros                       |\n",
            "|Congo                         |\n",
            "|Congo DR                      |\n",
            "|Cook Islands                  |\n",
            "|Costa Rica                    |\n",
            "|Croatia                       |\n",
            "|Cuba                          |\n",
            "|Curaçao                       |\n",
            "|Cyprus                        |\n",
            "|Czech Republic                |\n",
            "|Côte d'Ivoire                 |\n",
            "|Denmark                       |\n",
            "|Djibouti                      |\n",
            "|Dominica                      |\n",
            "|Dominican Republic            |\n",
            "|Ecuador                       |\n",
            "|Egypt                         |\n",
            "|El Salvador                   |\n",
            "|England                       |\n",
            "|Equatorial Guinea             |\n",
            "|Eritrea                       |\n",
            "|Estonia                       |\n",
            "|Eswatini                      |\n",
            "|Ethiopia                      |\n",
            "|Faroe Islands                 |\n",
            "|Fiji                          |\n",
            "|Finland                       |\n",
            "|France                        |\n",
            "|Gabon                         |\n",
            "|Gambia                        |\n",
            "|Georgia                       |\n",
            "|Germany                       |\n",
            "|Ghana                         |\n",
            "|Gibraltar                     |\n",
            "|Greece                        |\n",
            "|Grenada                       |\n",
            "|Guam                          |\n",
            "|Guatemala                     |\n",
            "|Guinea                        |\n",
            "|Guinea-Bissau                 |\n",
            "|Guyana                        |\n",
            "|Haiti                         |\n",
            "|Honduras                      |\n",
            "|Hong Kong                     |\n",
            "|Hungary                       |\n",
            "|IR Iran                       |\n",
            "|Iceland                       |\n",
            "|India                         |\n",
            "|Indonesia                     |\n",
            "|Iraq                          |\n",
            "|Israel                        |\n",
            "|Italy                         |\n",
            "|Jamaica                       |\n",
            "|Japan                         |\n",
            "|Jordan                        |\n",
            "|Kazakhstan                    |\n",
            "|Kenya                         |\n",
            "|Korea DPR                     |\n",
            "|Korea Republic                |\n",
            "|Kosovo                        |\n",
            "|Kuwait                        |\n",
            "|Kyrgyz Republic               |\n",
            "|Laos                          |\n",
            "|Latvia                        |\n",
            "|Lebanon                       |\n",
            "|Lesotho                       |\n",
            "|Liberia                       |\n",
            "|Libya                         |\n",
            "|Liechtenstein                 |\n",
            "|Lithuania                     |\n",
            "|Luxembourg                    |\n",
            "|Macau                         |\n",
            "|Madagascar                    |\n",
            "|Malawi                        |\n",
            "|Malaysia                      |\n",
            "|Maldives                      |\n",
            "|Mali                          |\n",
            "|Malta                         |\n",
            "|Mauritania                    |\n",
            "|Mauritius                     |\n",
            "|Mexico                        |\n",
            "|Moldova                       |\n",
            "|Mongolia                      |\n",
            "|Montenegro                    |\n",
            "|Montserrat                    |\n",
            "|Morocco                       |\n",
            "|Mozambique                    |\n",
            "|Myanmar                       |\n",
            "|Namibia                       |\n",
            "|Nepal                         |\n",
            "|Netherlands                   |\n",
            "|New Caledonia                 |\n",
            "|New Zealand                   |\n",
            "|Nicaragua                     |\n",
            "|Niger                         |\n",
            "|Nigeria                       |\n",
            "|North Macedonia               |\n",
            "|Northern Ireland              |\n",
            "|Norway                        |\n",
            "|Oman                          |\n",
            "|Pakistan                      |\n",
            "|Palestine                     |\n",
            "|Panama                        |\n",
            "|Papua New Guinea              |\n",
            "|Paraguay                      |\n",
            "|Peru                          |\n",
            "|Philippines                   |\n",
            "|Poland                        |\n",
            "|Portugal                      |\n",
            "|Puerto Rico                   |\n",
            "|Qatar                         |\n",
            "|Republic of Ireland           |\n",
            "|Romania                       |\n",
            "|Russia                        |\n",
            "|Rwanda                        |\n",
            "|Samoa                         |\n",
            "|San Marino                    |\n",
            "|Saudi Arabia                  |\n",
            "|Scotland                      |\n",
            "|Senegal                       |\n",
            "|Serbia                        |\n",
            "|Seychelles                    |\n",
            "|Sierra Leone                  |\n",
            "|Singapore                     |\n",
            "|Slovakia                      |\n",
            "|Slovenia                      |\n",
            "|Solomon Islands               |\n",
            "|Somalia                       |\n",
            "|South Africa                  |\n",
            "|South Sudan                   |\n",
            "|Spain                         |\n",
            "|Sri Lanka                     |\n",
            "|St. Kitts and Nevis           |\n",
            "|St. Lucia                     |\n",
            "|St. Vincent and the Grenadines|\n",
            "|Sudan                         |\n",
            "|Suriname                      |\n",
            "|Sweden                        |\n",
            "|Switzerland                   |\n",
            "|Syria                         |\n",
            "|São Tomé and Príncipe         |\n",
            "|Tahiti                        |\n",
            "|Tajikistan                    |\n",
            "|Tanzania                      |\n",
            "|Thailand                      |\n",
            "|Timor-Leste                   |\n",
            "|Togo                          |\n",
            "|Tonga                         |\n",
            "|Trinidad and Tobago           |\n",
            "|Tunisia                       |\n",
            "|Turkey                        |\n",
            "|Turkmenistan                  |\n",
            "|Turks and Caicos Islands      |\n",
            "|US Virgin Islands             |\n",
            "|USA                           |\n",
            "|Uganda                        |\n",
            "|Ukraine                       |\n",
            "|United Arab Emirates          |\n",
            "|Uruguay                       |\n",
            "|Uzbekistan                    |\n",
            "|Vanuatu                       |\n",
            "|Venezuela                     |\n",
            "|Vietnam                       |\n",
            "|Wales                         |\n",
            "|Yemen                         |\n",
            "|Zambia                        |\n",
            "|Zimbabwe                      |\n",
            "+------------------------------+\n",
            "\n"
          ]
        }
      ],
      "source": [
        "# list the unique names in home_team everything without truncate sorting by name\n",
        "\n",
        "data.select('home_team').distinct().orderBy('home_team').show(data.count(), truncate=False)\n"
      ]
    },
    {
      "cell_type": "code",
      "execution_count": null,
      "metadata": {
        "id": "AXt5lu0mUddg",
        "colab": {
          "base_uri": "https://localhost:8080/"
        },
        "outputId": "4a32eb85-feb0-40bf-cc2a-fd029208ca7b"
      },
      "outputs": [
        {
          "output_type": "stream",
          "name": "stdout",
          "text": [
            "+----------+--------------------+-----------------+-------------------+-------------------+-------------------+-------------------+---------------------------+---------------------------+---------------+---------------+---------------+--------------------+----------------+---------+--------------+---------+---------------+------------+\n",
            "|      date|           home_team|        away_team|home_team_continent|away_team_continent|home_team_fifa_rank|away_team_fifa_rank|home_team_total_fifa_points|away_team_total_fifa_points|home_team_score|away_team_score|           city|             country|neutral_location|shoot_out|fifa_rank_diff|goal_diff|tournament_type|Result_Class|\n",
            "+----------+--------------------+-----------------+-------------------+-------------------+-------------------+-------------------+---------------------------+---------------------------+---------------+---------------+---------------+--------------------+----------------+---------+--------------+---------+---------------+------------+\n",
            "|2004-09-19|          Mozambique|           Angola|             Africa|             Africa|                125|                 82|                          0|                          0|              0|              1|         Maputo|          Mozambique|           false|       No|            43|       -1|          Other|           0|\n",
            "|2004-09-25|British Virgin Is...|US Virgin Islands|      North America|      North America|                179|                200|                          0|                          0|              2|              1|      Road Town|British Virgin Is...|           false|       No|           -21|        1|       Friendly|           2|\n",
            "|2004-09-29|              Kuwait|            Syria|               Asia|               Asia|                 55|                 84|                          0|                          0|              1|              1|        Tripoli|             Lebanon|            true|       No|           -29|        0|       Friendly|           1|\n",
            "|2004-09-30|            Botswana|           Zambia|             Africa|             Africa|                107|                 72|                          0|                          0|              1|              0|       Gaborone|            Botswana|           false|       No|            35|        1|       Friendly|           2|\n",
            "|2004-10-02|             Jamaica|        Guatemala|      North America|      North America|                 53|                 64|                          0|                          0|              2|              2|Fort Lauderdale|                 USA|            true|       No|           -11|        0|       Friendly|           1|\n",
            "+----------+--------------------+-----------------+-------------------+-------------------+-------------------+-------------------+---------------------------+---------------------------+---------------+---------------+---------------+--------------------+----------------+---------+--------------+---------+---------------+------------+\n",
            "only showing top 5 rows\n",
            "\n"
          ]
        }
      ],
      "source": [
        "## Lets clean up our features now: for learning purpose we added everything\n",
        "\n",
        "selected_columns = ['date', 'home_team', 'away_team', 'home_team_continent',\n",
        "       'away_team_continent', 'home_team_fifa_rank', 'away_team_fifa_rank',\n",
        "       'home_team_total_fifa_points', 'away_team_total_fifa_points',\n",
        "       'home_team_score', 'away_team_score', 'city', 'country',\n",
        "       'neutral_location', 'shoot_out',\n",
        "       'fifa_rank_diff', 'goal_diff','tournament_type', 'Result_Class']\n",
        "\n",
        "filtered_data = filtered_data.select(selected_columns)\n",
        "filtered_data.show(5)"
      ]
    },
    {
      "cell_type": "markdown",
      "source": [
        "#### Lets Build our first ML model"
      ],
      "metadata": {
        "id": "hlL6CJhZIhcR"
      }
    },
    {
      "cell_type": "code",
      "execution_count": null,
      "metadata": {
        "id": "bpDi7r24UdYx",
        "colab": {
          "base_uri": "https://localhost:8080/"
        },
        "outputId": "8441e61a-3cc2-482b-9d72-74bc96171ceb"
      },
      "outputs": [
        {
          "output_type": "stream",
          "name": "stdout",
          "text": [
            "Accuracy: 0.99\n"
          ]
        }
      ],
      "source": [
        "from pyspark.ml.classification import LogisticRegression\n",
        "from pyspark.ml.evaluation import MulticlassClassificationEvaluator\n",
        "from pyspark.ml.feature import StringIndexer, VectorAssembler\n",
        "\n",
        "## changing shoot_out from boolean to int encode\n",
        "filtered_data = filtered_data.withColumn(\"shoot_out\", when(col(\"shoot_out\") == \"Yes\", 1).otherwise(0))\n",
        "\n",
        "# Split the data into training and testing sets (80% training, 20% testing)\n",
        "train_data, test_data = filtered_data.randomSplit([0.8, 0.2], seed=42)\n",
        "\n",
        "# Convert categorical features to numerical using StringIndexer\n",
        "categorical_cols = ['home_team', 'away_team', 'home_team_continent', 'away_team_continent', 'city', 'country', 'tournament_type']\n",
        "indexers = [StringIndexer(inputCol=col, outputCol=col + \"_index\").fit(filtered_data) for col in categorical_cols]\n",
        "\n",
        "for indexer in indexers:\n",
        "  train_data = indexer.transform(train_data)\n",
        "  test_data = indexer.transform(test_data)\n",
        "\n",
        "# Assemble features into a vector\n",
        "feature_cols = ['home_team_fifa_rank', 'away_team_fifa_rank',\n",
        "                'home_team_total_fifa_points', 'away_team_total_fifa_points',\n",
        "                'home_team_score', 'away_team_score',\n",
        "                'neutral_location', 'shoot_out', 'fifa_rank_diff', 'goal_diff'] + [col + \"_index\" for col in categorical_cols]\n",
        "\n",
        "assembler = VectorAssembler(inputCols=feature_cols, outputCol=\"features\")\n",
        "train_data = assembler.transform(train_data)\n",
        "test_data = assembler.transform(test_data)\n",
        "\n",
        "# Separate features and label\n",
        "train_data = train_data.select(\"features\", \"Result_Class\")\n",
        "test_data = test_data.select(\"features\", \"Result_Class\")\n",
        "\n",
        "\n",
        "\n",
        "# Build a Logistic Regression model\n",
        "lr = LogisticRegression(featuresCol=\"features\", labelCol=\"Result_Class\")\n",
        "model = lr.fit(train_data)\n",
        "\n",
        "# Make predictions on the test data\n",
        "predictions = model.transform(test_data)\n",
        "\n",
        "# Evaluate the model\n",
        "evaluator = MulticlassClassificationEvaluator(labelCol=\"Result_Class\", predictionCol=\"prediction\", metricName=\"accuracy\")\n",
        "accuracy = evaluator.evaluate(predictions)\n",
        "print(\"Accuracy:\", round(accuracy,2))"
      ]
    },
    {
      "cell_type": "code",
      "execution_count": null,
      "metadata": {
        "id": "HdIcqPEoUdTd",
        "colab": {
          "base_uri": "https://localhost:8080/"
        },
        "outputId": "4c4461cb-a5ba-4d6d-a209-bd544e0a6293"
      },
      "outputs": [
        {
          "output_type": "stream",
          "name": "stdout",
          "text": [
            "Confusion Matrix:\n",
            "----------------------\n",
            "[[ 877   15    0]\n",
            " [   0  705    0]\n",
            " [   1   17 1440]]\n"
          ]
        }
      ],
      "source": [
        "import warnings\n",
        "warnings.filterwarnings(\"ignore\")\n",
        "\n",
        "from pyspark.mllib.evaluation import MulticlassMetrics\n",
        "from pyspark.sql.functions import col\n",
        "\n",
        "# Make predictions on the test data\n",
        "predictions = model.transform(test_data)\n",
        "\n",
        "# Select prediction and true label columns and cast to double\n",
        "predictionAndLabels = predictions.select(col(\"prediction\").cast(\"double\"), col(\"Result_Class\").cast(\"double\")).rdd\n",
        "\n",
        "# Instantiate metrics object\n",
        "metrics = MulticlassMetrics(predictionAndLabels)\n",
        "\n",
        "# Generate confusion matrix\n",
        "confusion_matrix = metrics.confusionMatrix().toArray()\n",
        "\n",
        "print(\"Confusion Matrix:\")\n",
        "print(\"----------------------\")\n",
        "print(np.round(confusion_matrix).astype(int))"
      ]
    },
    {
      "cell_type": "code",
      "source": [
        "# Lets calculate Precision Recall and change to our original label  {'Lose': 0, 'Draw': 1, 'Win': 2}\n",
        "\n",
        "import numpy as np\n",
        "# Assuming 'confusion_matrix' is the confusion matrix you obtained\n",
        "# and the mapping is {'Lose': 0, 'Draw': 1, 'Win': 2}\n",
        "\n",
        "# Calculate precision and recall for each class\n",
        "labels = ['Lose', 'Draw', 'Win']\n",
        "for i in range(3):\n",
        "    tp = confusion_matrix[i][i]\n",
        "    fp = np.sum(confusion_matrix[:, i]) - tp\n",
        "    fn = np.sum(confusion_matrix[i, :]) - tp\n",
        "    tn = np.sum(confusion_matrix) - tp - fp - fn\n",
        "\n",
        "    precision = tp / (tp + fp) if (tp + fp) > 0 else 0\n",
        "    recall = tp / (tp + fn) if (tp + fn) > 0 else 0\n",
        "\n",
        "    print(f\"Class: {labels[i]}\")\n",
        "    print(f\"Precision: {precision:.4f}\")\n",
        "    print(f\"Recall: {recall:.4f}\")\n",
        "    print(\"-\" * 20)"
      ],
      "metadata": {
        "colab": {
          "base_uri": "https://localhost:8080/"
        },
        "id": "1GZav_44Nehe",
        "outputId": "8fff9b76-28de-4c25-e15f-9afe725969fb"
      },
      "execution_count": null,
      "outputs": [
        {
          "output_type": "stream",
          "name": "stdout",
          "text": [
            "Class: Lose\n",
            "Precision: 0.9889\n",
            "Recall: 0.9944\n",
            "--------------------\n",
            "Class: Draw\n",
            "Precision: 1.0000\n",
            "Recall: 1.0000\n",
            "--------------------\n",
            "Class: Win\n",
            "Precision: 0.9966\n",
            "Recall: 0.9931\n",
            "--------------------\n"
          ]
        }
      ]
    },
    {
      "cell_type": "markdown",
      "metadata": {
        "id": "-5tkxamzPHEY"
      },
      "source": [
        "### STAY TUNED !!! MORE CHAPTERS ARE COMING\n",
        "\n",
        "#### Chapter 7: More Models to Try and Evaluate"
      ]
    },
    {
      "cell_type": "code",
      "execution_count": null,
      "metadata": {
        "id": "QkZrxTail6y7"
      },
      "outputs": [],
      "source": []
    }
  ],
  "metadata": {
    "colab": {
      "provenance": [],
      "include_colab_link": true
    },
    "kernelspec": {
      "display_name": "Python 3",
      "name": "python3"
    },
    "language_info": {
      "name": "python"
    }
  },
  "nbformat": 4,
  "nbformat_minor": 0
}